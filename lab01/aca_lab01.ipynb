{
 "cells": [
  {
   "cell_type": "markdown",
   "metadata": {},
   "source": [
    "<style>\n",
    "th {background-color:#55FF33;}\n",
    "td {background-color:#00FFFF;}\n",
    "</style>"
   ]
  },
  {
   "cell_type": "markdown",
   "metadata": {},
   "source": [
    "<img align=\"right\" style=\"max-width: 200px; height: auto\" src=\"01_images/hsg_logo.png\">\n",
    "\n",
    "### Lab 01 - \"Indikatorbasierte Analyseverfahren\"\n",
    "\n",
    "ACA Lehrgang \"Internal Audit Knowledge Elements\", Universität St. Gallen, 15. Januar 2020"
   ]
  },
  {
   "cell_type": "markdown",
   "metadata": {},
   "source": [
    "Die Laborumgebung des Kurses **\"Internal Audit Knowledge Elements\"** an der Universität St. Gallen basiert auf Jupyter Notebooks (https://jupyter.org), die es erlauben, eine Vielzahl von statistischen Auswertungen und Datenanalysen durchzuführen.\n",
    "\n",
    "Im letzten Lab lernten wir die grundlegende Funktionsweise von Jupyter Notebooks kennen. In diesem Lab werden wir Jupyter Notebook nutzen, um einige Elemente des revisorischen Datenanalyseprozesses zu vertiefen. Das Hauptziel dieses Labs ist es hierbei, exemplarisch die Schritte des Datenimports, der Datenvalidierung sowie der Datenanalyse an einem konkreten Beispiel durchzuführen:"
   ]
  },
  {
   "cell_type": "markdown",
   "metadata": {},
   "source": [
    "<img align=\"center\" style=\"max-width: 800px; height: auto\" src=\"01_images/process.png\">"
   ]
  },
  {
   "cell_type": "markdown",
   "metadata": {},
   "source": [
    "Zögern Sie bitte nicht Fragen entweder unmittelbar während der Durchführung des Labs zu stellen oder uns im Nachgang eine E-Mail an marco.schreyer@unisg.ch zu senden."
   ]
  },
  {
   "cell_type": "markdown",
   "metadata": {},
   "source": [
    "### Lernziele des Labs:"
   ]
  },
  {
   "cell_type": "markdown",
   "metadata": {},
   "source": [
    "Das vorliegende Lab sollte Ihnen ermöglichen:\n",
    "    \n",
    "> 1. Zu verstehen wie sich unter Verwendung von **Jupyter** und **Python** revisorische Datenanalysen durchführen lassen.\n",
    "> 2. Die **Pandas** Bibliothek zu verwenden um eine Vielfalt von Transaktionsdaten zielgerichtet zu analysieren.\n",
    "> 3. Die **Matplotlib** Bibliothek zu verwenden um eigene Datenvisualisierungen zu erstellen.\n",
    "> 4. Erste **konkretere Ideen** für mögliche Datenanalysen innerhalb Ihres Unternehmens bzw. Ihrer Institution zu entwickeln."
   ]
  },
  {
   "cell_type": "markdown",
   "metadata": {},
   "source": [
    "Aber bevor wir beginnen lassen Sie uns ein kurzes Motivationsvideo schauen:"
   ]
  },
  {
   "cell_type": "code",
   "execution_count": 1,
   "metadata": {},
   "outputs": [],
   "source": [
    "from IPython.display import YouTubeVideo\n",
    "# NVIDIA: \"I AM AI\"\n",
    "# YouTubeVideo('SUNPrR4o5ZA', width=1024, height=576)"
   ]
  },
  {
   "cell_type": "markdown",
   "metadata": {},
   "source": [
    "### 0. Analyseumgebung"
   ]
  },
  {
   "cell_type": "markdown",
   "metadata": {},
   "source": [
    "In Analogie zu unserem Einführungslab, ist es zunächst wieder notwendig einige Python-Bibliotheken zu importieren die uns die Datenakquise, Datenanalyse und Datenvisualisierung erlauben. Im Rahmen dieses Labs werden wir im Besonderen die beiden Bibliotheken (1) **Pandas** (https://pandas.pydata.org) im Rahmen der Datenanalyse und (2) **Matplotlib** (https://matplotlib.org) im Rahmen der Datenvisualiserung verwenden.\n",
    "\n",
    "Importieren wir jedoch zu Beginn die für die Datenakquise benötigten Python Bibliotheken durch die Ausführung der nachfolgenden Anweisungen:"
   ]
  },
  {
   "cell_type": "code",
   "execution_count": 2,
   "metadata": {},
   "outputs": [],
   "source": [
    "import io\n",
    "import zipfile\n",
    "import urllib"
   ]
  },
  {
   "cell_type": "markdown",
   "metadata": {},
   "source": [
    "Importiere nun einige Python \"Utilities\" Bibliotheken:"
   ]
  },
  {
   "cell_type": "code",
   "execution_count": 3,
   "metadata": {},
   "outputs": [],
   "source": [
    "import os # ermöglicht den Zugriff auf das lokale Dateisystem\n",
    "import datetime as dt # ermöglicht die Erstellung von Zeitstempeln"
   ]
  },
  {
   "cell_type": "markdown",
   "metadata": {},
   "source": [
    "Importiere die Python Datenanalyse (oder \"Data Science\") Bibliotheken:"
   ]
  },
  {
   "cell_type": "code",
   "execution_count": 4,
   "metadata": {},
   "outputs": [],
   "source": [
    "import numpy as np\n",
    "import pandas as pd"
   ]
  },
  {
   "cell_type": "markdown",
   "metadata": {},
   "source": [
    "Importiere die Python Datenvisualiserungs Bibliothek und setze globale Parameter der Datenvisualisierung:"
   ]
  },
  {
   "cell_type": "code",
   "execution_count": 5,
   "metadata": {},
   "outputs": [],
   "source": [
    "import matplotlib.pyplot as plt\n",
    "plt.style.use('seaborn')\n",
    "plt.rcParams['figure.figsize'] = [15, 5]\n",
    "plt.rcParams['figure.dpi']= 150"
   ]
  },
  {
   "cell_type": "markdown",
   "metadata": {},
   "source": [
    "Aktivieren das \"Inline-Plotten\" von Visualisierungen innerhalb des aktuellen Notebooks:"
   ]
  },
  {
   "cell_type": "code",
   "execution_count": 6,
   "metadata": {},
   "outputs": [],
   "source": [
    "%matplotlib inline"
   ]
  },
  {
   "cell_type": "markdown",
   "metadata": {},
   "source": [
    "### 1. Datenimport"
   ]
  },
  {
   "cell_type": "markdown",
   "metadata": {},
   "source": [
    "Der synthetische **PaySim** Datensatz simuliert mobile Geldtransaktionen auf der Basis realer Transaktionen, die aus einem Monat Finanzprotokolle eines in einem afrikanischen Land implementierten mobilen Finanzdienstleisters extrahiert wurden. Die ursprünglichen Protokolle wurden von einem multinationalen Unternehmen bereitgestellt, das der Anbieter der mobilen Finanzdienstleistungen ist. Zum Zeitpunkt der Veröffentlichung der Daten operierte der Dienstleister in mehr als 14 Ländern weltweit.\n",
    "\n",
    "Insgesamt umfasst der **PaySim** Datensatz eine Grundgesamtheit von **6.3 Mio. protokollierten Transaktionen**. Jede Transaktion enthält **neun unterschiedliche Merkmale**. Die Merkmalsbezeichnungen sowie ihre jeweils semantische Bedeutung ist nachfolgend angeführt:\n",
    "\n",
    ">- `Step:` Bezeichnet die aktuelle Zeitstunde. Insgesamt 744 Stunden (30 Simulationstage).\n",
    ">- `Type:` Bezeichnet den Typ der Transaktion. Insgesamt 5 verschiedene Transaktionstypen.\n",
    ">- `Amount:` Bezeichnet den transferierten Betrag in lokaler Währung.\n",
    "\n",
    ">- `NameOrig:` Bezeichnet die (anonymisierte) ID des Senders, welcher die Transaktion in Auftrag gab.\n",
    ">- `OldBalanceOrg:` Bezeichnet den initialen Kontostand des Senders vor der Transaktion.\n",
    ">- `NewBalanceOrig:` Bezeichnet den neuen Kontostand des Senders nach erfolgter Transaktion.\n",
    "\n",
    ">- `NameDest:` Bezeichnet die (anonymisierte) ID des Empfängers der Transaktion.\n",
    ">- `OldBalanceOrg:` Bezeichnet den initialen Kontostand des Empfängers vor der Transaktion.\n",
    ">- `NewBalanceOrig:` Bezeichnet den neuen Kontostand des Empfängers nach erfolgter Transaktion.\n",
    "\n",
    "Darüber hinaus ist jede Transaktion mit den nachfolgenden **zwei zusätzlichen Kennzeichen** versehen:\n",
    "\n",
    ">- `isFraud:` Kennzeichnet tatsächliche \"fraudbehaftete\" Transaktionen\n",
    ">- `isFlaggedFraud:` Kennzeichnet durch das System erkannte \"fraudbehaftete\" Transaktionen.\n",
    "\n",
    "Weitere Details des Datensatzes sowie der Datensatz selbst können über die nachfolgende Publikation *E. A. Lopez-Rojas , A. Elmir, and S. Axelsson. \"PaySim: A financial mobile money simulator for fraud detection\". In: The 28th European Modeling and Simulation Symposium-EMSS, Larnaca, Cyprus. 2016* bzw. die nachfolgende Webseite: https://www.kaggle.com/ntnu-testimon/paysim1 bezogen werden.\n",
    "\n",
    "Lassen Sie uns nun einen Teilextrakt des zuvor beschriebenen Datensatzes bestehend aus **2.770.409 protokollierten Transaktionen** in das Notebook importieren. Hierzu definieren wir zunächst den Pfad bzw. die URL der zu importierenden Transaktionsdaten: "
   ]
  },
  {
   "cell_type": "code",
   "execution_count": 7,
   "metadata": {},
   "outputs": [],
   "source": [
    "# setzen der URL der zu beziehenden Transaktionsdaten\n",
    "url = 'https://raw.githubusercontent.com/GitiHubi/courseACA/master/lab01/02_data/transactions.zip'"
   ]
  },
  {
   "cell_type": "markdown",
   "metadata": {},
   "source": [
    "Aufruf der URL und Download des Zip-Archivs in das Notebook:"
   ]
  },
  {
   "cell_type": "code",
   "execution_count": 8,
   "metadata": {},
   "outputs": [],
   "source": [
    "resp = urllib.request.urlopen(url)\n",
    "datazip = zipfile.ZipFile(io.BytesIO(resp.read()))"
   ]
  },
  {
   "cell_type": "markdown",
   "metadata": {},
   "source": [
    "Entpacken der geladenen Zipdatei und Einlesen als Comma-Seperated-Value (CSV) in die Pandas Bibliothek:"
   ]
  },
  {
   "cell_type": "code",
   "execution_count": 9,
   "metadata": {},
   "outputs": [],
   "source": [
    "data = pd.read_csv(datazip.open('transactions.csv'))"
   ]
  },
  {
   "cell_type": "markdown",
   "metadata": {},
   "source": [
    "Inspektion der ersten 10 im Datensatz enthaltenen Transaktionen (Zeilen):"
   ]
  },
  {
   "cell_type": "code",
   "execution_count": 10,
   "metadata": {},
   "outputs": [
    {
     "data": {
      "text/html": [
       "<div>\n",
       "<style scoped>\n",
       "    .dataframe tbody tr th:only-of-type {\n",
       "        vertical-align: middle;\n",
       "    }\n",
       "\n",
       "    .dataframe tbody tr th {\n",
       "        vertical-align: top;\n",
       "    }\n",
       "\n",
       "    .dataframe thead th {\n",
       "        text-align: right;\n",
       "    }\n",
       "</style>\n",
       "<table border=\"1\" class=\"dataframe\">\n",
       "  <thead>\n",
       "    <tr style=\"text-align: right;\">\n",
       "      <th></th>\n",
       "      <th>step</th>\n",
       "      <th>type</th>\n",
       "      <th>amount</th>\n",
       "      <th>nameOrig</th>\n",
       "      <th>oldbalanceOrg</th>\n",
       "      <th>newbalanceOrig</th>\n",
       "      <th>nameDest</th>\n",
       "      <th>oldbalanceDest</th>\n",
       "      <th>newbalanceDest</th>\n",
       "      <th>isFraud</th>\n",
       "      <th>isFlaggedFraud</th>\n",
       "    </tr>\n",
       "  </thead>\n",
       "  <tbody>\n",
       "    <tr>\n",
       "      <th>0</th>\n",
       "      <td>1</td>\n",
       "      <td>TRANSFER</td>\n",
       "      <td>181.00</td>\n",
       "      <td>C1305486145</td>\n",
       "      <td>181.00</td>\n",
       "      <td>0.0</td>\n",
       "      <td>C553264065</td>\n",
       "      <td>0.0</td>\n",
       "      <td>0.00</td>\n",
       "      <td>1</td>\n",
       "      <td>0</td>\n",
       "    </tr>\n",
       "    <tr>\n",
       "      <th>1</th>\n",
       "      <td>1</td>\n",
       "      <td>CASH_OUT</td>\n",
       "      <td>181.00</td>\n",
       "      <td>C840083671</td>\n",
       "      <td>181.00</td>\n",
       "      <td>0.0</td>\n",
       "      <td>C38997010</td>\n",
       "      <td>21182.0</td>\n",
       "      <td>0.00</td>\n",
       "      <td>1</td>\n",
       "      <td>0</td>\n",
       "    </tr>\n",
       "    <tr>\n",
       "      <th>2</th>\n",
       "      <td>1</td>\n",
       "      <td>CASH_OUT</td>\n",
       "      <td>229133.94</td>\n",
       "      <td>C905080434</td>\n",
       "      <td>15325.00</td>\n",
       "      <td>0.0</td>\n",
       "      <td>C476402209</td>\n",
       "      <td>5083.0</td>\n",
       "      <td>51513.44</td>\n",
       "      <td>0</td>\n",
       "      <td>0</td>\n",
       "    </tr>\n",
       "    <tr>\n",
       "      <th>3</th>\n",
       "      <td>1</td>\n",
       "      <td>TRANSFER</td>\n",
       "      <td>215310.30</td>\n",
       "      <td>C1670993182</td>\n",
       "      <td>705.00</td>\n",
       "      <td>0.0</td>\n",
       "      <td>C1100439041</td>\n",
       "      <td>22425.0</td>\n",
       "      <td>0.00</td>\n",
       "      <td>0</td>\n",
       "      <td>0</td>\n",
       "    </tr>\n",
       "    <tr>\n",
       "      <th>4</th>\n",
       "      <td>1</td>\n",
       "      <td>TRANSFER</td>\n",
       "      <td>311685.89</td>\n",
       "      <td>C1984094095</td>\n",
       "      <td>10835.00</td>\n",
       "      <td>0.0</td>\n",
       "      <td>C932583850</td>\n",
       "      <td>6267.0</td>\n",
       "      <td>2719172.89</td>\n",
       "      <td>0</td>\n",
       "      <td>0</td>\n",
       "    </tr>\n",
       "    <tr>\n",
       "      <th>5</th>\n",
       "      <td>1</td>\n",
       "      <td>CASH_OUT</td>\n",
       "      <td>110414.71</td>\n",
       "      <td>C768216420</td>\n",
       "      <td>26845.41</td>\n",
       "      <td>0.0</td>\n",
       "      <td>C1509514333</td>\n",
       "      <td>288800.0</td>\n",
       "      <td>2415.16</td>\n",
       "      <td>0</td>\n",
       "      <td>0</td>\n",
       "    </tr>\n",
       "    <tr>\n",
       "      <th>6</th>\n",
       "      <td>1</td>\n",
       "      <td>CASH_OUT</td>\n",
       "      <td>56953.90</td>\n",
       "      <td>C1570470538</td>\n",
       "      <td>1942.02</td>\n",
       "      <td>0.0</td>\n",
       "      <td>C824009085</td>\n",
       "      <td>70253.0</td>\n",
       "      <td>64106.18</td>\n",
       "      <td>0</td>\n",
       "      <td>0</td>\n",
       "    </tr>\n",
       "    <tr>\n",
       "      <th>7</th>\n",
       "      <td>1</td>\n",
       "      <td>CASH_OUT</td>\n",
       "      <td>5346.89</td>\n",
       "      <td>C512549200</td>\n",
       "      <td>0.00</td>\n",
       "      <td>0.0</td>\n",
       "      <td>C248609774</td>\n",
       "      <td>652637.0</td>\n",
       "      <td>6453430.91</td>\n",
       "      <td>0</td>\n",
       "      <td>0</td>\n",
       "    </tr>\n",
       "    <tr>\n",
       "      <th>8</th>\n",
       "      <td>1</td>\n",
       "      <td>CASH_OUT</td>\n",
       "      <td>23261.30</td>\n",
       "      <td>C2072313080</td>\n",
       "      <td>20411.53</td>\n",
       "      <td>0.0</td>\n",
       "      <td>C2001112025</td>\n",
       "      <td>25742.0</td>\n",
       "      <td>0.00</td>\n",
       "      <td>0</td>\n",
       "      <td>0</td>\n",
       "    </tr>\n",
       "    <tr>\n",
       "      <th>9</th>\n",
       "      <td>1</td>\n",
       "      <td>TRANSFER</td>\n",
       "      <td>62610.80</td>\n",
       "      <td>C1976401987</td>\n",
       "      <td>79114.00</td>\n",
       "      <td>16503.2</td>\n",
       "      <td>C1937962514</td>\n",
       "      <td>517.0</td>\n",
       "      <td>8383.29</td>\n",
       "      <td>0</td>\n",
       "      <td>0</td>\n",
       "    </tr>\n",
       "  </tbody>\n",
       "</table>\n",
       "</div>"
      ],
      "text/plain": [
       "   step      type     amount     nameOrig  oldbalanceOrg  newbalanceOrig  \\\n",
       "0     1  TRANSFER     181.00  C1305486145         181.00             0.0   \n",
       "1     1  CASH_OUT     181.00   C840083671         181.00             0.0   \n",
       "2     1  CASH_OUT  229133.94   C905080434       15325.00             0.0   \n",
       "3     1  TRANSFER  215310.30  C1670993182         705.00             0.0   \n",
       "4     1  TRANSFER  311685.89  C1984094095       10835.00             0.0   \n",
       "5     1  CASH_OUT  110414.71   C768216420       26845.41             0.0   \n",
       "6     1  CASH_OUT   56953.90  C1570470538        1942.02             0.0   \n",
       "7     1  CASH_OUT    5346.89   C512549200           0.00             0.0   \n",
       "8     1  CASH_OUT   23261.30  C2072313080       20411.53             0.0   \n",
       "9     1  TRANSFER   62610.80  C1976401987       79114.00         16503.2   \n",
       "\n",
       "      nameDest  oldbalanceDest  newbalanceDest  isFraud  isFlaggedFraud  \n",
       "0   C553264065             0.0            0.00        1               0  \n",
       "1    C38997010         21182.0            0.00        1               0  \n",
       "2   C476402209          5083.0        51513.44        0               0  \n",
       "3  C1100439041         22425.0            0.00        0               0  \n",
       "4   C932583850          6267.0      2719172.89        0               0  \n",
       "5  C1509514333        288800.0         2415.16        0               0  \n",
       "6   C824009085         70253.0        64106.18        0               0  \n",
       "7   C248609774        652637.0      6453430.91        0               0  \n",
       "8  C2001112025         25742.0            0.00        0               0  \n",
       "9  C1937962514           517.0         8383.29        0               0  "
      ]
     },
     "execution_count": 10,
     "metadata": {},
     "output_type": "execute_result"
    }
   ],
   "source": [
    "data.head(10)"
   ]
  },
  {
   "cell_type": "markdown",
   "metadata": {},
   "source": [
    "Erstellung eines lokalen Unterordners mit Ordnerbezeichnung \"03_results\" für das Speichern der nachfolgend erzeugten Ergebnisdateien der durchgeführeten Analysen:"
   ]
  },
  {
   "cell_type": "code",
   "execution_count": 11,
   "metadata": {},
   "outputs": [],
   "source": [
    "if not os.path.exists('./03_results'): os.makedirs('./03_results')"
   ]
  },
  {
   "cell_type": "markdown",
   "metadata": {},
   "source": [
    "### 2. Datenvalidierung"
   ]
  },
  {
   "cell_type": "markdown",
   "metadata": {},
   "source": [
    "Die **Datenvalidierung** ist ein entscheidendes Element im Vorfeld jeder revisorischen Datenanalyse. Sie schafft Vertrauen in die Vollständigkeit und Fehlerfreiheit der zu analysierenden Daten. Die **strukturelle** und **semantische** Datenvalidierung der zu analysierenden ist notwendig, um eventuelle Analysefehler zu mindern. Die fehlende initiale Validierung der zu analysierenden Daten birgt ein erhöhtes Risiko fehlerhafter Analysergebnisse und der daraus abgeleiteten Schlussfolgerungen und Entscheidungen."
   ]
  },
  {
   "cell_type": "markdown",
   "metadata": {},
   "source": [
    "#### 2.1. Vergabe eindeutiger Transaktionsschlüssel"
   ]
  },
  {
   "cell_type": "markdown",
   "metadata": {},
   "source": [
    "Ein eindeutiger **Transaktionsschlüssel** dient innerhalb des Datenbestands dazu, einzelne Datensätze eindeutig zu markieren um diese im Rahmen des weiteren Analysevorgehens eindeutig zu identifizieren. Ein Schlüssel ist oftmals eine Sequenz von Werten, die so ausgewählt wird, dass jede Zeile im Datenbestand ein eindeutiges Merkmal zur Identifikation aufweist. \n",
    "\n",
    "Erzeugung einer eindeutigen Sequenz von Transaktionschlüsseln:"
   ]
  },
  {
   "cell_type": "code",
   "execution_count": 12,
   "metadata": {},
   "outputs": [],
   "source": [
    "keys = list(range(0, data.shape[0]))"
   ]
  },
  {
   "cell_type": "markdown",
   "metadata": {},
   "source": [
    "Verifikation der erzeugten Transaktionsschlüssel:"
   ]
  },
  {
   "cell_type": "code",
   "execution_count": 13,
   "metadata": {
    "scrolled": false
   },
   "outputs": [],
   "source": [
    "#keys"
   ]
  },
  {
   "cell_type": "markdown",
   "metadata": {},
   "source": [
    "Vergabe eines eindeutigen Transaktionsschlüssels pro Transaktion:"
   ]
  },
  {
   "cell_type": "code",
   "execution_count": 14,
   "metadata": {},
   "outputs": [],
   "source": [
    "data.insert(0, \"AUDIT_ID\", keys)"
   ]
  },
  {
   "cell_type": "markdown",
   "metadata": {},
   "source": [
    "Verifizierung der eindeutigen Transaktionsschlüsselvergabe:"
   ]
  },
  {
   "cell_type": "code",
   "execution_count": 15,
   "metadata": {},
   "outputs": [
    {
     "data": {
      "text/html": [
       "<div>\n",
       "<style scoped>\n",
       "    .dataframe tbody tr th:only-of-type {\n",
       "        vertical-align: middle;\n",
       "    }\n",
       "\n",
       "    .dataframe tbody tr th {\n",
       "        vertical-align: top;\n",
       "    }\n",
       "\n",
       "    .dataframe thead th {\n",
       "        text-align: right;\n",
       "    }\n",
       "</style>\n",
       "<table border=\"1\" class=\"dataframe\">\n",
       "  <thead>\n",
       "    <tr style=\"text-align: right;\">\n",
       "      <th></th>\n",
       "      <th>AUDIT_ID</th>\n",
       "      <th>step</th>\n",
       "      <th>type</th>\n",
       "      <th>amount</th>\n",
       "      <th>nameOrig</th>\n",
       "      <th>oldbalanceOrg</th>\n",
       "      <th>newbalanceOrig</th>\n",
       "      <th>nameDest</th>\n",
       "      <th>oldbalanceDest</th>\n",
       "      <th>newbalanceDest</th>\n",
       "      <th>isFraud</th>\n",
       "      <th>isFlaggedFraud</th>\n",
       "    </tr>\n",
       "  </thead>\n",
       "  <tbody>\n",
       "    <tr>\n",
       "      <th>0</th>\n",
       "      <td>0</td>\n",
       "      <td>1</td>\n",
       "      <td>TRANSFER</td>\n",
       "      <td>181.00</td>\n",
       "      <td>C1305486145</td>\n",
       "      <td>181.00</td>\n",
       "      <td>0.0</td>\n",
       "      <td>C553264065</td>\n",
       "      <td>0.0</td>\n",
       "      <td>0.00</td>\n",
       "      <td>1</td>\n",
       "      <td>0</td>\n",
       "    </tr>\n",
       "    <tr>\n",
       "      <th>1</th>\n",
       "      <td>1</td>\n",
       "      <td>1</td>\n",
       "      <td>CASH_OUT</td>\n",
       "      <td>181.00</td>\n",
       "      <td>C840083671</td>\n",
       "      <td>181.00</td>\n",
       "      <td>0.0</td>\n",
       "      <td>C38997010</td>\n",
       "      <td>21182.0</td>\n",
       "      <td>0.00</td>\n",
       "      <td>1</td>\n",
       "      <td>0</td>\n",
       "    </tr>\n",
       "    <tr>\n",
       "      <th>2</th>\n",
       "      <td>2</td>\n",
       "      <td>1</td>\n",
       "      <td>CASH_OUT</td>\n",
       "      <td>229133.94</td>\n",
       "      <td>C905080434</td>\n",
       "      <td>15325.00</td>\n",
       "      <td>0.0</td>\n",
       "      <td>C476402209</td>\n",
       "      <td>5083.0</td>\n",
       "      <td>51513.44</td>\n",
       "      <td>0</td>\n",
       "      <td>0</td>\n",
       "    </tr>\n",
       "    <tr>\n",
       "      <th>3</th>\n",
       "      <td>3</td>\n",
       "      <td>1</td>\n",
       "      <td>TRANSFER</td>\n",
       "      <td>215310.30</td>\n",
       "      <td>C1670993182</td>\n",
       "      <td>705.00</td>\n",
       "      <td>0.0</td>\n",
       "      <td>C1100439041</td>\n",
       "      <td>22425.0</td>\n",
       "      <td>0.00</td>\n",
       "      <td>0</td>\n",
       "      <td>0</td>\n",
       "    </tr>\n",
       "    <tr>\n",
       "      <th>4</th>\n",
       "      <td>4</td>\n",
       "      <td>1</td>\n",
       "      <td>TRANSFER</td>\n",
       "      <td>311685.89</td>\n",
       "      <td>C1984094095</td>\n",
       "      <td>10835.00</td>\n",
       "      <td>0.0</td>\n",
       "      <td>C932583850</td>\n",
       "      <td>6267.0</td>\n",
       "      <td>2719172.89</td>\n",
       "      <td>0</td>\n",
       "      <td>0</td>\n",
       "    </tr>\n",
       "    <tr>\n",
       "      <th>5</th>\n",
       "      <td>5</td>\n",
       "      <td>1</td>\n",
       "      <td>CASH_OUT</td>\n",
       "      <td>110414.71</td>\n",
       "      <td>C768216420</td>\n",
       "      <td>26845.41</td>\n",
       "      <td>0.0</td>\n",
       "      <td>C1509514333</td>\n",
       "      <td>288800.0</td>\n",
       "      <td>2415.16</td>\n",
       "      <td>0</td>\n",
       "      <td>0</td>\n",
       "    </tr>\n",
       "    <tr>\n",
       "      <th>6</th>\n",
       "      <td>6</td>\n",
       "      <td>1</td>\n",
       "      <td>CASH_OUT</td>\n",
       "      <td>56953.90</td>\n",
       "      <td>C1570470538</td>\n",
       "      <td>1942.02</td>\n",
       "      <td>0.0</td>\n",
       "      <td>C824009085</td>\n",
       "      <td>70253.0</td>\n",
       "      <td>64106.18</td>\n",
       "      <td>0</td>\n",
       "      <td>0</td>\n",
       "    </tr>\n",
       "    <tr>\n",
       "      <th>7</th>\n",
       "      <td>7</td>\n",
       "      <td>1</td>\n",
       "      <td>CASH_OUT</td>\n",
       "      <td>5346.89</td>\n",
       "      <td>C512549200</td>\n",
       "      <td>0.00</td>\n",
       "      <td>0.0</td>\n",
       "      <td>C248609774</td>\n",
       "      <td>652637.0</td>\n",
       "      <td>6453430.91</td>\n",
       "      <td>0</td>\n",
       "      <td>0</td>\n",
       "    </tr>\n",
       "    <tr>\n",
       "      <th>8</th>\n",
       "      <td>8</td>\n",
       "      <td>1</td>\n",
       "      <td>CASH_OUT</td>\n",
       "      <td>23261.30</td>\n",
       "      <td>C2072313080</td>\n",
       "      <td>20411.53</td>\n",
       "      <td>0.0</td>\n",
       "      <td>C2001112025</td>\n",
       "      <td>25742.0</td>\n",
       "      <td>0.00</td>\n",
       "      <td>0</td>\n",
       "      <td>0</td>\n",
       "    </tr>\n",
       "    <tr>\n",
       "      <th>9</th>\n",
       "      <td>9</td>\n",
       "      <td>1</td>\n",
       "      <td>TRANSFER</td>\n",
       "      <td>62610.80</td>\n",
       "      <td>C1976401987</td>\n",
       "      <td>79114.00</td>\n",
       "      <td>16503.2</td>\n",
       "      <td>C1937962514</td>\n",
       "      <td>517.0</td>\n",
       "      <td>8383.29</td>\n",
       "      <td>0</td>\n",
       "      <td>0</td>\n",
       "    </tr>\n",
       "  </tbody>\n",
       "</table>\n",
       "</div>"
      ],
      "text/plain": [
       "   AUDIT_ID  step      type     amount     nameOrig  oldbalanceOrg  \\\n",
       "0         0     1  TRANSFER     181.00  C1305486145         181.00   \n",
       "1         1     1  CASH_OUT     181.00   C840083671         181.00   \n",
       "2         2     1  CASH_OUT  229133.94   C905080434       15325.00   \n",
       "3         3     1  TRANSFER  215310.30  C1670993182         705.00   \n",
       "4         4     1  TRANSFER  311685.89  C1984094095       10835.00   \n",
       "5         5     1  CASH_OUT  110414.71   C768216420       26845.41   \n",
       "6         6     1  CASH_OUT   56953.90  C1570470538        1942.02   \n",
       "7         7     1  CASH_OUT    5346.89   C512549200           0.00   \n",
       "8         8     1  CASH_OUT   23261.30  C2072313080       20411.53   \n",
       "9         9     1  TRANSFER   62610.80  C1976401987       79114.00   \n",
       "\n",
       "   newbalanceOrig     nameDest  oldbalanceDest  newbalanceDest  isFraud  \\\n",
       "0             0.0   C553264065             0.0            0.00        1   \n",
       "1             0.0    C38997010         21182.0            0.00        1   \n",
       "2             0.0   C476402209          5083.0        51513.44        0   \n",
       "3             0.0  C1100439041         22425.0            0.00        0   \n",
       "4             0.0   C932583850          6267.0      2719172.89        0   \n",
       "5             0.0  C1509514333        288800.0         2415.16        0   \n",
       "6             0.0   C824009085         70253.0        64106.18        0   \n",
       "7             0.0   C248609774        652637.0      6453430.91        0   \n",
       "8             0.0  C2001112025         25742.0            0.00        0   \n",
       "9         16503.2  C1937962514           517.0         8383.29        0   \n",
       "\n",
       "   isFlaggedFraud  \n",
       "0               0  \n",
       "1               0  \n",
       "2               0  \n",
       "3               0  \n",
       "4               0  \n",
       "5               0  \n",
       "6               0  \n",
       "7               0  \n",
       "8               0  \n",
       "9               0  "
      ]
     },
     "execution_count": 15,
     "metadata": {},
     "output_type": "execute_result"
    }
   ],
   "source": [
    "data.head(10)"
   ]
  },
  {
   "cell_type": "code",
   "execution_count": 16,
   "metadata": {},
   "outputs": [
    {
     "data": {
      "text/html": [
       "<div>\n",
       "<style scoped>\n",
       "    .dataframe tbody tr th:only-of-type {\n",
       "        vertical-align: middle;\n",
       "    }\n",
       "\n",
       "    .dataframe tbody tr th {\n",
       "        vertical-align: top;\n",
       "    }\n",
       "\n",
       "    .dataframe thead th {\n",
       "        text-align: right;\n",
       "    }\n",
       "</style>\n",
       "<table border=\"1\" class=\"dataframe\">\n",
       "  <thead>\n",
       "    <tr style=\"text-align: right;\">\n",
       "      <th></th>\n",
       "      <th>AUDIT_ID</th>\n",
       "      <th>step</th>\n",
       "      <th>type</th>\n",
       "      <th>amount</th>\n",
       "      <th>nameOrig</th>\n",
       "      <th>oldbalanceOrg</th>\n",
       "      <th>newbalanceOrig</th>\n",
       "      <th>nameDest</th>\n",
       "      <th>oldbalanceDest</th>\n",
       "      <th>newbalanceDest</th>\n",
       "      <th>isFraud</th>\n",
       "      <th>isFlaggedFraud</th>\n",
       "    </tr>\n",
       "  </thead>\n",
       "  <tbody>\n",
       "    <tr>\n",
       "      <th>2770399</th>\n",
       "      <td>2770399</td>\n",
       "      <td>742</td>\n",
       "      <td>TRANSFER</td>\n",
       "      <td>63416.99</td>\n",
       "      <td>C778071008</td>\n",
       "      <td>63416.99</td>\n",
       "      <td>0.0</td>\n",
       "      <td>C1812552860</td>\n",
       "      <td>0.00</td>\n",
       "      <td>0.00</td>\n",
       "      <td>1</td>\n",
       "      <td>0</td>\n",
       "    </tr>\n",
       "    <tr>\n",
       "      <th>2770400</th>\n",
       "      <td>2770400</td>\n",
       "      <td>742</td>\n",
       "      <td>CASH_OUT</td>\n",
       "      <td>63416.99</td>\n",
       "      <td>C994950684</td>\n",
       "      <td>63416.99</td>\n",
       "      <td>0.0</td>\n",
       "      <td>C1662241365</td>\n",
       "      <td>276433.18</td>\n",
       "      <td>339850.17</td>\n",
       "      <td>1</td>\n",
       "      <td>0</td>\n",
       "    </tr>\n",
       "    <tr>\n",
       "      <th>2770401</th>\n",
       "      <td>2770401</td>\n",
       "      <td>743</td>\n",
       "      <td>TRANSFER</td>\n",
       "      <td>1258818.82</td>\n",
       "      <td>C1531301470</td>\n",
       "      <td>1258818.82</td>\n",
       "      <td>0.0</td>\n",
       "      <td>C1470998563</td>\n",
       "      <td>0.00</td>\n",
       "      <td>0.00</td>\n",
       "      <td>1</td>\n",
       "      <td>0</td>\n",
       "    </tr>\n",
       "    <tr>\n",
       "      <th>2770402</th>\n",
       "      <td>2770402</td>\n",
       "      <td>743</td>\n",
       "      <td>CASH_OUT</td>\n",
       "      <td>1258818.82</td>\n",
       "      <td>C1436118706</td>\n",
       "      <td>1258818.82</td>\n",
       "      <td>0.0</td>\n",
       "      <td>C1240760502</td>\n",
       "      <td>503464.50</td>\n",
       "      <td>1762283.33</td>\n",
       "      <td>1</td>\n",
       "      <td>0</td>\n",
       "    </tr>\n",
       "    <tr>\n",
       "      <th>2770403</th>\n",
       "      <td>2770403</td>\n",
       "      <td>743</td>\n",
       "      <td>TRANSFER</td>\n",
       "      <td>339682.13</td>\n",
       "      <td>C2013999242</td>\n",
       "      <td>339682.13</td>\n",
       "      <td>0.0</td>\n",
       "      <td>C1850423904</td>\n",
       "      <td>0.00</td>\n",
       "      <td>0.00</td>\n",
       "      <td>1</td>\n",
       "      <td>0</td>\n",
       "    </tr>\n",
       "    <tr>\n",
       "      <th>2770404</th>\n",
       "      <td>2770404</td>\n",
       "      <td>743</td>\n",
       "      <td>CASH_OUT</td>\n",
       "      <td>339682.13</td>\n",
       "      <td>C786484425</td>\n",
       "      <td>339682.13</td>\n",
       "      <td>0.0</td>\n",
       "      <td>C776919290</td>\n",
       "      <td>0.00</td>\n",
       "      <td>339682.13</td>\n",
       "      <td>1</td>\n",
       "      <td>0</td>\n",
       "    </tr>\n",
       "    <tr>\n",
       "      <th>2770405</th>\n",
       "      <td>2770405</td>\n",
       "      <td>743</td>\n",
       "      <td>TRANSFER</td>\n",
       "      <td>6311409.28</td>\n",
       "      <td>C1529008245</td>\n",
       "      <td>6311409.28</td>\n",
       "      <td>0.0</td>\n",
       "      <td>C1881841831</td>\n",
       "      <td>0.00</td>\n",
       "      <td>0.00</td>\n",
       "      <td>1</td>\n",
       "      <td>0</td>\n",
       "    </tr>\n",
       "    <tr>\n",
       "      <th>2770406</th>\n",
       "      <td>2770406</td>\n",
       "      <td>743</td>\n",
       "      <td>CASH_OUT</td>\n",
       "      <td>6311409.28</td>\n",
       "      <td>C1162922333</td>\n",
       "      <td>6311409.28</td>\n",
       "      <td>0.0</td>\n",
       "      <td>C1365125890</td>\n",
       "      <td>68488.84</td>\n",
       "      <td>6379898.11</td>\n",
       "      <td>1</td>\n",
       "      <td>0</td>\n",
       "    </tr>\n",
       "    <tr>\n",
       "      <th>2770407</th>\n",
       "      <td>2770407</td>\n",
       "      <td>743</td>\n",
       "      <td>TRANSFER</td>\n",
       "      <td>850002.52</td>\n",
       "      <td>C1685995037</td>\n",
       "      <td>850002.52</td>\n",
       "      <td>0.0</td>\n",
       "      <td>C2080388513</td>\n",
       "      <td>0.00</td>\n",
       "      <td>0.00</td>\n",
       "      <td>1</td>\n",
       "      <td>0</td>\n",
       "    </tr>\n",
       "    <tr>\n",
       "      <th>2770408</th>\n",
       "      <td>2770408</td>\n",
       "      <td>743</td>\n",
       "      <td>CASH_OUT</td>\n",
       "      <td>850002.52</td>\n",
       "      <td>C1280323807</td>\n",
       "      <td>850002.52</td>\n",
       "      <td>0.0</td>\n",
       "      <td>C873221189</td>\n",
       "      <td>6510099.11</td>\n",
       "      <td>7360101.63</td>\n",
       "      <td>1</td>\n",
       "      <td>0</td>\n",
       "    </tr>\n",
       "  </tbody>\n",
       "</table>\n",
       "</div>"
      ],
      "text/plain": [
       "         AUDIT_ID  step      type      amount     nameOrig  oldbalanceOrg  \\\n",
       "2770399   2770399   742  TRANSFER    63416.99   C778071008       63416.99   \n",
       "2770400   2770400   742  CASH_OUT    63416.99   C994950684       63416.99   \n",
       "2770401   2770401   743  TRANSFER  1258818.82  C1531301470     1258818.82   \n",
       "2770402   2770402   743  CASH_OUT  1258818.82  C1436118706     1258818.82   \n",
       "2770403   2770403   743  TRANSFER   339682.13  C2013999242      339682.13   \n",
       "2770404   2770404   743  CASH_OUT   339682.13   C786484425      339682.13   \n",
       "2770405   2770405   743  TRANSFER  6311409.28  C1529008245     6311409.28   \n",
       "2770406   2770406   743  CASH_OUT  6311409.28  C1162922333     6311409.28   \n",
       "2770407   2770407   743  TRANSFER   850002.52  C1685995037      850002.52   \n",
       "2770408   2770408   743  CASH_OUT   850002.52  C1280323807      850002.52   \n",
       "\n",
       "         newbalanceOrig     nameDest  oldbalanceDest  newbalanceDest  isFraud  \\\n",
       "2770399             0.0  C1812552860            0.00            0.00        1   \n",
       "2770400             0.0  C1662241365       276433.18       339850.17        1   \n",
       "2770401             0.0  C1470998563            0.00            0.00        1   \n",
       "2770402             0.0  C1240760502       503464.50      1762283.33        1   \n",
       "2770403             0.0  C1850423904            0.00            0.00        1   \n",
       "2770404             0.0   C776919290            0.00       339682.13        1   \n",
       "2770405             0.0  C1881841831            0.00            0.00        1   \n",
       "2770406             0.0  C1365125890        68488.84      6379898.11        1   \n",
       "2770407             0.0  C2080388513            0.00            0.00        1   \n",
       "2770408             0.0   C873221189      6510099.11      7360101.63        1   \n",
       "\n",
       "         isFlaggedFraud  \n",
       "2770399               0  \n",
       "2770400               0  \n",
       "2770401               0  \n",
       "2770402               0  \n",
       "2770403               0  \n",
       "2770404               0  \n",
       "2770405               0  \n",
       "2770406               0  \n",
       "2770407               0  \n",
       "2770408               0  "
      ]
     },
     "execution_count": 16,
     "metadata": {},
     "output_type": "execute_result"
    }
   ],
   "source": [
    "data.tail(10)"
   ]
  },
  {
   "cell_type": "markdown",
   "metadata": {},
   "source": [
    "#### 2.2. Strukturelle Datenvalidierung"
   ]
  },
  {
   "cell_type": "markdown",
   "metadata": {},
   "source": [
    "Die **strukturelle Datenvalidierung** validiert, ob die erhaltenen Daten technische Inkonsistenzen (\"Lücken\") zwischen erwarteten Datengrundgesamtheit und der tatsächlich erhaltenen Datengrundgesamtheit aufweisen, z.B. fehlende Datensätze oder Formatierungsfehler. Zielsetzung ist hierbei primär die technische Vollständigkeit und Integrität der erhaltenen Daten sicher zu stellen.\n",
    "\n",
    "Verifizierung der Vollständigkeit der erhaltenen Datensätze:"
   ]
  },
  {
   "cell_type": "code",
   "execution_count": 17,
   "metadata": {},
   "outputs": [
    {
     "data": {
      "text/plain": [
       "2770409"
      ]
     },
     "execution_count": 17,
     "metadata": {},
     "output_type": "execute_result"
    }
   ],
   "source": [
    "data.shape[0]"
   ]
  },
  {
   "cell_type": "markdown",
   "metadata": {},
   "source": [
    "Verifizierung der Vollständigkeit der erhaltenen Datenfelder:"
   ]
  },
  {
   "cell_type": "code",
   "execution_count": 18,
   "metadata": {},
   "outputs": [
    {
     "data": {
      "text/plain": [
       "12"
      ]
     },
     "execution_count": 18,
     "metadata": {},
     "output_type": "execute_result"
    }
   ],
   "source": [
    "data.shape[1]"
   ]
  },
  {
   "cell_type": "markdown",
   "metadata": {},
   "source": [
    "Verifizierung des Datentypes der erhaltenen Datenfelder:"
   ]
  },
  {
   "cell_type": "code",
   "execution_count": 19,
   "metadata": {},
   "outputs": [
    {
     "data": {
      "text/plain": [
       "AUDIT_ID            int64\n",
       "step                int64\n",
       "type               object\n",
       "amount            float64\n",
       "nameOrig           object\n",
       "oldbalanceOrg     float64\n",
       "newbalanceOrig    float64\n",
       "nameDest           object\n",
       "oldbalanceDest    float64\n",
       "newbalanceDest    float64\n",
       "isFraud             int64\n",
       "isFlaggedFraud      int64\n",
       "dtype: object"
      ]
     },
     "execution_count": 19,
     "metadata": {},
     "output_type": "execute_result"
    }
   ],
   "source": [
    "data.dtypes"
   ]
  },
  {
   "cell_type": "markdown",
   "metadata": {},
   "source": [
    "#### 2.3. Semantische Datenvalidierung"
   ]
  },
  {
   "cell_type": "markdown",
   "metadata": {},
   "source": [
    "Die **semantische Datenvalidierung** validiert, ob die erhaltenen Daten semantische Inkonsistenzen (\"Unstimmigkeiten\") zwischen erwarteten Datengrundgesamtheit und der tatsächlich erhaltenen Datengrundgesamtheit aufweisen, z.B. ungewöhnliche oder fehlerhafte Feldausprägungen. Zielsetzung ist hierbei primär die semantische Vollständigkeit und Konsistenz der erhaltenen Daten sicher zu stellen.\n",
    "\n",
    "**Beispielhafte Verifizierung individueller Feldausprägungen der zu analysierenden Transaktionsdaten:**"
   ]
  },
  {
   "cell_type": "markdown",
   "metadata": {},
   "source": [
    "Anzahl der verschiedenen Feldausprägungen pro Datenfeld der erhaltenen Transaktionsdaten:"
   ]
  },
  {
   "cell_type": "code",
   "execution_count": 20,
   "metadata": {
    "scrolled": true
   },
   "outputs": [
    {
     "data": {
      "text/plain": [
       "AUDIT_ID          2770409\n",
       "step                  743\n",
       "type                    2\n",
       "amount            2685805\n",
       "nameOrig          2768630\n",
       "oldbalanceOrg      435702\n",
       "newbalanceOrig     271977\n",
       "nameDest           509565\n",
       "oldbalanceDest    2360852\n",
       "newbalanceDest    2562844\n",
       "isFraud                 2\n",
       "isFlaggedFraud          2\n",
       "dtype: int64"
      ]
     },
     "execution_count": 20,
     "metadata": {},
     "output_type": "execute_result"
    }
   ],
   "source": [
    "data.nunique()"
   ]
  },
  {
   "cell_type": "markdown",
   "metadata": {},
   "source": [
    "Anzahl der verschiedenen Wertverteilungen pro Datenfeld der erhaltenen Transaktionsdaten:"
   ]
  },
  {
   "cell_type": "code",
   "execution_count": 21,
   "metadata": {},
   "outputs": [
    {
     "data": {
      "text/html": [
       "<div>\n",
       "<style scoped>\n",
       "    .dataframe tbody tr th:only-of-type {\n",
       "        vertical-align: middle;\n",
       "    }\n",
       "\n",
       "    .dataframe tbody tr th {\n",
       "        vertical-align: top;\n",
       "    }\n",
       "\n",
       "    .dataframe thead th {\n",
       "        text-align: right;\n",
       "    }\n",
       "</style>\n",
       "<table border=\"1\" class=\"dataframe\">\n",
       "  <thead>\n",
       "    <tr style=\"text-align: right;\">\n",
       "      <th></th>\n",
       "      <th>AUDIT_ID</th>\n",
       "      <th>step</th>\n",
       "      <th>amount</th>\n",
       "      <th>oldbalanceOrg</th>\n",
       "      <th>newbalanceOrig</th>\n",
       "      <th>oldbalanceDest</th>\n",
       "      <th>newbalanceDest</th>\n",
       "      <th>isFraud</th>\n",
       "      <th>isFlaggedFraud</th>\n",
       "    </tr>\n",
       "  </thead>\n",
       "  <tbody>\n",
       "    <tr>\n",
       "      <th>count</th>\n",
       "      <td>2.770409e+06</td>\n",
       "      <td>2.770409e+06</td>\n",
       "      <td>2.770409e+06</td>\n",
       "      <td>2.770409e+06</td>\n",
       "      <td>2.770409e+06</td>\n",
       "      <td>2.770409e+06</td>\n",
       "      <td>2.770409e+06</td>\n",
       "      <td>2.770409e+06</td>\n",
       "      <td>2.770409e+06</td>\n",
       "    </tr>\n",
       "    <tr>\n",
       "      <th>mean</th>\n",
       "      <td>1.385204e+06</td>\n",
       "      <td>2.420081e+02</td>\n",
       "      <td>3.175361e+05</td>\n",
       "      <td>4.764308e+04</td>\n",
       "      <td>1.609190e+04</td>\n",
       "      <td>1.703551e+06</td>\n",
       "      <td>2.049734e+06</td>\n",
       "      <td>2.964544e-03</td>\n",
       "      <td>5.775321e-06</td>\n",
       "    </tr>\n",
       "    <tr>\n",
       "      <th>std</th>\n",
       "      <td>7.997483e+05</td>\n",
       "      <td>1.416191e+02</td>\n",
       "      <td>8.877897e+05</td>\n",
       "      <td>2.513251e+05</td>\n",
       "      <td>1.512558e+05</td>\n",
       "      <td>4.225550e+06</td>\n",
       "      <td>4.676990e+06</td>\n",
       "      <td>5.436687e-02</td>\n",
       "      <td>2.403183e-03</td>\n",
       "    </tr>\n",
       "    <tr>\n",
       "      <th>min</th>\n",
       "      <td>0.000000e+00</td>\n",
       "      <td>1.000000e+00</td>\n",
       "      <td>0.000000e+00</td>\n",
       "      <td>0.000000e+00</td>\n",
       "      <td>0.000000e+00</td>\n",
       "      <td>0.000000e+00</td>\n",
       "      <td>0.000000e+00</td>\n",
       "      <td>0.000000e+00</td>\n",
       "      <td>0.000000e+00</td>\n",
       "    </tr>\n",
       "    <tr>\n",
       "      <th>25%</th>\n",
       "      <td>6.926020e+05</td>\n",
       "      <td>1.550000e+02</td>\n",
       "      <td>8.297354e+04</td>\n",
       "      <td>0.000000e+00</td>\n",
       "      <td>0.000000e+00</td>\n",
       "      <td>1.280734e+05</td>\n",
       "      <td>3.272891e+05</td>\n",
       "      <td>0.000000e+00</td>\n",
       "      <td>0.000000e+00</td>\n",
       "    </tr>\n",
       "    <tr>\n",
       "      <th>50%</th>\n",
       "      <td>1.385204e+06</td>\n",
       "      <td>2.360000e+02</td>\n",
       "      <td>1.712609e+05</td>\n",
       "      <td>3.039600e+02</td>\n",
       "      <td>0.000000e+00</td>\n",
       "      <td>5.557100e+05</td>\n",
       "      <td>8.280539e+05</td>\n",
       "      <td>0.000000e+00</td>\n",
       "      <td>0.000000e+00</td>\n",
       "    </tr>\n",
       "    <tr>\n",
       "      <th>75%</th>\n",
       "      <td>2.077806e+06</td>\n",
       "      <td>3.320000e+02</td>\n",
       "      <td>3.067912e+05</td>\n",
       "      <td>3.099700e+04</td>\n",
       "      <td>0.000000e+00</td>\n",
       "      <td>1.735900e+06</td>\n",
       "      <td>2.122198e+06</td>\n",
       "      <td>0.000000e+00</td>\n",
       "      <td>0.000000e+00</td>\n",
       "    </tr>\n",
       "    <tr>\n",
       "      <th>max</th>\n",
       "      <td>2.770408e+06</td>\n",
       "      <td>7.430000e+02</td>\n",
       "      <td>9.244552e+07</td>\n",
       "      <td>5.958504e+07</td>\n",
       "      <td>4.958504e+07</td>\n",
       "      <td>3.560159e+08</td>\n",
       "      <td>3.561793e+08</td>\n",
       "      <td>1.000000e+00</td>\n",
       "      <td>1.000000e+00</td>\n",
       "    </tr>\n",
       "  </tbody>\n",
       "</table>\n",
       "</div>"
      ],
      "text/plain": [
       "           AUDIT_ID          step        amount  oldbalanceOrg  \\\n",
       "count  2.770409e+06  2.770409e+06  2.770409e+06   2.770409e+06   \n",
       "mean   1.385204e+06  2.420081e+02  3.175361e+05   4.764308e+04   \n",
       "std    7.997483e+05  1.416191e+02  8.877897e+05   2.513251e+05   \n",
       "min    0.000000e+00  1.000000e+00  0.000000e+00   0.000000e+00   \n",
       "25%    6.926020e+05  1.550000e+02  8.297354e+04   0.000000e+00   \n",
       "50%    1.385204e+06  2.360000e+02  1.712609e+05   3.039600e+02   \n",
       "75%    2.077806e+06  3.320000e+02  3.067912e+05   3.099700e+04   \n",
       "max    2.770408e+06  7.430000e+02  9.244552e+07   5.958504e+07   \n",
       "\n",
       "       newbalanceOrig  oldbalanceDest  newbalanceDest       isFraud  \\\n",
       "count    2.770409e+06    2.770409e+06    2.770409e+06  2.770409e+06   \n",
       "mean     1.609190e+04    1.703551e+06    2.049734e+06  2.964544e-03   \n",
       "std      1.512558e+05    4.225550e+06    4.676990e+06  5.436687e-02   \n",
       "min      0.000000e+00    0.000000e+00    0.000000e+00  0.000000e+00   \n",
       "25%      0.000000e+00    1.280734e+05    3.272891e+05  0.000000e+00   \n",
       "50%      0.000000e+00    5.557100e+05    8.280539e+05  0.000000e+00   \n",
       "75%      0.000000e+00    1.735900e+06    2.122198e+06  0.000000e+00   \n",
       "max      4.958504e+07    3.560159e+08    3.561793e+08  1.000000e+00   \n",
       "\n",
       "       isFlaggedFraud  \n",
       "count    2.770409e+06  \n",
       "mean     5.775321e-06  \n",
       "std      2.403183e-03  \n",
       "min      0.000000e+00  \n",
       "25%      0.000000e+00  \n",
       "50%      0.000000e+00  \n",
       "75%      0.000000e+00  \n",
       "max      1.000000e+00  "
      ]
     },
     "execution_count": 21,
     "metadata": {},
     "output_type": "execute_result"
    }
   ],
   "source": [
    "data.describe()"
   ]
  },
  {
   "cell_type": "markdown",
   "metadata": {},
   "source": [
    "Anzahl der Feldausprägungen individueller Datenfelder der erhaltenen Transaktionsdaten:"
   ]
  },
  {
   "cell_type": "code",
   "execution_count": 22,
   "metadata": {},
   "outputs": [
    {
     "data": {
      "text/plain": [
       "CASH_OUT    2237500\n",
       "TRANSFER     532909\n",
       "Name: type, dtype: int64"
      ]
     },
     "execution_count": 22,
     "metadata": {},
     "output_type": "execute_result"
    }
   ],
   "source": [
    "# analyse der verteilung bzw. histograms\n",
    "data[\"type\"].value_counts()"
   ]
  },
  {
   "cell_type": "markdown",
   "metadata": {},
   "source": [
    "Visualisierung der Feldausprägungen individueller Datenfelder der erhaltenen Transaktionsdaten:"
   ]
  },
  {
   "cell_type": "code",
   "execution_count": 23,
   "metadata": {},
   "outputs": [
    {
     "data": {
      "image/png": "[encoded data removed]",
      "text/plain": [
       "<Figure size 432x288 with 1 Axes>"
      ]
     },
     "metadata": {
      "needs_background": "light"
     },
     "output_type": "display_data"
    }
   ],
   "source": [
    "# initialisierung des Plots\n",
    "fig, ax = plt.subplots()\n",
    "\n",
    "# zeichnen des Histograms\n",
    "data[\"type\"].value_counts().plot(ax=ax, kind='bar', color=\"green\")\n",
    "\n",
    "# hinzufügen der Achsenbeschriftungen\n",
    "plt.ylabel(\"[Anzahl]\", fontsize=12)\n",
    "plt.xlabel(\"[Transaktionsklasse]\", fontsize=12)\n",
    "\n",
    "# hinzufügen des Titels\n",
    "plt.title(\"Verteilung der Transaktionsanzahl\", fontsize=12);"
   ]
  },
  {
   "cell_type": "markdown",
   "metadata": {},
   "source": [
    "**Beispielhafte Verifizierung kombinierter Feldausprägungen der zu analysierenden Transaktionsdaten:**"
   ]
  },
  {
   "cell_type": "markdown",
   "metadata": {},
   "source": [
    "Anzahl der Feldausprägungen der kombinierten Datenfelder \"Transaktionstyp\" und \"Fraudkennzeichen\" der erhaltenen Transaktionsdaten:"
   ]
  },
  {
   "cell_type": "code",
   "execution_count": 24,
   "metadata": {},
   "outputs": [
    {
     "data": {
      "text/plain": [
       "type      isFraud\n",
       "CASH_OUT  0          2233384\n",
       "          1             4116\n",
       "TRANSFER  0           528812\n",
       "          1             4097\n",
       "Name: step, dtype: int64"
      ]
     },
     "execution_count": 24,
     "metadata": {},
     "output_type": "execute_result"
    }
   ],
   "source": [
    "data.groupby([\"type\", \"isFraud\"])[\"step\"].count()"
   ]
  },
  {
   "cell_type": "markdown",
   "metadata": {},
   "source": [
    "Visualisierung der Feldausprägungen der kombinierten Datenfelder \"Transaktionstyp\" und \"Fraudkennzeichen\" der erhaltenen Transaktionsdaten:"
   ]
  },
  {
   "cell_type": "code",
   "execution_count": 25,
   "metadata": {},
   "outputs": [
    {
     "data": {
      "image/png": "[encoded data removed]",
      "text/plain": [
       "<Figure size 432x288 with 1 Axes>"
      ]
     },
     "metadata": {
      "needs_background": "light"
     },
     "output_type": "display_data"
    }
   ],
   "source": [
    "# initialisierung des Plots\n",
    "fig, ax = plt.subplots()\n",
    "\n",
    "# zeichnen des Histograms\n",
    "data.groupby([\"type\", \"isFraud\"])[\"step\"].count().plot(ax=ax, kind=\"bar\", color=\"green\")\n",
    "\n",
    "# hinzufügen der Achsenbeschriftungen\n",
    "plt.ylabel(\"[Anzahl]\", fontsize=12)\n",
    "plt.xlabel(\"[Transaktionsklasse und Fraudkennzeichen]\", fontsize=12)\n",
    "\n",
    "# hinzufügen des Titels\n",
    "plt.title(\"Verteilung der Transaktionsanzahl\", fontsize=12);"
   ]
  },
  {
   "cell_type": "markdown",
   "metadata": {},
   "source": [
    "**Beispielhafte Verifizierung des zeitlichen Verlaufs der zu analysierenden Transaktionsdaten:**"
   ]
  },
  {
   "cell_type": "markdown",
   "metadata": {},
   "source": [
    "Vollständige Extraktion der Transaktionen des Transaktionstyps \"CASH_OUT\":"
   ]
  },
  {
   "cell_type": "code",
   "execution_count": 26,
   "metadata": {},
   "outputs": [],
   "source": [
    "# filtern der \"cash-out\" Transaktionen\n",
    "transactions_cash_out = data[data[\"type\"] == \"CASH_OUT\"]"
   ]
  },
  {
   "cell_type": "markdown",
   "metadata": {},
   "source": [
    "Verifikation der Vollständigkeit der extrahierten Transaktionen des Transaktionstyps \"CASH_OUT\":"
   ]
  },
  {
   "cell_type": "code",
   "execution_count": 27,
   "metadata": {},
   "outputs": [
    {
     "data": {
      "text/plain": [
       "2237500"
      ]
     },
     "execution_count": 27,
     "metadata": {},
     "output_type": "execute_result"
    }
   ],
   "source": [
    "transactions_cash_out.shape[0]"
   ]
  },
  {
   "cell_type": "markdown",
   "metadata": {},
   "source": [
    "Visualisierung des Transaktionsbetrags der \"CASH_OUT\" Transaktionen im Zeitverlauf:"
   ]
  },
  {
   "cell_type": "code",
   "execution_count": 28,
   "metadata": {},
   "outputs": [
    {
     "data": {
      "image/png": "[encoded data removed]",
      "text/plain": [
       "<Figure size 432x288 with 1 Axes>"
      ]
     },
     "metadata": {
      "needs_background": "light"
     },
     "output_type": "display_data"
    }
   ],
   "source": [
    "# initialisierung des Plots\n",
    "fig, ax = plt.subplots()\n",
    "\n",
    "# zeichnen des Scatterplots\n",
    "plt.scatter(transactions_cash_out[\"step\"], transactions_cash_out[\"amount\"], color=\"green\", alpha=0.5, label=\"Cash-Out\")\n",
    "\n",
    "# hinzufügen der Achsenbeschriftungen\n",
    "plt.ylabel(\"[amount]\", fontsize=12)\n",
    "plt.xlabel(\"[step]\", fontsize=12)\n",
    "\n",
    "# formatierung der Achsenticklabel\n",
    "ax.ticklabel_format(style='plain')\n",
    "\n",
    "# hinzufügen der Legende\n",
    "plt.legend(loc=\"upper right\", frameon=True)\n",
    "\n",
    "# hinzufügen des Titels\n",
    "plt.title(\"'Cash-Out' Transaktionswerte im Zeitverlauf\");"
   ]
  },
  {
   "cell_type": "markdown",
   "metadata": {},
   "source": [
    "Vollständige Extraktion der Transaktionen des Transaktionstyps \"TRANSFER\":"
   ]
  },
  {
   "cell_type": "code",
   "execution_count": 29,
   "metadata": {},
   "outputs": [],
   "source": [
    "# filtern der \"transfer\" transaktionen\n",
    "transactions_transfer = data[data[\"type\"] == \"TRANSFER\"]"
   ]
  },
  {
   "cell_type": "markdown",
   "metadata": {},
   "source": [
    "Verifikation der Vollständigkeit der extrahierten Transaktionen des Transaktionstyps \"TRANSFER\":"
   ]
  },
  {
   "cell_type": "code",
   "execution_count": 30,
   "metadata": {},
   "outputs": [
    {
     "data": {
      "text/plain": [
       "532909"
      ]
     },
     "execution_count": 30,
     "metadata": {},
     "output_type": "execute_result"
    }
   ],
   "source": [
    "transactions_transfer.shape[0]"
   ]
  },
  {
   "cell_type": "markdown",
   "metadata": {},
   "source": [
    "Visualisierung des Transaktionsbetrags der \"TRANSFER\" Transaktionen im Zeitverlauf:"
   ]
  },
  {
   "cell_type": "code",
   "execution_count": null,
   "metadata": {},
   "outputs": [],
   "source": [
    "# initialisierung des Plots\n",
    "fig, ax = plt.subplots()\n",
    "\n",
    "# zeichnen des Scatterplots\n",
    "plt.scatter(transactions_transfer[\"step\"], transactions_transfer[\"amount\"], color=\"green\", alpha=0.5, label=\"Transfer\")\n",
    "\n",
    "# hinzufügen der Achsenbeschriftungen\n",
    "plt.ylabel(\"[amount]\", fontsize=12)\n",
    "plt.xlabel(\"[step]\", fontsize=12)\n",
    "\n",
    "# formatierung der Achsenticklabel\n",
    "ax.ticklabel_format(style='plain')\n",
    "\n",
    "# hinzufügen der Legende\n",
    "plt.legend(loc=\"upper right\", frameon=True)\n",
    "\n",
    "# hinzufügen des Titels\n",
    "plt.title(\"'Transfer' Transaktionswerte im Zeitverlauf\");"
   ]
  },
  {
   "cell_type": "markdown",
   "metadata": {},
   "source": [
    "### 3. Datenaufbereitung"
   ]
  },
  {
   "cell_type": "markdown",
   "metadata": {},
   "source": [
    "Unter **Datenaufbereitung** versteht man die Bereinigung und Transformation von Rohdaten vor der eigentlichen Verarbeitung und Analyse. Die Datenaufbereitung ist ein wichtiger Schritt vor der eigentlich durchzuführenden Datenanalyse und umfasst häufig das erneute Formatieren von Daten, die Berichtigung von Informationen und die Kombination von Datensätzen zur Anreicherung dieser Daten."
   ]
  },
  {
   "cell_type": "markdown",
   "metadata": {},
   "source": [
    "#### 3.1. Formattierung von Datenfeldern"
   ]
  },
  {
   "cell_type": "markdown",
   "metadata": {},
   "source": [
    "Die Formattierung von Datenfeldern dient oftmals dazu die vorliegenden Daten in ein analysegeeignetes oder menschlich lesbares Format zu übertragen. Im Nachfolgenden möchten wir die beiden Datenfelder **\"isFraud\"** und **\"isFlaggedFraud\"** der \"CASH_OUT\" Transaktionen in ein menschlich lesbares Datenformat überführen:"
   ]
  },
  {
   "cell_type": "code",
   "execution_count": null,
   "metadata": {},
   "outputs": [],
   "source": [
    "transactions_cash_out.head(5)"
   ]
  },
  {
   "cell_type": "markdown",
   "metadata": {},
   "source": [
    "Formattierung des Feldes \"isFraud\":"
   ]
  },
  {
   "cell_type": "code",
   "execution_count": null,
   "metadata": {},
   "outputs": [],
   "source": [
    "transactions_cash_out.loc[transactions_cash_out['isFraud'] == 1, 'isFraud'] = 'yes' # ersetzen des Wertes \"1\" durch \"yes\"\n",
    "transactions_cash_out.loc[transactions_cash_out['isFraud'] == 0, 'isFraud'] = 'no' # ersetzen des Wertes \"0\" durch \"no\""
   ]
  },
  {
   "cell_type": "markdown",
   "metadata": {},
   "source": [
    "Stichprobenhafte Verifikation der Formattierung:"
   ]
  },
  {
   "cell_type": "code",
   "execution_count": null,
   "metadata": {},
   "outputs": [],
   "source": [
    "transactions_cash_out.head(5)"
   ]
  },
  {
   "cell_type": "markdown",
   "metadata": {},
   "source": [
    "Formattierung des Feldes \"isFlaggedFraud\":"
   ]
  },
  {
   "cell_type": "code",
   "execution_count": null,
   "metadata": {},
   "outputs": [],
   "source": [
    "transactions_cash_out.loc[transactions_cash_out['isFlaggedFraud'] == 1, 'isFlaggedFraud'] = 'yes' # ersetzen des Wertes \"1\" durch \"yes\"\n",
    "transactions_cash_out.loc[transactions_cash_out['isFlaggedFraud'] == 0, 'isFlaggedFraud'] = 'no' # ersetzen des Wertes \"0\" durch \"no\""
   ]
  },
  {
   "cell_type": "markdown",
   "metadata": {},
   "source": [
    "Stichprobenhafte Verifikation der Formattierung:"
   ]
  },
  {
   "cell_type": "code",
   "execution_count": null,
   "metadata": {},
   "outputs": [],
   "source": [
    "transactions_cash_out.head(5)"
   ]
  },
  {
   "cell_type": "markdown",
   "metadata": {},
   "source": [
    "### 4. Indikatorbasierte Datenanalyse"
   ]
  },
  {
   "cell_type": "markdown",
   "metadata": {},
   "source": [
    "<img align=\"center\" style=\"max-width: 800px; height: auto\" src=\"01_images/analytics.png\">"
   ]
  },
  {
   "cell_type": "markdown",
   "metadata": {},
   "source": [
    "#### 4.1. Analyse ungewöhnlich hoher Zahlungsausgänge"
   ]
  },
  {
   "cell_type": "markdown",
   "metadata": {},
   "source": [
    "<p>\n",
    "    <table class=\"table table-bordered table-striped table-hover\">\n",
    "    <col width=\"150\">\n",
    "        <tr>\n",
    "            <td><b>Risiko: </b></td>\n",
    "            <td><p align=\"left\">Ungewöhnliche hohe Zahlungsausgänge bergen ein erhöhtes Schadensrisiko.</p></td>\n",
    "        </tr>\n",
    "        <tr>\n",
    "            <td><b>Daten: </b></td>\n",
    "            <td><p align=\"left\">Grundgesamtheit der 2'237'500 \"Cash-Out\" Transaktion des 'PaySim' Datensatzes.</p></td>\n",
    "        </tr>\n",
    "        <tr>\n",
    "            <td><b>Analyse: </b></td>\n",
    "            <td><p align=\"left\">Identifikation aller \"Cash-Out\" Transaktionen die einen Transaktionsbetrag höher oder gleich 10 Mio. in lokaler Währung aufweisen. Extraktion der einschlägigen \"Cash-Out\" Transaktionen aus dem 'PaySim' Datensatz für eine stichprobenhafte Einzelfallprüfung.</p></td>\n",
    "        </tr>\n",
    "    </table>\n",
    "</p>"
   ]
  },
  {
   "cell_type": "markdown",
   "metadata": {},
   "source": [
    "Extraktion der gemäß Analyse definierten \"Cash-Out\" Transaktionen:"
   ]
  },
  {
   "cell_type": "code",
   "execution_count": null,
   "metadata": {},
   "outputs": [],
   "source": [
    "transactions_cash_out_high_value = transactions_cash_out[transactions_cash_out[\"amount\"] >= 10000000]"
   ]
  },
  {
   "cell_type": "markdown",
   "metadata": {},
   "source": [
    "Ermittlung der Anzahl extrahierter einschlägiger Transaktionen:"
   ]
  },
  {
   "cell_type": "code",
   "execution_count": null,
   "metadata": {},
   "outputs": [],
   "source": [
    "transactions_cash_out_high_value.shape[0]"
   ]
  },
  {
   "cell_type": "markdown",
   "metadata": {},
   "source": [
    "Stichprobenhafte Verifikation der Analyseergebnisse:"
   ]
  },
  {
   "cell_type": "code",
   "execution_count": null,
   "metadata": {},
   "outputs": [],
   "source": [
    "transactions_cash_out_high_value.head(20)"
   ]
  },
  {
   "cell_type": "markdown",
   "metadata": {},
   "source": [
    "Erzeugung eines Analysezeitstempels:"
   ]
  },
  {
   "cell_type": "code",
   "execution_count": null,
   "metadata": {},
   "outputs": [],
   "source": [
    "timestamp = dt.datetime.utcnow().strftime(\"%Y-%m-%d_%H-%M-%S\")"
   ]
  },
  {
   "cell_type": "markdown",
   "metadata": {},
   "source": [
    "Festlegung des Dateinamens der zu speichernden Analyseergebnisse:"
   ]
  },
  {
   "cell_type": "code",
   "execution_count": null,
   "metadata": {},
   "outputs": [],
   "source": [
    "filename = \"A001_\" + str(timestamp) + \"_analysis_result_high_amount.csv\""
   ]
  },
  {
   "cell_type": "markdown",
   "metadata": {},
   "source": [
    "Festlegung des Verzeichnises der zu speichernden Analyseergebnisse:"
   ]
  },
  {
   "cell_type": "code",
   "execution_count": null,
   "metadata": {},
   "outputs": [],
   "source": [
    "directory = os.path.join(os.getcwd(), '03_results', filename)"
   ]
  },
  {
   "cell_type": "markdown",
   "metadata": {},
   "source": [
    "Speichern der Analyseergebnisse auf dem lokalen Dateisystem:"
   ]
  },
  {
   "cell_type": "code",
   "execution_count": null,
   "metadata": {},
   "outputs": [],
   "source": [
    "transactions_cash_out_high_value.to_csv(directory, sep=\",\", header=True, index=False, encoding=\"utf-8\")"
   ]
  },
  {
   "cell_type": "markdown",
   "metadata": {},
   "source": [
    "#### 4.2. Analyse ungewöhnlicher hoher Zahlungen zwischen Geschäftspartnern"
   ]
  },
  {
   "cell_type": "markdown",
   "metadata": {},
   "source": [
    "<p>\n",
    "    <table class=\"table table-bordered table-striped table-hover\">\n",
    "    <col width=\"150\">\n",
    "        <tr>\n",
    "            <td><b>Risiko: </b></td>\n",
    "            <td><p align=\"left\">Ungewöhnliche hohe illegitime Zahlungen zwischen Geschäftspartnern bergen ein erhöhtes Schadensrisiko.</p></td>\n",
    "        </tr>\n",
    "        <tr>\n",
    "            <td><b>Daten: </b></td>\n",
    "            <td><p align=\"left\">Grundgesamtheit der 2'237'500 \"Cash-Out\" Transaktion des 'PaySim' Datensatzes.</p></td>\n",
    "        </tr>\n",
    "        <tr>\n",
    "            <td><b>Analyse: </b></td>\n",
    "            <td><p align=\"left\">Analyse des paarweisen betraglichen \"Cash-Out\" Transaktionsvolumens zwischen Geschäftspartnern. Identifikation von paarweisen Geschäftspartnern, welche das höchste \"Cash-Out\" Transaktionsvolumen aufweisen. Extraktion der korrespondierenden \"Cash-Out\" Transaktionen aus dem 'PaySim' Datensatz für Einzelfallprüfung.</p></td>\n",
    "        </tr>\n",
    "    </table>\n",
    "</p>"
   ]
  },
  {
   "cell_type": "markdown",
   "metadata": {},
   "source": [
    "Summierung des \"CASH_OUT\" Transaktionsvolumens pro Geschäftspartnerbeziehung:"
   ]
  },
  {
   "cell_type": "code",
   "execution_count": null,
   "metadata": {},
   "outputs": [],
   "source": [
    "transactions_cash_out_partners = transactions_cash_out.groupby(['nameOrig', 'nameDest'])[['amount', 'newbalanceOrig', 'oldbalanceOrg']].sum()"
   ]
  },
  {
   "cell_type": "markdown",
   "metadata": {},
   "source": [
    "Stichprobenhafte Verifikation der Analyseergebnisse:"
   ]
  },
  {
   "cell_type": "code",
   "execution_count": null,
   "metadata": {},
   "outputs": [],
   "source": [
    "transactions_cash_out_partners.head(10)"
   ]
  },
  {
   "cell_type": "markdown",
   "metadata": {},
   "source": [
    "Absteigende Sortierung des \"CASH_OUT\" Transaktionsvolumnes pro Geschäftspartnerbeziehung:"
   ]
  },
  {
   "cell_type": "code",
   "execution_count": null,
   "metadata": {},
   "outputs": [],
   "source": [
    "transactions_cash_out_partners_sorted = transactions_cash_out_partners.sort_values(by=['amount'], ascending=False)"
   ]
  },
  {
   "cell_type": "markdown",
   "metadata": {},
   "source": [
    "Stichprobenhafte Verifikation der Sortierung:"
   ]
  },
  {
   "cell_type": "code",
   "execution_count": null,
   "metadata": {},
   "outputs": [],
   "source": [
    "transactions_cash_out_partners_sorted.head(10)"
   ]
  },
  {
   "cell_type": "markdown",
   "metadata": {},
   "source": [
    "Filtern des \"CASH_OUT\" Transaktionsvolumens pro Geschäftspartnerbeziehung für zuvor nicht erkannte Transaktionen:"
   ]
  },
  {
   "cell_type": "code",
   "execution_count": null,
   "metadata": {},
   "outputs": [],
   "source": [
    "transactions_cash_out_partners_sorted_filtered = transactions_cash_out_partners_sorted[transactions_cash_out_partners_sorted['amount'] != 10000000.00]"
   ]
  },
  {
   "cell_type": "markdown",
   "metadata": {},
   "source": [
    "Stichprobenhafte Verifikation des Filters:"
   ]
  },
  {
   "cell_type": "code",
   "execution_count": null,
   "metadata": {},
   "outputs": [],
   "source": [
    "transactions_cash_out_partners_sorted_filtered.head(10)"
   ]
  },
  {
   "cell_type": "markdown",
   "metadata": {},
   "source": [
    "Extraktion der \"CASH_OUT\" Transaktionen zwischen auffälliger Geschäftspartner Beziehung \"C887830623\" - \"C1319987164\":"
   ]
  },
  {
   "cell_type": "code",
   "execution_count": null,
   "metadata": {},
   "outputs": [],
   "source": [
    "transactions_cash_out_partners_1 = transactions_cash_out[(transactions_cash_out['nameOrig'] == 'C887830623') & (transactions_cash_out['nameDest'] == 'C1319987164')]"
   ]
  },
  {
   "cell_type": "markdown",
   "metadata": {},
   "source": [
    "Stichprobenhafte Verifikation der Analyseergebnisse:"
   ]
  },
  {
   "cell_type": "code",
   "execution_count": null,
   "metadata": {},
   "outputs": [],
   "source": [
    "transactions_cash_out_partners_1"
   ]
  },
  {
   "cell_type": "markdown",
   "metadata": {},
   "source": [
    "Extraktion der \"CASH_OUT\" Transaktionen zwischen auffälliger Geschäftspartner Beziehung \"C840795008\" - \"C1214752539\":"
   ]
  },
  {
   "cell_type": "code",
   "execution_count": null,
   "metadata": {},
   "outputs": [],
   "source": [
    "transactions_cash_out_partners_2 = transactions_cash_out[(transactions_cash_out['nameOrig'] == 'C840795008') & (transactions_cash_out['nameDest'] == 'C1214752539')]"
   ]
  },
  {
   "cell_type": "markdown",
   "metadata": {},
   "source": [
    "Stichprobenhafte Verifikation der Analyseergebnisse:"
   ]
  },
  {
   "cell_type": "code",
   "execution_count": null,
   "metadata": {},
   "outputs": [],
   "source": [
    "transactions_cash_out_partners_2"
   ]
  },
  {
   "cell_type": "markdown",
   "metadata": {},
   "source": [
    "Zusammenfügen der vorangegangenen Analyseergebnisse:"
   ]
  },
  {
   "cell_type": "code",
   "execution_count": null,
   "metadata": {},
   "outputs": [],
   "source": [
    "transactions_cash_out_partners_all = pd.concat([transactions_cash_out_partners_1, transactions_cash_out_partners_2], axis=0)"
   ]
  },
  {
   "cell_type": "markdown",
   "metadata": {},
   "source": [
    "Erzeugung eines Analyeszeitstempels:"
   ]
  },
  {
   "cell_type": "code",
   "execution_count": null,
   "metadata": {},
   "outputs": [],
   "source": [
    "timestamp = dt.datetime.utcnow().strftime(\"%Y-%m-%d_%H-%M-%S\")"
   ]
  },
  {
   "cell_type": "markdown",
   "metadata": {},
   "source": [
    "Festlegung des Dateinamens der zu speichernden Analyseergebnisse:"
   ]
  },
  {
   "cell_type": "code",
   "execution_count": null,
   "metadata": {},
   "outputs": [],
   "source": [
    "filename = \"A002_\" + str(timestamp) + \"_analysis_result_transaction_partners.csv\""
   ]
  },
  {
   "cell_type": "markdown",
   "metadata": {},
   "source": [
    "Festlegung des Verzeichnises der zu speichernden Analyseergebnisse:"
   ]
  },
  {
   "cell_type": "code",
   "execution_count": null,
   "metadata": {},
   "outputs": [],
   "source": [
    "directory = os.path.join(os.getcwd(), '03_results', filename)"
   ]
  },
  {
   "cell_type": "markdown",
   "metadata": {},
   "source": [
    "Speichern der Analyseergebnisse auf dem lokalen Dateisystem:"
   ]
  },
  {
   "cell_type": "code",
   "execution_count": null,
   "metadata": {},
   "outputs": [],
   "source": [
    "transactions_cash_out_partners_all.to_csv(directory, sep=\",\", header=True, index=False, encoding=\"utf-8\")"
   ]
  },
  {
   "cell_type": "markdown",
   "metadata": {},
   "source": [
    "### Übungen:"
   ]
  },
  {
   "cell_type": "markdown",
   "metadata": {},
   "source": [
    "Wir empfehlen die Durchführung der nachfolgenden Übungen im Rahmen das Labs:\n",
    "\n",
    "**1. Analysieren Sie die \"TRANSFER\" Transaktionen im Hinblick auf Transaktionen die ein ungewöhnlich hohes Betragsvolumen aufweisen.**\n",
    "\n",
    "> Analysieren Sie die im Rahmen der Datenvalidierung extrahierten 532'909 \"TRANSFER\" Transaktionen im Hinblick auf Transaktionen die ein ungewöhnlich hohes Betragsvolumen aufweisen. Orientieren Sie sich hierbei bitte an der unter Kapitel 4.1. des Notebooks vorgestellten Vorgehensweise. Extrahieren Sie Ihre Analyseergebnisse in gesonderte CSV-Datei für die ggf. nachgelagerte Einzelfallprüfung."
   ]
  },
  {
   "cell_type": "code",
   "execution_count": null,
   "metadata": {},
   "outputs": [],
   "source": [
    "# ***************************************************\n",
    "# Bitte geben Sie Ihre Lösung in dieses Feld ein\n",
    "# ***************************************************"
   ]
  },
  {
   "cell_type": "markdown",
   "metadata": {},
   "source": [
    "**2. Analysieren Sie die \"TRANSFER\" Transaktionen im Hinblick auf Beziehungen zwischen Geschäftspartnern die ein ungewöhnlich hohes Betragsvolumen aufweisen.**\n",
    "\n",
    "> Analysieren Sie die im Rahmen der Datenvalidierung extrahierten 532'909 \"TRANSFER\" Transaktionen im Hinblick auf Beziehungen zwischen Geschäftspartnern die ein ungewöhnlich hohes Betragsvolumen aufweisen. Orientieren Sie sich hierbei bitte an der unter Kapitel 4.2. des Notebooks vorgestellten Vorgehensweise. Extrahieren Sie Ihre Analyseergebnisse in gesonderte CSV-Datei für die ggf. nachgelagerte Einzelfallprüfung."
   ]
  },
  {
   "cell_type": "code",
   "execution_count": null,
   "metadata": {},
   "outputs": [],
   "source": [
    "# ***************************************************\n",
    "# Bitte geben Sie Ihre Lösung in dieses Feld ein\n",
    "# ***************************************************"
   ]
  },
  {
   "cell_type": "markdown",
   "metadata": {},
   "source": [
    "### Zusammenfassung:"
   ]
  },
  {
   "cell_type": "markdown",
   "metadata": {},
   "source": [
    "In diesem Lab wurde eine schrittweise Einführung in die indikatorbasierte revisorische Datenanalyse vorgestellt. Hierbei wurden im Besonderen auf die Teilschritte **(1) Datenimport**, **(2) Datenvalidierung**, **(3) Datenaufbereitung** und **(4) Datenanalyse** behandelt. Die in diesem Lab präsentierte Struktur und Analysen können Ausgangspunkt für komplexere und maßgeschneiderte Analysen darstellen."
   ]
  }
 ],
 "metadata": {
  "kernelspec": {
   "display_name": "Python 3",
   "language": "python",
   "name": "python3"
  },
  "language_info": {
   "codemirror_mode": {
    "name": "ipython",
    "version": 3
   },
   "file_extension": ".py",
   "mimetype": "text/x-python",
   "name": "python",
   "nbconvert_exporter": "python",
   "pygments_lexer": "ipython3",
   "version": "3.7.4"
  }
 },
 "nbformat": 4,
 "nbformat_minor": 2
}
