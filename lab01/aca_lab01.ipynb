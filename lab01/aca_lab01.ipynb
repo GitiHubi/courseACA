{
 "cells": [
  {
   "cell_type": "markdown",
   "metadata": {},
   "source": [
    "<style>\n",
    "th {background-color:#55FF33;}\n",
    "td {background-color:#00FFFF;}\n",
    "</style>"
   ]
  },
  {
   "cell_type": "markdown",
   "metadata": {},
   "source": [
    "<img align=\"right\" style=\"max-width: 200px; height: auto\" src=\"01_images/logo.png\">\n",
    "\n",
    "## Lab 01 - Rule-Based Audit Data Analytics\n",
    "\n",
    "Audit Data Analytics in Python, University of St.Gallen (HSG), January 13th, 2020"
   ]
  },
  {
   "cell_type": "markdown",
   "metadata": {},
   "source": [
    "The lab environment of the **\"Audit Data Analytics Course\"** at the University of St. Gallen (HSG) is based on Jupyter Notebooks (https://jupyter.org), which allow to perform a variety of statistical evaluations and data analyses."
   ]
  },
  {
   "cell_type": "markdown",
   "metadata": {},
   "source": [
    "<img align=\"center\" style=\"max-width: 900px; height: auto\" src=\"01_images/banner.png\">"
   ]
  },
  {
   "cell_type": "markdown",
   "metadata": {},
   "source": [
    "In the last lab, we learned about the basic functionality of Jupyter Notebooks. In this lab, we will use Jupyter Notebook to delve into some elements of the revisited data analysis process. The main goal of this lab here is to exemplarily perform the steps of a data import, a data validation as well as a data analysis based on a concrete example."
   ]
  },
  {
   "cell_type": "markdown",
   "metadata": {},
   "source": [
    "<img align=\"center\" style=\"max-width: 800px; height: auto\" src=\"01_images/process.png\">"
   ]
  },
  {
   "cell_type": "markdown",
   "metadata": {},
   "source": [
    "As always, pls. don't hesitate to ask all your questions either during the lab or send us an email via marco (dot) schreyer (at) unisg (dot) ch."
   ]
  },
  {
   "cell_type": "markdown",
   "metadata": {},
   "source": [
    "## Lab Objectives:"
   ]
  },
  {
   "cell_type": "markdown",
   "metadata": {},
   "source": [
    "After today's lab, you should be able to:\n",
    "\n",
    "> 1. Understand how to perform auditing data analysis using **Jupyter** and **Python**.\n",
    "> 2. Use the **Pandas** library to analyze a variety of transactional data in a targeted manner.\n",
    "> 3. Use the **Matplotlib** library to create custom data visualizations.\n",
    "> 4. Develop initial **more concrete ideas** for possible data analyses within your company or institution."
   ]
  },
  {
   "cell_type": "markdown",
   "metadata": {},
   "source": [
    "But before we start let's watch a brief motivational video published by the **American Institute of Certified Public Accountants (AICPA)** in 2019 on the application of Jupyter Notebooks and the Python Programming language in Financial Statement Audits: "
   ]
  },
  {
   "cell_type": "code",
   "execution_count": 67,
   "metadata": {},
   "outputs": [],
   "source": [
    "from IPython.display import YouTubeVideo\n",
    "# AICPA: Upgrade the Financial Statement Audit with Audit Data Analytics\n",
    "# YouTubeVideo('kHY-Ioq_InA', width=1024, height=576)"
   ]
  },
  {
   "cell_type": "markdown",
   "metadata": {},
   "source": [
    "## Setup of the Jupyter Notebook Environment"
   ]
  },
  {
   "cell_type": "markdown",
   "metadata": {},
   "source": [
    "In analogy to our introductory lab, it is first necessary again to import some Python libraries that allow us to perform data acquisition, data analysis and data visualization. In this lab, we will specifically use the following three libraries (1) **Pandas** (https://pandas.pydata.org), (2) **NumPy** (https://numpy.org) and (3) **Matplotlib** (https://matplotlib.org) in the context of data visualization."
   ]
  },
  {
   "cell_type": "markdown",
   "metadata": {},
   "source": [
    "Let's import the `Pandas` and the `NumPy` libraries accordingly by executing the following `import` statements:"
   ]
  },
  {
   "cell_type": "code",
   "execution_count": 2,
   "metadata": {},
   "outputs": [],
   "source": [
    "import pandas as pd\n",
    "import numpy as np"
   ]
  },
  {
   "cell_type": "markdown",
   "metadata": {},
   "source": [
    "In addition, we import a couple of `Python's` utility libraries:"
   ]
  },
  {
   "cell_type": "code",
   "execution_count": 3,
   "metadata": {},
   "outputs": [],
   "source": [
    "import os # allows to create, access and manipulate data directories\n",
    "import datetime as dt # allows for the create of data time stamps"
   ]
  },
  {
   "cell_type": "markdown",
   "metadata": {},
   "source": [
    "We also import a set of `Python's` data access and import libraries: "
   ]
  },
  {
   "cell_type": "code",
   "execution_count": 4,
   "metadata": {},
   "outputs": [],
   "source": [
    "import io # allows to open and access streams of data\n",
    "import zipfile # allows to zip and unzip data\n",
    "import urllib # allows to handle website requests"
   ]
  },
  {
   "cell_type": "markdown",
   "metadata": {},
   "source": [
    "Finally, import the `Matplotlib` and `Seaborn` plotting libraries and set the general data visualization parameters:"
   ]
  },
  {
   "cell_type": "code",
   "execution_count": 5,
   "metadata": {},
   "outputs": [],
   "source": [
    "import matplotlib.pyplot as plt\n",
    "import seaborn as sns\n",
    "\n",
    "# set global data visualization parameters\n",
    "plt.style.use('seaborn') # set the plotting style\n",
    "plt.rcParams['figure.figsize'] = [5, 3] # set the plot figure size\n",
    "plt.rcParams['figure.dpi']= 150 # set the plotting resolution"
   ]
  },
  {
   "cell_type": "markdown",
   "metadata": {},
   "source": [
    "Enable the \"inline plotting\" of visualizations within the current notebook:"
   ]
  },
  {
   "cell_type": "code",
   "execution_count": 6,
   "metadata": {},
   "outputs": [],
   "source": [
    "%matplotlib inline"
   ]
  },
  {
   "cell_type": "markdown",
   "metadata": {},
   "source": [
    "Create notebook folder structure to store the original data as well as the analysis results:"
   ]
  },
  {
   "cell_type": "code",
   "execution_count": 7,
   "metadata": {},
   "outputs": [],
   "source": [
    "if not os.path.exists('./02_data'): os.makedirs('./02_data')  # create data directory\n",
    "if not os.path.exists('./03_results'): os.makedirs('./03_results')  # create results directory"
   ]
  },
  {
   "cell_type": "markdown",
   "metadata": {},
   "source": [
    "Filter and suppress potential library warnings, for example due to library enhancements: "
   ]
  },
  {
   "cell_type": "code",
   "execution_count": 8,
   "metadata": {},
   "outputs": [],
   "source": [
    "import warnings\n",
    "\n",
    "# set the warning filter flag to ignore warnings\n",
    "warnings.filterwarnings('ignore')"
   ]
  },
  {
   "cell_type": "markdown",
   "metadata": {},
   "source": [
    "## 1. Dataset Download and Data Import"
   ]
  },
  {
   "cell_type": "markdown",
   "metadata": {},
   "source": [
    "The synthetic **PaySim** dataset simulates mobile money transactions based on real transactions extracted from one month of financial logs of a mobile financial service provider implemented in an African country. The original logs were provided by a multinational company that provided mobile financial services. At the time the data was published, the service provider operated in more than 14 countries worldwide.\n",
    "\n",
    "The latest version of the dataset was published at the Kaggle Data Science Competitions website on April 3th, 2017 by the Norwegian University of Science and Technology (NTNU)"
   ]
  },
  {
   "cell_type": "markdown",
   "metadata": {},
   "source": [
    "In total, the **PaySim** dataset comprises a population of **6.3 million logged transactions**. Each transaction contains **nine different attributes (features)**. The attribute names and their respective semantic meaning is given below:\n",
    "\n",
    ">- `Step:` Denotes the current hour of time. In total 744 hours (30 simulation days).\n",
    ">- `Type:` Denotes the type of the transaction. In total 5 different transaction types.\n",
    ">- `Amount:` Indicates the amount transferred in local currency.\n",
    "\n",
    ">- `NameOrig:` Identifies the (anonymized) ID of the sender who ordered the transaction.\n",
    ">- `OldBalanceOrg:` Denotes the initial balance of the sender's account before the transaction.\n",
    ">- `NewBalanceOrg:` Indicates the new balance of the sender's account after the transaction.\n",
    "\n",
    ">- `NameDest:` Denotes the (anonymized) ID of the recipient of the transaction.\n",
    ">- `OldBalanceOrg:` Denotes the initial account balance of the recipient before the transaction.\n",
    ">- `NewBalanceOrg:` Denotes the new balance of the recipient's account after the transaction has taken place.\n",
    "\n",
    "In addition, each transaction is marked with the following **two additional flags**:\n",
    "\n",
    ">- `isFraud:` Indicates actual \"fraudulent\" transactions.\n",
    ">- `isFlaggedFraud:` Indicates fraudulent transactions detected by the system.\n",
    "\n",
    "Further details of the dataset, as well as the dataset itself, can be obtained via the following publication:\n",
    "\n",
    "*E. A. Lopez-Rojas , A. Elmir, and S. Axelsson. \"PaySim: A financial mobile money simulator for fraud detection\". In: The 28th European Modeling and Simulation Symposium-EMSS, Larnaca, Cyprus. 2016* \n",
    "\n",
    "or the following website on Kaggle: https://www.kaggle.com/ntnu-testimon/paysim1."
   ]
  },
  {
   "cell_type": "markdown",
   "metadata": {},
   "source": [
    "Now let's import a partial extract of the previously described data set consisting of **2,770,409 logged transactions** into the notebook. To do this, we first define the path or URL of the transaction data to be imported: "
   ]
  },
  {
   "cell_type": "code",
   "execution_count": 9,
   "metadata": {},
   "outputs": [],
   "source": [
    "url = 'https://raw.githubusercontent.com/GitiHubi/courseACA/master/lab01/02_data/transactions.zip'"
   ]
  },
  {
   "cell_type": "markdown",
   "metadata": {},
   "source": [
    "In a next step we will open an URL open request to read the data from the provided URL:"
   ]
  },
  {
   "cell_type": "code",
   "execution_count": 10,
   "metadata": {},
   "outputs": [],
   "source": [
    "request = urllib.request.urlopen(url)"
   ]
  },
  {
   "cell_type": "markdown",
   "metadata": {},
   "source": [
    "Furthermore, we will retrieve the ZIP archive of the data from the opened URL request:"
   ]
  },
  {
   "cell_type": "code",
   "execution_count": 11,
   "metadata": {},
   "outputs": [],
   "source": [
    "datazip = zipfile.ZipFile(io.BytesIO(request.read()))"
   ]
  },
  {
   "cell_type": "markdown",
   "metadata": {},
   "source": [
    "Finally, we will extract the `transactions.csv` file contained in the ZIP archive and read it as a Comma Separated Value (CSV) into `Pandas` dataframe:"
   ]
  },
  {
   "cell_type": "code",
   "execution_count": 12,
   "metadata": {},
   "outputs": [],
   "source": [
    "# open and unzip the ZIP archive\n",
    "csv_file = datazip.open('transactions.csv')\n",
    "\n",
    "# read the csv data as pandas dataframe\n",
    "data = pd.read_csv(csv_file)"
   ]
  },
  {
   "cell_type": "markdown",
   "metadata": {},
   "source": [
    "Review the first 10 transactions (rows) of the data set:"
   ]
  },
  {
   "cell_type": "code",
   "execution_count": 13,
   "metadata": {},
   "outputs": [
    {
     "data": {
      "text/html": [
       "<div>\n",
       "<style scoped>\n",
       "    .dataframe tbody tr th:only-of-type {\n",
       "        vertical-align: middle;\n",
       "    }\n",
       "\n",
       "    .dataframe tbody tr th {\n",
       "        vertical-align: top;\n",
       "    }\n",
       "\n",
       "    .dataframe thead th {\n",
       "        text-align: right;\n",
       "    }\n",
       "</style>\n",
       "<table border=\"1\" class=\"dataframe\">\n",
       "  <thead>\n",
       "    <tr style=\"text-align: right;\">\n",
       "      <th></th>\n",
       "      <th>step</th>\n",
       "      <th>type</th>\n",
       "      <th>amount</th>\n",
       "      <th>nameOrig</th>\n",
       "      <th>oldbalanceOrg</th>\n",
       "      <th>newbalanceOrig</th>\n",
       "      <th>nameDest</th>\n",
       "      <th>oldbalanceDest</th>\n",
       "      <th>newbalanceDest</th>\n",
       "      <th>isFraud</th>\n",
       "      <th>isFlaggedFraud</th>\n",
       "    </tr>\n",
       "  </thead>\n",
       "  <tbody>\n",
       "    <tr>\n",
       "      <th>0</th>\n",
       "      <td>1</td>\n",
       "      <td>TRANSFER</td>\n",
       "      <td>181.00</td>\n",
       "      <td>C1305486145</td>\n",
       "      <td>181.00</td>\n",
       "      <td>0.0</td>\n",
       "      <td>C553264065</td>\n",
       "      <td>0.0</td>\n",
       "      <td>0.00</td>\n",
       "      <td>1</td>\n",
       "      <td>0</td>\n",
       "    </tr>\n",
       "    <tr>\n",
       "      <th>1</th>\n",
       "      <td>1</td>\n",
       "      <td>CASH_OUT</td>\n",
       "      <td>181.00</td>\n",
       "      <td>C840083671</td>\n",
       "      <td>181.00</td>\n",
       "      <td>0.0</td>\n",
       "      <td>C38997010</td>\n",
       "      <td>21182.0</td>\n",
       "      <td>0.00</td>\n",
       "      <td>1</td>\n",
       "      <td>0</td>\n",
       "    </tr>\n",
       "    <tr>\n",
       "      <th>2</th>\n",
       "      <td>1</td>\n",
       "      <td>CASH_OUT</td>\n",
       "      <td>229133.94</td>\n",
       "      <td>C905080434</td>\n",
       "      <td>15325.00</td>\n",
       "      <td>0.0</td>\n",
       "      <td>C476402209</td>\n",
       "      <td>5083.0</td>\n",
       "      <td>51513.44</td>\n",
       "      <td>0</td>\n",
       "      <td>0</td>\n",
       "    </tr>\n",
       "    <tr>\n",
       "      <th>3</th>\n",
       "      <td>1</td>\n",
       "      <td>TRANSFER</td>\n",
       "      <td>215310.30</td>\n",
       "      <td>C1670993182</td>\n",
       "      <td>705.00</td>\n",
       "      <td>0.0</td>\n",
       "      <td>C1100439041</td>\n",
       "      <td>22425.0</td>\n",
       "      <td>0.00</td>\n",
       "      <td>0</td>\n",
       "      <td>0</td>\n",
       "    </tr>\n",
       "    <tr>\n",
       "      <th>4</th>\n",
       "      <td>1</td>\n",
       "      <td>TRANSFER</td>\n",
       "      <td>311685.89</td>\n",
       "      <td>C1984094095</td>\n",
       "      <td>10835.00</td>\n",
       "      <td>0.0</td>\n",
       "      <td>C932583850</td>\n",
       "      <td>6267.0</td>\n",
       "      <td>2719172.89</td>\n",
       "      <td>0</td>\n",
       "      <td>0</td>\n",
       "    </tr>\n",
       "    <tr>\n",
       "      <th>5</th>\n",
       "      <td>1</td>\n",
       "      <td>CASH_OUT</td>\n",
       "      <td>110414.71</td>\n",
       "      <td>C768216420</td>\n",
       "      <td>26845.41</td>\n",
       "      <td>0.0</td>\n",
       "      <td>C1509514333</td>\n",
       "      <td>288800.0</td>\n",
       "      <td>2415.16</td>\n",
       "      <td>0</td>\n",
       "      <td>0</td>\n",
       "    </tr>\n",
       "    <tr>\n",
       "      <th>6</th>\n",
       "      <td>1</td>\n",
       "      <td>CASH_OUT</td>\n",
       "      <td>56953.90</td>\n",
       "      <td>C1570470538</td>\n",
       "      <td>1942.02</td>\n",
       "      <td>0.0</td>\n",
       "      <td>C824009085</td>\n",
       "      <td>70253.0</td>\n",
       "      <td>64106.18</td>\n",
       "      <td>0</td>\n",
       "      <td>0</td>\n",
       "    </tr>\n",
       "    <tr>\n",
       "      <th>7</th>\n",
       "      <td>1</td>\n",
       "      <td>CASH_OUT</td>\n",
       "      <td>5346.89</td>\n",
       "      <td>C512549200</td>\n",
       "      <td>0.00</td>\n",
       "      <td>0.0</td>\n",
       "      <td>C248609774</td>\n",
       "      <td>652637.0</td>\n",
       "      <td>6453430.91</td>\n",
       "      <td>0</td>\n",
       "      <td>0</td>\n",
       "    </tr>\n",
       "    <tr>\n",
       "      <th>8</th>\n",
       "      <td>1</td>\n",
       "      <td>CASH_OUT</td>\n",
       "      <td>23261.30</td>\n",
       "      <td>C2072313080</td>\n",
       "      <td>20411.53</td>\n",
       "      <td>0.0</td>\n",
       "      <td>C2001112025</td>\n",
       "      <td>25742.0</td>\n",
       "      <td>0.00</td>\n",
       "      <td>0</td>\n",
       "      <td>0</td>\n",
       "    </tr>\n",
       "    <tr>\n",
       "      <th>9</th>\n",
       "      <td>1</td>\n",
       "      <td>TRANSFER</td>\n",
       "      <td>62610.80</td>\n",
       "      <td>C1976401987</td>\n",
       "      <td>79114.00</td>\n",
       "      <td>16503.2</td>\n",
       "      <td>C1937962514</td>\n",
       "      <td>517.0</td>\n",
       "      <td>8383.29</td>\n",
       "      <td>0</td>\n",
       "      <td>0</td>\n",
       "    </tr>\n",
       "  </tbody>\n",
       "</table>\n",
       "</div>"
      ],
      "text/plain": [
       "   step      type     amount     nameOrig  oldbalanceOrg  newbalanceOrig  \\\n",
       "0     1  TRANSFER     181.00  C1305486145         181.00             0.0   \n",
       "1     1  CASH_OUT     181.00   C840083671         181.00             0.0   \n",
       "2     1  CASH_OUT  229133.94   C905080434       15325.00             0.0   \n",
       "3     1  TRANSFER  215310.30  C1670993182         705.00             0.0   \n",
       "4     1  TRANSFER  311685.89  C1984094095       10835.00             0.0   \n",
       "5     1  CASH_OUT  110414.71   C768216420       26845.41             0.0   \n",
       "6     1  CASH_OUT   56953.90  C1570470538        1942.02             0.0   \n",
       "7     1  CASH_OUT    5346.89   C512549200           0.00             0.0   \n",
       "8     1  CASH_OUT   23261.30  C2072313080       20411.53             0.0   \n",
       "9     1  TRANSFER   62610.80  C1976401987       79114.00         16503.2   \n",
       "\n",
       "      nameDest  oldbalanceDest  newbalanceDest  isFraud  isFlaggedFraud  \n",
       "0   C553264065             0.0            0.00        1               0  \n",
       "1    C38997010         21182.0            0.00        1               0  \n",
       "2   C476402209          5083.0        51513.44        0               0  \n",
       "3  C1100439041         22425.0            0.00        0               0  \n",
       "4   C932583850          6267.0      2719172.89        0               0  \n",
       "5  C1509514333        288800.0         2415.16        0               0  \n",
       "6   C824009085         70253.0        64106.18        0               0  \n",
       "7   C248609774        652637.0      6453430.91        0               0  \n",
       "8  C2001112025         25742.0            0.00        0               0  \n",
       "9  C1937962514           517.0         8383.29        0               0  "
      ]
     },
     "execution_count": 13,
     "metadata": {},
     "output_type": "execute_result"
    }
   ],
   "source": [
    "data.head(10)"
   ]
  },
  {
   "cell_type": "markdown",
   "metadata": {},
   "source": [
    "Review the last 10 transactions (rows) of the data set:"
   ]
  },
  {
   "cell_type": "code",
   "execution_count": 14,
   "metadata": {},
   "outputs": [
    {
     "data": {
      "text/html": [
       "<div>\n",
       "<style scoped>\n",
       "    .dataframe tbody tr th:only-of-type {\n",
       "        vertical-align: middle;\n",
       "    }\n",
       "\n",
       "    .dataframe tbody tr th {\n",
       "        vertical-align: top;\n",
       "    }\n",
       "\n",
       "    .dataframe thead th {\n",
       "        text-align: right;\n",
       "    }\n",
       "</style>\n",
       "<table border=\"1\" class=\"dataframe\">\n",
       "  <thead>\n",
       "    <tr style=\"text-align: right;\">\n",
       "      <th></th>\n",
       "      <th>step</th>\n",
       "      <th>type</th>\n",
       "      <th>amount</th>\n",
       "      <th>nameOrig</th>\n",
       "      <th>oldbalanceOrg</th>\n",
       "      <th>newbalanceOrig</th>\n",
       "      <th>nameDest</th>\n",
       "      <th>oldbalanceDest</th>\n",
       "      <th>newbalanceDest</th>\n",
       "      <th>isFraud</th>\n",
       "      <th>isFlaggedFraud</th>\n",
       "    </tr>\n",
       "  </thead>\n",
       "  <tbody>\n",
       "    <tr>\n",
       "      <th>2770399</th>\n",
       "      <td>742</td>\n",
       "      <td>TRANSFER</td>\n",
       "      <td>63416.99</td>\n",
       "      <td>C778071008</td>\n",
       "      <td>63416.99</td>\n",
       "      <td>0.0</td>\n",
       "      <td>C1812552860</td>\n",
       "      <td>0.00</td>\n",
       "      <td>0.00</td>\n",
       "      <td>1</td>\n",
       "      <td>0</td>\n",
       "    </tr>\n",
       "    <tr>\n",
       "      <th>2770400</th>\n",
       "      <td>742</td>\n",
       "      <td>CASH_OUT</td>\n",
       "      <td>63416.99</td>\n",
       "      <td>C994950684</td>\n",
       "      <td>63416.99</td>\n",
       "      <td>0.0</td>\n",
       "      <td>C1662241365</td>\n",
       "      <td>276433.18</td>\n",
       "      <td>339850.17</td>\n",
       "      <td>1</td>\n",
       "      <td>0</td>\n",
       "    </tr>\n",
       "    <tr>\n",
       "      <th>2770401</th>\n",
       "      <td>743</td>\n",
       "      <td>TRANSFER</td>\n",
       "      <td>1258818.82</td>\n",
       "      <td>C1531301470</td>\n",
       "      <td>1258818.82</td>\n",
       "      <td>0.0</td>\n",
       "      <td>C1470998563</td>\n",
       "      <td>0.00</td>\n",
       "      <td>0.00</td>\n",
       "      <td>1</td>\n",
       "      <td>0</td>\n",
       "    </tr>\n",
       "    <tr>\n",
       "      <th>2770402</th>\n",
       "      <td>743</td>\n",
       "      <td>CASH_OUT</td>\n",
       "      <td>1258818.82</td>\n",
       "      <td>C1436118706</td>\n",
       "      <td>1258818.82</td>\n",
       "      <td>0.0</td>\n",
       "      <td>C1240760502</td>\n",
       "      <td>503464.50</td>\n",
       "      <td>1762283.33</td>\n",
       "      <td>1</td>\n",
       "      <td>0</td>\n",
       "    </tr>\n",
       "    <tr>\n",
       "      <th>2770403</th>\n",
       "      <td>743</td>\n",
       "      <td>TRANSFER</td>\n",
       "      <td>339682.13</td>\n",
       "      <td>C2013999242</td>\n",
       "      <td>339682.13</td>\n",
       "      <td>0.0</td>\n",
       "      <td>C1850423904</td>\n",
       "      <td>0.00</td>\n",
       "      <td>0.00</td>\n",
       "      <td>1</td>\n",
       "      <td>0</td>\n",
       "    </tr>\n",
       "    <tr>\n",
       "      <th>2770404</th>\n",
       "      <td>743</td>\n",
       "      <td>CASH_OUT</td>\n",
       "      <td>339682.13</td>\n",
       "      <td>C786484425</td>\n",
       "      <td>339682.13</td>\n",
       "      <td>0.0</td>\n",
       "      <td>C776919290</td>\n",
       "      <td>0.00</td>\n",
       "      <td>339682.13</td>\n",
       "      <td>1</td>\n",
       "      <td>0</td>\n",
       "    </tr>\n",
       "    <tr>\n",
       "      <th>2770405</th>\n",
       "      <td>743</td>\n",
       "      <td>TRANSFER</td>\n",
       "      <td>6311409.28</td>\n",
       "      <td>C1529008245</td>\n",
       "      <td>6311409.28</td>\n",
       "      <td>0.0</td>\n",
       "      <td>C1881841831</td>\n",
       "      <td>0.00</td>\n",
       "      <td>0.00</td>\n",
       "      <td>1</td>\n",
       "      <td>0</td>\n",
       "    </tr>\n",
       "    <tr>\n",
       "      <th>2770406</th>\n",
       "      <td>743</td>\n",
       "      <td>CASH_OUT</td>\n",
       "      <td>6311409.28</td>\n",
       "      <td>C1162922333</td>\n",
       "      <td>6311409.28</td>\n",
       "      <td>0.0</td>\n",
       "      <td>C1365125890</td>\n",
       "      <td>68488.84</td>\n",
       "      <td>6379898.11</td>\n",
       "      <td>1</td>\n",
       "      <td>0</td>\n",
       "    </tr>\n",
       "    <tr>\n",
       "      <th>2770407</th>\n",
       "      <td>743</td>\n",
       "      <td>TRANSFER</td>\n",
       "      <td>850002.52</td>\n",
       "      <td>C1685995037</td>\n",
       "      <td>850002.52</td>\n",
       "      <td>0.0</td>\n",
       "      <td>C2080388513</td>\n",
       "      <td>0.00</td>\n",
       "      <td>0.00</td>\n",
       "      <td>1</td>\n",
       "      <td>0</td>\n",
       "    </tr>\n",
       "    <tr>\n",
       "      <th>2770408</th>\n",
       "      <td>743</td>\n",
       "      <td>CASH_OUT</td>\n",
       "      <td>850002.52</td>\n",
       "      <td>C1280323807</td>\n",
       "      <td>850002.52</td>\n",
       "      <td>0.0</td>\n",
       "      <td>C873221189</td>\n",
       "      <td>6510099.11</td>\n",
       "      <td>7360101.63</td>\n",
       "      <td>1</td>\n",
       "      <td>0</td>\n",
       "    </tr>\n",
       "  </tbody>\n",
       "</table>\n",
       "</div>"
      ],
      "text/plain": [
       "         step      type      amount     nameOrig  oldbalanceOrg  \\\n",
       "2770399   742  TRANSFER    63416.99   C778071008       63416.99   \n",
       "2770400   742  CASH_OUT    63416.99   C994950684       63416.99   \n",
       "2770401   743  TRANSFER  1258818.82  C1531301470     1258818.82   \n",
       "2770402   743  CASH_OUT  1258818.82  C1436118706     1258818.82   \n",
       "2770403   743  TRANSFER   339682.13  C2013999242      339682.13   \n",
       "2770404   743  CASH_OUT   339682.13   C786484425      339682.13   \n",
       "2770405   743  TRANSFER  6311409.28  C1529008245     6311409.28   \n",
       "2770406   743  CASH_OUT  6311409.28  C1162922333     6311409.28   \n",
       "2770407   743  TRANSFER   850002.52  C1685995037      850002.52   \n",
       "2770408   743  CASH_OUT   850002.52  C1280323807      850002.52   \n",
       "\n",
       "         newbalanceOrig     nameDest  oldbalanceDest  newbalanceDest  isFraud  \\\n",
       "2770399             0.0  C1812552860            0.00            0.00        1   \n",
       "2770400             0.0  C1662241365       276433.18       339850.17        1   \n",
       "2770401             0.0  C1470998563            0.00            0.00        1   \n",
       "2770402             0.0  C1240760502       503464.50      1762283.33        1   \n",
       "2770403             0.0  C1850423904            0.00            0.00        1   \n",
       "2770404             0.0   C776919290            0.00       339682.13        1   \n",
       "2770405             0.0  C1881841831            0.00            0.00        1   \n",
       "2770406             0.0  C1365125890        68488.84      6379898.11        1   \n",
       "2770407             0.0  C2080388513            0.00            0.00        1   \n",
       "2770408             0.0   C873221189      6510099.11      7360101.63        1   \n",
       "\n",
       "         isFlaggedFraud  \n",
       "2770399               0  \n",
       "2770400               0  \n",
       "2770401               0  \n",
       "2770402               0  \n",
       "2770403               0  \n",
       "2770404               0  \n",
       "2770405               0  \n",
       "2770406               0  \n",
       "2770407               0  \n",
       "2770408               0  "
      ]
     },
     "execution_count": 14,
     "metadata": {},
     "output_type": "execute_result"
    }
   ],
   "source": [
    "data.tail(10)"
   ]
  },
  {
   "cell_type": "markdown",
   "metadata": {},
   "source": [
    "## 2. Data Validation and Data Assessment"
   ]
  },
  {
   "cell_type": "markdown",
   "metadata": {},
   "source": [
    "The process of **data validation** is a crucial element in the run-up to any audit data analysis process. \n",
    "\n",
    "It creates confidence in the completeness and accuracy of the data being analyzed. The **structural** and **semantic** data validation of the data to be analyzed is necessary to mitigate any analysis errors. The lack of initial validation of the data being analyzed creates an increased risk of erroneous analysis results and the conclusions and decisions derived from them. Let's now start an exemplary data validation procedure."
   ]
  },
  {
   "cell_type": "markdown",
   "metadata": {},
   "source": [
    "### 2.1. Assignment of Unique Transaction Identifiers"
   ]
  },
  {
   "cell_type": "markdown",
   "metadata": {},
   "source": [
    "A unique **transaction identifier** is used within the dataset to uniquely mark individual records in order to uniquely identify them in the further analysis procedure. Such a unique identifies is often comprised of a sequence of values selected so that each row in the dataset has a unique identifying characteristic."
   ]
  },
  {
   "cell_type": "markdown",
   "metadata": {},
   "source": [
    "Let's now generate such a unique sequence of transaction identifiers using the following naming convention `ACA_ID_0000001`, `ACA_ID_0000002`,..., `ACA_ID_2770408`:"
   ]
  },
  {
   "cell_type": "code",
   "execution_count": 15,
   "metadata": {},
   "outputs": [],
   "source": [
    "# create list of numeric values 0, 1, 2, ..., N\n",
    "ids = list(range(0, data.shape[0]))\n",
    "\n",
    "# create list of unique transaction identifier\n",
    "keys = ['ACA_ID_' + str(e).zfill(7) for e in ids]"
   ]
  },
  {
   "cell_type": "markdown",
   "metadata": {},
   "source": [
    "Subsequently, let's verify the first five created unique transaction identifier:"
   ]
  },
  {
   "cell_type": "code",
   "execution_count": 16,
   "metadata": {
    "scrolled": false
   },
   "outputs": [
    {
     "data": {
      "text/plain": [
       "['ACA_ID_0000000',\n",
       " 'ACA_ID_0000001',\n",
       " 'ACA_ID_0000002',\n",
       " 'ACA_ID_0000003',\n",
       " 'ACA_ID_0000004']"
      ]
     },
     "execution_count": 16,
     "metadata": {},
     "output_type": "execute_result"
    }
   ],
   "source": [
    "keys[0:5]"
   ]
  },
  {
   "cell_type": "markdown",
   "metadata": {},
   "source": [
    "Ok, that looks like anticipated. Let's now add the unique transaction identifiers to the original dataset we aim to investigate in the following. Thereby, we will add a designated and leading `AUDIT_ID` column to our dataframe using the `insert` statement available in the `Pandas` library:"
   ]
  },
  {
   "cell_type": "code",
   "execution_count": 17,
   "metadata": {},
   "outputs": [],
   "source": [
    "data.insert(0, \"AUDIT_ID\", keys)"
   ]
  },
  {
   "cell_type": "markdown",
   "metadata": {},
   "source": [
    "Let's verify if the `AUDIT_ID` column including the unique identifier was successfully created by inspecting the first 10 rows of the dataframe containing the transaction data:"
   ]
  },
  {
   "cell_type": "code",
   "execution_count": 18,
   "metadata": {},
   "outputs": [
    {
     "data": {
      "text/html": [
       "<div>\n",
       "<style scoped>\n",
       "    .dataframe tbody tr th:only-of-type {\n",
       "        vertical-align: middle;\n",
       "    }\n",
       "\n",
       "    .dataframe tbody tr th {\n",
       "        vertical-align: top;\n",
       "    }\n",
       "\n",
       "    .dataframe thead th {\n",
       "        text-align: right;\n",
       "    }\n",
       "</style>\n",
       "<table border=\"1\" class=\"dataframe\">\n",
       "  <thead>\n",
       "    <tr style=\"text-align: right;\">\n",
       "      <th></th>\n",
       "      <th>AUDIT_ID</th>\n",
       "      <th>step</th>\n",
       "      <th>type</th>\n",
       "      <th>amount</th>\n",
       "      <th>nameOrig</th>\n",
       "      <th>oldbalanceOrg</th>\n",
       "      <th>newbalanceOrig</th>\n",
       "      <th>nameDest</th>\n",
       "      <th>oldbalanceDest</th>\n",
       "      <th>newbalanceDest</th>\n",
       "      <th>isFraud</th>\n",
       "      <th>isFlaggedFraud</th>\n",
       "    </tr>\n",
       "  </thead>\n",
       "  <tbody>\n",
       "    <tr>\n",
       "      <th>0</th>\n",
       "      <td>ACA_ID_0000000</td>\n",
       "      <td>1</td>\n",
       "      <td>TRANSFER</td>\n",
       "      <td>181.00</td>\n",
       "      <td>C1305486145</td>\n",
       "      <td>181.00</td>\n",
       "      <td>0.0</td>\n",
       "      <td>C553264065</td>\n",
       "      <td>0.0</td>\n",
       "      <td>0.00</td>\n",
       "      <td>1</td>\n",
       "      <td>0</td>\n",
       "    </tr>\n",
       "    <tr>\n",
       "      <th>1</th>\n",
       "      <td>ACA_ID_0000001</td>\n",
       "      <td>1</td>\n",
       "      <td>CASH_OUT</td>\n",
       "      <td>181.00</td>\n",
       "      <td>C840083671</td>\n",
       "      <td>181.00</td>\n",
       "      <td>0.0</td>\n",
       "      <td>C38997010</td>\n",
       "      <td>21182.0</td>\n",
       "      <td>0.00</td>\n",
       "      <td>1</td>\n",
       "      <td>0</td>\n",
       "    </tr>\n",
       "    <tr>\n",
       "      <th>2</th>\n",
       "      <td>ACA_ID_0000002</td>\n",
       "      <td>1</td>\n",
       "      <td>CASH_OUT</td>\n",
       "      <td>229133.94</td>\n",
       "      <td>C905080434</td>\n",
       "      <td>15325.00</td>\n",
       "      <td>0.0</td>\n",
       "      <td>C476402209</td>\n",
       "      <td>5083.0</td>\n",
       "      <td>51513.44</td>\n",
       "      <td>0</td>\n",
       "      <td>0</td>\n",
       "    </tr>\n",
       "    <tr>\n",
       "      <th>3</th>\n",
       "      <td>ACA_ID_0000003</td>\n",
       "      <td>1</td>\n",
       "      <td>TRANSFER</td>\n",
       "      <td>215310.30</td>\n",
       "      <td>C1670993182</td>\n",
       "      <td>705.00</td>\n",
       "      <td>0.0</td>\n",
       "      <td>C1100439041</td>\n",
       "      <td>22425.0</td>\n",
       "      <td>0.00</td>\n",
       "      <td>0</td>\n",
       "      <td>0</td>\n",
       "    </tr>\n",
       "    <tr>\n",
       "      <th>4</th>\n",
       "      <td>ACA_ID_0000004</td>\n",
       "      <td>1</td>\n",
       "      <td>TRANSFER</td>\n",
       "      <td>311685.89</td>\n",
       "      <td>C1984094095</td>\n",
       "      <td>10835.00</td>\n",
       "      <td>0.0</td>\n",
       "      <td>C932583850</td>\n",
       "      <td>6267.0</td>\n",
       "      <td>2719172.89</td>\n",
       "      <td>0</td>\n",
       "      <td>0</td>\n",
       "    </tr>\n",
       "    <tr>\n",
       "      <th>5</th>\n",
       "      <td>ACA_ID_0000005</td>\n",
       "      <td>1</td>\n",
       "      <td>CASH_OUT</td>\n",
       "      <td>110414.71</td>\n",
       "      <td>C768216420</td>\n",
       "      <td>26845.41</td>\n",
       "      <td>0.0</td>\n",
       "      <td>C1509514333</td>\n",
       "      <td>288800.0</td>\n",
       "      <td>2415.16</td>\n",
       "      <td>0</td>\n",
       "      <td>0</td>\n",
       "    </tr>\n",
       "    <tr>\n",
       "      <th>6</th>\n",
       "      <td>ACA_ID_0000006</td>\n",
       "      <td>1</td>\n",
       "      <td>CASH_OUT</td>\n",
       "      <td>56953.90</td>\n",
       "      <td>C1570470538</td>\n",
       "      <td>1942.02</td>\n",
       "      <td>0.0</td>\n",
       "      <td>C824009085</td>\n",
       "      <td>70253.0</td>\n",
       "      <td>64106.18</td>\n",
       "      <td>0</td>\n",
       "      <td>0</td>\n",
       "    </tr>\n",
       "    <tr>\n",
       "      <th>7</th>\n",
       "      <td>ACA_ID_0000007</td>\n",
       "      <td>1</td>\n",
       "      <td>CASH_OUT</td>\n",
       "      <td>5346.89</td>\n",
       "      <td>C512549200</td>\n",
       "      <td>0.00</td>\n",
       "      <td>0.0</td>\n",
       "      <td>C248609774</td>\n",
       "      <td>652637.0</td>\n",
       "      <td>6453430.91</td>\n",
       "      <td>0</td>\n",
       "      <td>0</td>\n",
       "    </tr>\n",
       "    <tr>\n",
       "      <th>8</th>\n",
       "      <td>ACA_ID_0000008</td>\n",
       "      <td>1</td>\n",
       "      <td>CASH_OUT</td>\n",
       "      <td>23261.30</td>\n",
       "      <td>C2072313080</td>\n",
       "      <td>20411.53</td>\n",
       "      <td>0.0</td>\n",
       "      <td>C2001112025</td>\n",
       "      <td>25742.0</td>\n",
       "      <td>0.00</td>\n",
       "      <td>0</td>\n",
       "      <td>0</td>\n",
       "    </tr>\n",
       "    <tr>\n",
       "      <th>9</th>\n",
       "      <td>ACA_ID_0000009</td>\n",
       "      <td>1</td>\n",
       "      <td>TRANSFER</td>\n",
       "      <td>62610.80</td>\n",
       "      <td>C1976401987</td>\n",
       "      <td>79114.00</td>\n",
       "      <td>16503.2</td>\n",
       "      <td>C1937962514</td>\n",
       "      <td>517.0</td>\n",
       "      <td>8383.29</td>\n",
       "      <td>0</td>\n",
       "      <td>0</td>\n",
       "    </tr>\n",
       "  </tbody>\n",
       "</table>\n",
       "</div>"
      ],
      "text/plain": [
       "         AUDIT_ID  step      type     amount     nameOrig  oldbalanceOrg  \\\n",
       "0  ACA_ID_0000000     1  TRANSFER     181.00  C1305486145         181.00   \n",
       "1  ACA_ID_0000001     1  CASH_OUT     181.00   C840083671         181.00   \n",
       "2  ACA_ID_0000002     1  CASH_OUT  229133.94   C905080434       15325.00   \n",
       "3  ACA_ID_0000003     1  TRANSFER  215310.30  C1670993182         705.00   \n",
       "4  ACA_ID_0000004     1  TRANSFER  311685.89  C1984094095       10835.00   \n",
       "5  ACA_ID_0000005     1  CASH_OUT  110414.71   C768216420       26845.41   \n",
       "6  ACA_ID_0000006     1  CASH_OUT   56953.90  C1570470538        1942.02   \n",
       "7  ACA_ID_0000007     1  CASH_OUT    5346.89   C512549200           0.00   \n",
       "8  ACA_ID_0000008     1  CASH_OUT   23261.30  C2072313080       20411.53   \n",
       "9  ACA_ID_0000009     1  TRANSFER   62610.80  C1976401987       79114.00   \n",
       "\n",
       "   newbalanceOrig     nameDest  oldbalanceDest  newbalanceDest  isFraud  \\\n",
       "0             0.0   C553264065             0.0            0.00        1   \n",
       "1             0.0    C38997010         21182.0            0.00        1   \n",
       "2             0.0   C476402209          5083.0        51513.44        0   \n",
       "3             0.0  C1100439041         22425.0            0.00        0   \n",
       "4             0.0   C932583850          6267.0      2719172.89        0   \n",
       "5             0.0  C1509514333        288800.0         2415.16        0   \n",
       "6             0.0   C824009085         70253.0        64106.18        0   \n",
       "7             0.0   C248609774        652637.0      6453430.91        0   \n",
       "8             0.0  C2001112025         25742.0            0.00        0   \n",
       "9         16503.2  C1937962514           517.0         8383.29        0   \n",
       "\n",
       "   isFlaggedFraud  \n",
       "0               0  \n",
       "1               0  \n",
       "2               0  \n",
       "3               0  \n",
       "4               0  \n",
       "5               0  \n",
       "6               0  \n",
       "7               0  \n",
       "8               0  \n",
       "9               0  "
      ]
     },
     "execution_count": 18,
     "metadata": {},
     "output_type": "execute_result"
    }
   ],
   "source": [
    "data.head(10)"
   ]
  },
  {
   "cell_type": "markdown",
   "metadata": {},
   "source": [
    "Again, let's also inspect the last 10 rows of the dataframe containing the transaction data:"
   ]
  },
  {
   "cell_type": "code",
   "execution_count": 19,
   "metadata": {},
   "outputs": [
    {
     "data": {
      "text/html": [
       "<div>\n",
       "<style scoped>\n",
       "    .dataframe tbody tr th:only-of-type {\n",
       "        vertical-align: middle;\n",
       "    }\n",
       "\n",
       "    .dataframe tbody tr th {\n",
       "        vertical-align: top;\n",
       "    }\n",
       "\n",
       "    .dataframe thead th {\n",
       "        text-align: right;\n",
       "    }\n",
       "</style>\n",
       "<table border=\"1\" class=\"dataframe\">\n",
       "  <thead>\n",
       "    <tr style=\"text-align: right;\">\n",
       "      <th></th>\n",
       "      <th>AUDIT_ID</th>\n",
       "      <th>step</th>\n",
       "      <th>type</th>\n",
       "      <th>amount</th>\n",
       "      <th>nameOrig</th>\n",
       "      <th>oldbalanceOrg</th>\n",
       "      <th>newbalanceOrig</th>\n",
       "      <th>nameDest</th>\n",
       "      <th>oldbalanceDest</th>\n",
       "      <th>newbalanceDest</th>\n",
       "      <th>isFraud</th>\n",
       "      <th>isFlaggedFraud</th>\n",
       "    </tr>\n",
       "  </thead>\n",
       "  <tbody>\n",
       "    <tr>\n",
       "      <th>2770399</th>\n",
       "      <td>ACA_ID_2770399</td>\n",
       "      <td>742</td>\n",
       "      <td>TRANSFER</td>\n",
       "      <td>63416.99</td>\n",
       "      <td>C778071008</td>\n",
       "      <td>63416.99</td>\n",
       "      <td>0.0</td>\n",
       "      <td>C1812552860</td>\n",
       "      <td>0.00</td>\n",
       "      <td>0.00</td>\n",
       "      <td>1</td>\n",
       "      <td>0</td>\n",
       "    </tr>\n",
       "    <tr>\n",
       "      <th>2770400</th>\n",
       "      <td>ACA_ID_2770400</td>\n",
       "      <td>742</td>\n",
       "      <td>CASH_OUT</td>\n",
       "      <td>63416.99</td>\n",
       "      <td>C994950684</td>\n",
       "      <td>63416.99</td>\n",
       "      <td>0.0</td>\n",
       "      <td>C1662241365</td>\n",
       "      <td>276433.18</td>\n",
       "      <td>339850.17</td>\n",
       "      <td>1</td>\n",
       "      <td>0</td>\n",
       "    </tr>\n",
       "    <tr>\n",
       "      <th>2770401</th>\n",
       "      <td>ACA_ID_2770401</td>\n",
       "      <td>743</td>\n",
       "      <td>TRANSFER</td>\n",
       "      <td>1258818.82</td>\n",
       "      <td>C1531301470</td>\n",
       "      <td>1258818.82</td>\n",
       "      <td>0.0</td>\n",
       "      <td>C1470998563</td>\n",
       "      <td>0.00</td>\n",
       "      <td>0.00</td>\n",
       "      <td>1</td>\n",
       "      <td>0</td>\n",
       "    </tr>\n",
       "    <tr>\n",
       "      <th>2770402</th>\n",
       "      <td>ACA_ID_2770402</td>\n",
       "      <td>743</td>\n",
       "      <td>CASH_OUT</td>\n",
       "      <td>1258818.82</td>\n",
       "      <td>C1436118706</td>\n",
       "      <td>1258818.82</td>\n",
       "      <td>0.0</td>\n",
       "      <td>C1240760502</td>\n",
       "      <td>503464.50</td>\n",
       "      <td>1762283.33</td>\n",
       "      <td>1</td>\n",
       "      <td>0</td>\n",
       "    </tr>\n",
       "    <tr>\n",
       "      <th>2770403</th>\n",
       "      <td>ACA_ID_2770403</td>\n",
       "      <td>743</td>\n",
       "      <td>TRANSFER</td>\n",
       "      <td>339682.13</td>\n",
       "      <td>C2013999242</td>\n",
       "      <td>339682.13</td>\n",
       "      <td>0.0</td>\n",
       "      <td>C1850423904</td>\n",
       "      <td>0.00</td>\n",
       "      <td>0.00</td>\n",
       "      <td>1</td>\n",
       "      <td>0</td>\n",
       "    </tr>\n",
       "    <tr>\n",
       "      <th>2770404</th>\n",
       "      <td>ACA_ID_2770404</td>\n",
       "      <td>743</td>\n",
       "      <td>CASH_OUT</td>\n",
       "      <td>339682.13</td>\n",
       "      <td>C786484425</td>\n",
       "      <td>339682.13</td>\n",
       "      <td>0.0</td>\n",
       "      <td>C776919290</td>\n",
       "      <td>0.00</td>\n",
       "      <td>339682.13</td>\n",
       "      <td>1</td>\n",
       "      <td>0</td>\n",
       "    </tr>\n",
       "    <tr>\n",
       "      <th>2770405</th>\n",
       "      <td>ACA_ID_2770405</td>\n",
       "      <td>743</td>\n",
       "      <td>TRANSFER</td>\n",
       "      <td>6311409.28</td>\n",
       "      <td>C1529008245</td>\n",
       "      <td>6311409.28</td>\n",
       "      <td>0.0</td>\n",
       "      <td>C1881841831</td>\n",
       "      <td>0.00</td>\n",
       "      <td>0.00</td>\n",
       "      <td>1</td>\n",
       "      <td>0</td>\n",
       "    </tr>\n",
       "    <tr>\n",
       "      <th>2770406</th>\n",
       "      <td>ACA_ID_2770406</td>\n",
       "      <td>743</td>\n",
       "      <td>CASH_OUT</td>\n",
       "      <td>6311409.28</td>\n",
       "      <td>C1162922333</td>\n",
       "      <td>6311409.28</td>\n",
       "      <td>0.0</td>\n",
       "      <td>C1365125890</td>\n",
       "      <td>68488.84</td>\n",
       "      <td>6379898.11</td>\n",
       "      <td>1</td>\n",
       "      <td>0</td>\n",
       "    </tr>\n",
       "    <tr>\n",
       "      <th>2770407</th>\n",
       "      <td>ACA_ID_2770407</td>\n",
       "      <td>743</td>\n",
       "      <td>TRANSFER</td>\n",
       "      <td>850002.52</td>\n",
       "      <td>C1685995037</td>\n",
       "      <td>850002.52</td>\n",
       "      <td>0.0</td>\n",
       "      <td>C2080388513</td>\n",
       "      <td>0.00</td>\n",
       "      <td>0.00</td>\n",
       "      <td>1</td>\n",
       "      <td>0</td>\n",
       "    </tr>\n",
       "    <tr>\n",
       "      <th>2770408</th>\n",
       "      <td>ACA_ID_2770408</td>\n",
       "      <td>743</td>\n",
       "      <td>CASH_OUT</td>\n",
       "      <td>850002.52</td>\n",
       "      <td>C1280323807</td>\n",
       "      <td>850002.52</td>\n",
       "      <td>0.0</td>\n",
       "      <td>C873221189</td>\n",
       "      <td>6510099.11</td>\n",
       "      <td>7360101.63</td>\n",
       "      <td>1</td>\n",
       "      <td>0</td>\n",
       "    </tr>\n",
       "  </tbody>\n",
       "</table>\n",
       "</div>"
      ],
      "text/plain": [
       "               AUDIT_ID  step      type      amount     nameOrig  \\\n",
       "2770399  ACA_ID_2770399   742  TRANSFER    63416.99   C778071008   \n",
       "2770400  ACA_ID_2770400   742  CASH_OUT    63416.99   C994950684   \n",
       "2770401  ACA_ID_2770401   743  TRANSFER  1258818.82  C1531301470   \n",
       "2770402  ACA_ID_2770402   743  CASH_OUT  1258818.82  C1436118706   \n",
       "2770403  ACA_ID_2770403   743  TRANSFER   339682.13  C2013999242   \n",
       "2770404  ACA_ID_2770404   743  CASH_OUT   339682.13   C786484425   \n",
       "2770405  ACA_ID_2770405   743  TRANSFER  6311409.28  C1529008245   \n",
       "2770406  ACA_ID_2770406   743  CASH_OUT  6311409.28  C1162922333   \n",
       "2770407  ACA_ID_2770407   743  TRANSFER   850002.52  C1685995037   \n",
       "2770408  ACA_ID_2770408   743  CASH_OUT   850002.52  C1280323807   \n",
       "\n",
       "         oldbalanceOrg  newbalanceOrig     nameDest  oldbalanceDest  \\\n",
       "2770399       63416.99             0.0  C1812552860            0.00   \n",
       "2770400       63416.99             0.0  C1662241365       276433.18   \n",
       "2770401     1258818.82             0.0  C1470998563            0.00   \n",
       "2770402     1258818.82             0.0  C1240760502       503464.50   \n",
       "2770403      339682.13             0.0  C1850423904            0.00   \n",
       "2770404      339682.13             0.0   C776919290            0.00   \n",
       "2770405     6311409.28             0.0  C1881841831            0.00   \n",
       "2770406     6311409.28             0.0  C1365125890        68488.84   \n",
       "2770407      850002.52             0.0  C2080388513            0.00   \n",
       "2770408      850002.52             0.0   C873221189      6510099.11   \n",
       "\n",
       "         newbalanceDest  isFraud  isFlaggedFraud  \n",
       "2770399            0.00        1               0  \n",
       "2770400       339850.17        1               0  \n",
       "2770401            0.00        1               0  \n",
       "2770402      1762283.33        1               0  \n",
       "2770403            0.00        1               0  \n",
       "2770404       339682.13        1               0  \n",
       "2770405            0.00        1               0  \n",
       "2770406      6379898.11        1               0  \n",
       "2770407            0.00        1               0  \n",
       "2770408      7360101.63        1               0  "
      ]
     },
     "execution_count": 19,
     "metadata": {},
     "output_type": "execute_result"
    }
   ],
   "source": [
    "data.tail(10)"
   ]
  },
  {
   "cell_type": "markdown",
   "metadata": {},
   "source": [
    "Excellent, now that we assigned each row in our dataset a unique identifier let's continue with the structural data validation. "
   ]
  },
  {
   "cell_type": "markdown",
   "metadata": {},
   "source": [
    "### 2.2. Structural Data Validation"
   ]
  },
  {
   "cell_type": "markdown",
   "metadata": {},
   "source": [
    "The **structural data validation** validates whether the received data show technical inconsistencies (\"gaps\") between the expected data population and the actually received data population, e.g. missing records or formatting errors. The primary objective here is to ensure the technical completeness and integrity of the received data.\n",
    "\n",
    "Let's now conduct a simple structural validation of the retrieved transactional data. Let's therefore, in a first step, validate the dimensionality of the data. Thereby, we start with the verification of the number of contained transactions (rows) using the `shape` function of the `Pandas` library:"
   ]
  },
  {
   "cell_type": "code",
   "execution_count": 20,
   "metadata": {},
   "outputs": [
    {
     "data": {
      "text/plain": [
       "2770409"
      ]
     },
     "execution_count": 20,
     "metadata": {},
     "output_type": "execute_result"
    }
   ],
   "source": [
    "data.shape[0]"
   ]
  },
  {
   "cell_type": "markdown",
   "metadata": {},
   "source": [
    "Now, let's validate the number of attributes (columns) contained in the transactional data using again the `shape` function of the `Pandas` library:"
   ]
  },
  {
   "cell_type": "code",
   "execution_count": 21,
   "metadata": {},
   "outputs": [
    {
     "data": {
      "text/plain": [
       "12"
      ]
     },
     "execution_count": 21,
     "metadata": {},
     "output_type": "execute_result"
    }
   ],
   "source": [
    "data.shape[1]"
   ]
  },
  {
   "cell_type": "markdown",
   "metadata": {},
   "source": [
    "Finally. let's also verify the data types of the distinct data attributes. Thereby, the distinct data types are defined according to the following specifications:\n",
    "\n",
    ">- `int64`:  denotes full `integer` number values.\n",
    ">- `object`:  denotes text or mixed numeric and non-numeric values.\n",
    ">- `float64`: denotes floating point `float` number values.\n",
    "\n",
    "The data types of the distinct attributes can be obtained using the `dtypes` function of the `Pandas`library:"
   ]
  },
  {
   "cell_type": "code",
   "execution_count": 22,
   "metadata": {},
   "outputs": [
    {
     "data": {
      "text/plain": [
       "AUDIT_ID           object\n",
       "step                int64\n",
       "type               object\n",
       "amount            float64\n",
       "nameOrig           object\n",
       "oldbalanceOrg     float64\n",
       "newbalanceOrig    float64\n",
       "nameDest           object\n",
       "oldbalanceDest    float64\n",
       "newbalanceDest    float64\n",
       "isFraud             int64\n",
       "isFlaggedFraud      int64\n",
       "dtype: object"
      ]
     },
     "execution_count": 22,
     "metadata": {},
     "output_type": "execute_result"
    }
   ],
   "source": [
    "data.dtypes"
   ]
  },
  {
   "cell_type": "markdown",
   "metadata": {},
   "source": [
    "### 2.3. Semantic Data Validation"
   ]
  },
  {
   "cell_type": "markdown",
   "metadata": {},
   "source": [
    "The **semantic data validation** validates whether the received data shows semantic inconsistencies (\"discrepancies\") between the expected data population and the actually received data population, e.g. unusual or incorrect field characteristics. The primary objective here is to ensure the semantic completeness and consistency of the received data."
   ]
  },
  {
   "cell_type": "markdown",
   "metadata": {},
   "source": [
    "#### 2.3.1 Semantic Validation of Individual Attribute Value Characteristics"
   ]
  },
  {
   "cell_type": "markdown",
   "metadata": {},
   "source": [
    "Let's now conduct a simple semantic validation of the retrieved transactional data. Let's therefore, in a first step, validate the values of the individual attributes. Thereby, we start with the verification of unique attribute values per individual attribute using the `nunique` function of the `Pandas` library:"
   ]
  },
  {
   "cell_type": "code",
   "execution_count": 23,
   "metadata": {
    "scrolled": true
   },
   "outputs": [
    {
     "data": {
      "text/plain": [
       "AUDIT_ID          2770409\n",
       "step                  743\n",
       "type                    2\n",
       "amount            2685805\n",
       "nameOrig          2768630\n",
       "oldbalanceOrg      435702\n",
       "newbalanceOrig     271977\n",
       "nameDest           509565\n",
       "oldbalanceDest    2360852\n",
       "newbalanceDest    2562844\n",
       "isFraud                 2\n",
       "isFlaggedFraud          2\n",
       "dtype: int64"
      ]
     },
     "execution_count": 23,
     "metadata": {},
     "output_type": "execute_result"
    }
   ],
   "source": [
    "data.nunique()"
   ]
  },
  {
   "cell_type": "markdown",
   "metadata": {},
   "source": [
    "Next, let's inspect the distinct value distributions of the individual numerical attributes using the `describe` function of the `Pandas` library:"
   ]
  },
  {
   "cell_type": "code",
   "execution_count": 24,
   "metadata": {},
   "outputs": [
    {
     "data": {
      "text/html": [
       "<div>\n",
       "<style scoped>\n",
       "    .dataframe tbody tr th:only-of-type {\n",
       "        vertical-align: middle;\n",
       "    }\n",
       "\n",
       "    .dataframe tbody tr th {\n",
       "        vertical-align: top;\n",
       "    }\n",
       "\n",
       "    .dataframe thead th {\n",
       "        text-align: right;\n",
       "    }\n",
       "</style>\n",
       "<table border=\"1\" class=\"dataframe\">\n",
       "  <thead>\n",
       "    <tr style=\"text-align: right;\">\n",
       "      <th></th>\n",
       "      <th>step</th>\n",
       "      <th>amount</th>\n",
       "      <th>oldbalanceOrg</th>\n",
       "      <th>newbalanceOrig</th>\n",
       "      <th>oldbalanceDest</th>\n",
       "      <th>newbalanceDest</th>\n",
       "      <th>isFraud</th>\n",
       "      <th>isFlaggedFraud</th>\n",
       "    </tr>\n",
       "  </thead>\n",
       "  <tbody>\n",
       "    <tr>\n",
       "      <th>count</th>\n",
       "      <td>2.770409e+06</td>\n",
       "      <td>2.770409e+06</td>\n",
       "      <td>2.770409e+06</td>\n",
       "      <td>2.770409e+06</td>\n",
       "      <td>2.770409e+06</td>\n",
       "      <td>2.770409e+06</td>\n",
       "      <td>2.770409e+06</td>\n",
       "      <td>2.770409e+06</td>\n",
       "    </tr>\n",
       "    <tr>\n",
       "      <th>mean</th>\n",
       "      <td>2.420081e+02</td>\n",
       "      <td>3.175361e+05</td>\n",
       "      <td>4.764308e+04</td>\n",
       "      <td>1.609190e+04</td>\n",
       "      <td>1.703551e+06</td>\n",
       "      <td>2.049734e+06</td>\n",
       "      <td>2.964544e-03</td>\n",
       "      <td>5.775321e-06</td>\n",
       "    </tr>\n",
       "    <tr>\n",
       "      <th>std</th>\n",
       "      <td>1.416191e+02</td>\n",
       "      <td>8.877897e+05</td>\n",
       "      <td>2.513251e+05</td>\n",
       "      <td>1.512558e+05</td>\n",
       "      <td>4.225550e+06</td>\n",
       "      <td>4.676990e+06</td>\n",
       "      <td>5.436687e-02</td>\n",
       "      <td>2.403183e-03</td>\n",
       "    </tr>\n",
       "    <tr>\n",
       "      <th>min</th>\n",
       "      <td>1.000000e+00</td>\n",
       "      <td>0.000000e+00</td>\n",
       "      <td>0.000000e+00</td>\n",
       "      <td>0.000000e+00</td>\n",
       "      <td>0.000000e+00</td>\n",
       "      <td>0.000000e+00</td>\n",
       "      <td>0.000000e+00</td>\n",
       "      <td>0.000000e+00</td>\n",
       "    </tr>\n",
       "    <tr>\n",
       "      <th>25%</th>\n",
       "      <td>1.550000e+02</td>\n",
       "      <td>8.297354e+04</td>\n",
       "      <td>0.000000e+00</td>\n",
       "      <td>0.000000e+00</td>\n",
       "      <td>1.280734e+05</td>\n",
       "      <td>3.272891e+05</td>\n",
       "      <td>0.000000e+00</td>\n",
       "      <td>0.000000e+00</td>\n",
       "    </tr>\n",
       "    <tr>\n",
       "      <th>50%</th>\n",
       "      <td>2.360000e+02</td>\n",
       "      <td>1.712609e+05</td>\n",
       "      <td>3.039600e+02</td>\n",
       "      <td>0.000000e+00</td>\n",
       "      <td>5.557100e+05</td>\n",
       "      <td>8.280539e+05</td>\n",
       "      <td>0.000000e+00</td>\n",
       "      <td>0.000000e+00</td>\n",
       "    </tr>\n",
       "    <tr>\n",
       "      <th>75%</th>\n",
       "      <td>3.320000e+02</td>\n",
       "      <td>3.067912e+05</td>\n",
       "      <td>3.099700e+04</td>\n",
       "      <td>0.000000e+00</td>\n",
       "      <td>1.735900e+06</td>\n",
       "      <td>2.122198e+06</td>\n",
       "      <td>0.000000e+00</td>\n",
       "      <td>0.000000e+00</td>\n",
       "    </tr>\n",
       "    <tr>\n",
       "      <th>max</th>\n",
       "      <td>7.430000e+02</td>\n",
       "      <td>9.244552e+07</td>\n",
       "      <td>5.958504e+07</td>\n",
       "      <td>4.958504e+07</td>\n",
       "      <td>3.560159e+08</td>\n",
       "      <td>3.561793e+08</td>\n",
       "      <td>1.000000e+00</td>\n",
       "      <td>1.000000e+00</td>\n",
       "    </tr>\n",
       "  </tbody>\n",
       "</table>\n",
       "</div>"
      ],
      "text/plain": [
       "               step        amount  oldbalanceOrg  newbalanceOrig  \\\n",
       "count  2.770409e+06  2.770409e+06   2.770409e+06    2.770409e+06   \n",
       "mean   2.420081e+02  3.175361e+05   4.764308e+04    1.609190e+04   \n",
       "std    1.416191e+02  8.877897e+05   2.513251e+05    1.512558e+05   \n",
       "min    1.000000e+00  0.000000e+00   0.000000e+00    0.000000e+00   \n",
       "25%    1.550000e+02  8.297354e+04   0.000000e+00    0.000000e+00   \n",
       "50%    2.360000e+02  1.712609e+05   3.039600e+02    0.000000e+00   \n",
       "75%    3.320000e+02  3.067912e+05   3.099700e+04    0.000000e+00   \n",
       "max    7.430000e+02  9.244552e+07   5.958504e+07    4.958504e+07   \n",
       "\n",
       "       oldbalanceDest  newbalanceDest       isFraud  isFlaggedFraud  \n",
       "count    2.770409e+06    2.770409e+06  2.770409e+06    2.770409e+06  \n",
       "mean     1.703551e+06    2.049734e+06  2.964544e-03    5.775321e-06  \n",
       "std      4.225550e+06    4.676990e+06  5.436687e-02    2.403183e-03  \n",
       "min      0.000000e+00    0.000000e+00  0.000000e+00    0.000000e+00  \n",
       "25%      1.280734e+05    3.272891e+05  0.000000e+00    0.000000e+00  \n",
       "50%      5.557100e+05    8.280539e+05  0.000000e+00    0.000000e+00  \n",
       "75%      1.735900e+06    2.122198e+06  0.000000e+00    0.000000e+00  \n",
       "max      3.560159e+08    3.561793e+08  1.000000e+00    1.000000e+00  "
      ]
     },
     "execution_count": 24,
     "metadata": {},
     "output_type": "execute_result"
    }
   ],
   "source": [
    "data.describe()"
   ]
  },
  {
   "cell_type": "markdown",
   "metadata": {},
   "source": [
    "Let's also look at a brief example of determining the value counts of a particular data attribute using the `value_counts` function of the `Pandas` library:"
   ]
  },
  {
   "cell_type": "code",
   "execution_count": 25,
   "metadata": {},
   "outputs": [
    {
     "data": {
      "text/plain": [
       "CASH_OUT    2237500\n",
       "TRANSFER     532909\n",
       "Name: type, dtype: int64"
      ]
     },
     "execution_count": 25,
     "metadata": {},
     "output_type": "execute_result"
    }
   ],
   "source": [
    "data[\"type\"].value_counts()"
   ]
  },
  {
   "cell_type": "markdown",
   "metadata": {},
   "source": [
    "Let's also visualize the obtained value counts to gain a more intuitive understanding of the count distribution using the plotting capabilities of the `Matplotlib` library:"
   ]
  },
  {
   "cell_type": "code",
   "execution_count": 26,
   "metadata": {},
   "outputs": [
    {
     "data": {
      "image/png": "[encoded data removed]",
      "text/plain": [
       "<Figure size 432x288 with 1 Axes>"
      ]
     },
     "metadata": {
      "needs_background": "light"
     },
     "output_type": "display_data"
    }
   ],
   "source": [
    "# initialize the plot\n",
    "fig, ax = plt.subplots()\n",
    "\n",
    "# plot a histogram of the value counts\n",
    "data[\"type\"].value_counts().plot(ax=ax, kind='bar', color=\"green\", alpha=0.8)\n",
    "\n",
    "# add labels of the x- and y-axis\n",
    "plt.ylabel(\"[Transaction Count]\", fontsize=12)\n",
    "plt.xlabel(\"[Transaction Type]\", fontsize=12)\n",
    "\n",
    "# add plot title\n",
    "plt.title(\"Distribution of Transaction Types\", fontsize=12);"
   ]
  },
  {
   "cell_type": "markdown",
   "metadata": {},
   "source": [
    "#### 2.3.2 Semantic Validation of Combined Attribute Value Characteristics"
   ]
  },
  {
   "cell_type": "markdown",
   "metadata": {},
   "source": [
    "In a next step let's conduct a simple semantic validation of a combination of attributes contained in the retrieved transactional data. Thereby, we aim to investigate the number of distinct values of the combined data attributes `type` and `isFraud` of transactional data. This can be achieved using the `pivot_table` function of the `Pandas` library:"
   ]
  },
  {
   "cell_type": "code",
   "execution_count": 27,
   "metadata": {},
   "outputs": [
    {
     "data": {
      "text/html": [
       "<div>\n",
       "<style scoped>\n",
       "    .dataframe tbody tr th:only-of-type {\n",
       "        vertical-align: middle;\n",
       "    }\n",
       "\n",
       "    .dataframe tbody tr th {\n",
       "        vertical-align: top;\n",
       "    }\n",
       "\n",
       "    .dataframe thead th {\n",
       "        text-align: right;\n",
       "    }\n",
       "</style>\n",
       "<table border=\"1\" class=\"dataframe\">\n",
       "  <thead>\n",
       "    <tr style=\"text-align: right;\">\n",
       "      <th>isFraud</th>\n",
       "      <th>0</th>\n",
       "      <th>1</th>\n",
       "    </tr>\n",
       "    <tr>\n",
       "      <th>type</th>\n",
       "      <th></th>\n",
       "      <th></th>\n",
       "    </tr>\n",
       "  </thead>\n",
       "  <tbody>\n",
       "    <tr>\n",
       "      <th>CASH_OUT</th>\n",
       "      <td>2233384</td>\n",
       "      <td>4116</td>\n",
       "    </tr>\n",
       "    <tr>\n",
       "      <th>TRANSFER</th>\n",
       "      <td>528812</td>\n",
       "      <td>4097</td>\n",
       "    </tr>\n",
       "  </tbody>\n",
       "</table>\n",
       "</div>"
      ],
      "text/plain": [
       "isFraud         0     1\n",
       "type                   \n",
       "CASH_OUT  2233384  4116\n",
       "TRANSFER   528812  4097"
      ]
     },
     "execution_count": 27,
     "metadata": {},
     "output_type": "execute_result"
    }
   ],
   "source": [
    "pd.pivot_table(data, values=\"step\", index=[\"type\"], columns=[\"isFraud\"], aggfunc=np.size)"
   ]
  },
  {
   "cell_type": "markdown",
   "metadata": {},
   "source": [
    "Let's again visualize the obtained value counts to gain a more intuitive understanding of the combined count distribution using the plotting capabilities of the `Matplotlib` library:"
   ]
  },
  {
   "cell_type": "code",
   "execution_count": 28,
   "metadata": {},
   "outputs": [
    {
     "data": {
      "image/png": "[encoded data removed]",
      "text/plain": [
       "<Figure size 432x288 with 1 Axes>"
      ]
     },
     "metadata": {
      "needs_background": "light"
     },
     "output_type": "display_data"
    }
   ],
   "source": [
    "# initialize the plot\n",
    "fig, ax = plt.subplots()\n",
    "\n",
    "# create pivot table of \"type\" and \"isFraud\" field\n",
    "pivot = pd.pivot_table(data, values=\"step\", index=[\"type\"], columns=[\"isFraud\"], aggfunc=np.size)\n",
    "\n",
    "# plot the pivot table as seaborn heatmap\n",
    "sns.heatmap(pivot, square=True, annot=True, fmt='d', cbar=False, cmap='BuGn_r')\n",
    "\n",
    "# add labels of the x- and y-axis\n",
    "plt.ylabel(\"[Transaction Count]\", fontsize=12)\n",
    "plt.xlabel(\"[Transaction Type]\", fontsize=12)\n",
    "\n",
    "# add plot title\n",
    "plt.title(\"Distribution of Transaction Types\", fontsize=12);"
   ]
  },
  {
   "cell_type": "markdown",
   "metadata": {},
   "source": [
    "#### 2.3.3 Semantic Validation of Individual Transaction Type Attribute Value Characteristics"
   ]
  },
  {
   "cell_type": "markdown",
   "metadata": {},
   "source": [
    "Now we will conduct a semantic validation of the amount field of transactions of type **\"CASH_OUT\"**. Let's therefore in a first step extract all \"CASH_OUT\" transactions from the dataset. To achieve this we will use the data filter capabilities of the `Pandas` library:"
   ]
  },
  {
   "cell_type": "code",
   "execution_count": 29,
   "metadata": {},
   "outputs": [],
   "source": [
    "# filter and extraction of cash out transactions\n",
    "transactions_cash_out = data[data[\"type\"] == \"CASH_OUT\"]"
   ]
  },
  {
   "cell_type": "markdown",
   "metadata": {},
   "source": [
    "Let's now verify the completeness of the filtered **\"CASH_OUT\"** transactions: "
   ]
  },
  {
   "cell_type": "code",
   "execution_count": 30,
   "metadata": {},
   "outputs": [
    {
     "data": {
      "text/plain": [
       "2237500"
      ]
     },
     "execution_count": 30,
     "metadata": {},
     "output_type": "execute_result"
    }
   ],
   "source": [
    "transactions_cash_out.shape[0]"
   ]
  },
  {
   "cell_type": "markdown",
   "metadata": {},
   "source": [
    "Next, we will visualize the posting amounts of each filtered **\"CASH_OUT\"** transactions vs. its corresponding process step:"
   ]
  },
  {
   "cell_type": "code",
   "execution_count": 31,
   "metadata": {},
   "outputs": [
    {
     "data": {
      "image/png": "[encoded data removed]",
      "text/plain": [
       "<Figure size 432x288 with 1 Axes>"
      ]
     },
     "metadata": {
      "needs_background": "light"
     },
     "output_type": "display_data"
    }
   ],
   "source": [
    "# initialize the plot\n",
    "fig, ax = plt.subplots()\n",
    "\n",
    "# plot the scatter plot of all cash out posting amounts\n",
    "plt.scatter(transactions_cash_out[\"step\"], transactions_cash_out[\"amount\"], color=\"green\", alpha=0.5, label=\"Cash-Out\")\n",
    "\n",
    "# add labels of the x- and y-axis\n",
    "plt.ylabel(\"[Transaction Amount]\", fontsize=12)\n",
    "plt.xlabel(\"[Transaction Step]\", fontsize=12)\n",
    "\n",
    "# format y-axis tick labels\n",
    "ax.ticklabel_format(style='plain')\n",
    "\n",
    "# add plot legend\n",
    "plt.legend(loc=\"upper right\", frameon=True)\n",
    "\n",
    "# add plot title\n",
    "plt.title(\"Distribution of `Cash-Out` Transaction Amounts\", fontsize=12);"
   ]
  },
  {
   "cell_type": "markdown",
   "metadata": {},
   "source": [
    "Let's now in a second step extract all **\"TRANSFER\"** transactions from the dataset. To achieve this we will use the data filter capabilities of the `Pandas` library:"
   ]
  },
  {
   "cell_type": "code",
   "execution_count": 32,
   "metadata": {},
   "outputs": [],
   "source": [
    "# filter and extraction of transfer transactions\n",
    "transactions_transfer = data[data[\"type\"] == \"TRANSFER\"]"
   ]
  },
  {
   "cell_type": "markdown",
   "metadata": {},
   "source": [
    "Let's now verify the completeness of the filtered **\"TRANSFER\"** transactions: "
   ]
  },
  {
   "cell_type": "code",
   "execution_count": 33,
   "metadata": {},
   "outputs": [
    {
     "data": {
      "text/plain": [
       "532909"
      ]
     },
     "execution_count": 33,
     "metadata": {},
     "output_type": "execute_result"
    }
   ],
   "source": [
    "transactions_transfer.shape[0]"
   ]
  },
  {
   "cell_type": "markdown",
   "metadata": {},
   "source": [
    "Next, we will again visualize the posting amounts of each filtered **\"CASH_OUT** transactions vs. its corresponding process step:"
   ]
  },
  {
   "cell_type": "code",
   "execution_count": 34,
   "metadata": {},
   "outputs": [
    {
     "data": {
      "image/png": "[encoded data removed]",
      "text/plain": [
       "<Figure size 432x288 with 1 Axes>"
      ]
     },
     "metadata": {
      "needs_background": "light"
     },
     "output_type": "display_data"
    }
   ],
   "source": [
    "# initialize the plot\n",
    "fig, ax = plt.subplots()\n",
    "\n",
    "# plot the scatter plot of all cash out posting amounts\n",
    "plt.scatter(transactions_transfer[\"step\"], transactions_transfer[\"amount\"], color=\"green\", alpha=0.5, label=\"Transfer\")\n",
    "\n",
    "# add labels of the x- and y-axis\n",
    "plt.ylabel(\"[Transaction Amount]\", fontsize=12)\n",
    "plt.xlabel(\"[Transaction Step]\", fontsize=12)\n",
    "\n",
    "# format y-axis tick labels\n",
    "ax.ticklabel_format(style='plain')\n",
    "\n",
    "# add plot legend\n",
    "plt.legend(loc=\"upper right\", frameon=True)\n",
    "\n",
    "# add plot title\n",
    "plt.title(\"Distribution of `Transfer` Transaction Amounts\", fontsize=12);"
   ]
  },
  {
   "cell_type": "markdown",
   "metadata": {},
   "source": [
    "## 3. Data Preparation and Formatting"
   ]
  },
  {
   "cell_type": "markdown",
   "metadata": {},
   "source": [
    "**Data preparation** defines the cleaning and transformation of raw data prior to the actual processing and analysis. Data preparation is an important step before the actual data analysis to be performed and often involves reformatting data, correcting information, and combining data sets to enrich that data."
   ]
  },
  {
   "cell_type": "markdown",
   "metadata": {},
   "source": [
    "### 3.1. Formatting of Data Attributes"
   ]
  },
  {
   "cell_type": "markdown",
   "metadata": {},
   "source": [
    "Let's conduct a simple semantic formatting of the data attributes `isFraud` and `isFlaggedFraud` in order to improve the interpretability of a human auditor. Therefore, let's first review the current formatting by inspecting the first five rows of the transactional dataset: "
   ]
  },
  {
   "cell_type": "code",
   "execution_count": 35,
   "metadata": {},
   "outputs": [
    {
     "data": {
      "text/html": [
       "<div>\n",
       "<style scoped>\n",
       "    .dataframe tbody tr th:only-of-type {\n",
       "        vertical-align: middle;\n",
       "    }\n",
       "\n",
       "    .dataframe tbody tr th {\n",
       "        vertical-align: top;\n",
       "    }\n",
       "\n",
       "    .dataframe thead th {\n",
       "        text-align: right;\n",
       "    }\n",
       "</style>\n",
       "<table border=\"1\" class=\"dataframe\">\n",
       "  <thead>\n",
       "    <tr style=\"text-align: right;\">\n",
       "      <th></th>\n",
       "      <th>AUDIT_ID</th>\n",
       "      <th>step</th>\n",
       "      <th>type</th>\n",
       "      <th>amount</th>\n",
       "      <th>nameOrig</th>\n",
       "      <th>oldbalanceOrg</th>\n",
       "      <th>newbalanceOrig</th>\n",
       "      <th>nameDest</th>\n",
       "      <th>oldbalanceDest</th>\n",
       "      <th>newbalanceDest</th>\n",
       "      <th>isFraud</th>\n",
       "      <th>isFlaggedFraud</th>\n",
       "    </tr>\n",
       "  </thead>\n",
       "  <tbody>\n",
       "    <tr>\n",
       "      <th>1</th>\n",
       "      <td>ACA_ID_0000001</td>\n",
       "      <td>1</td>\n",
       "      <td>CASH_OUT</td>\n",
       "      <td>181.00</td>\n",
       "      <td>C840083671</td>\n",
       "      <td>181.00</td>\n",
       "      <td>0.0</td>\n",
       "      <td>C38997010</td>\n",
       "      <td>21182.0</td>\n",
       "      <td>0.00</td>\n",
       "      <td>1</td>\n",
       "      <td>0</td>\n",
       "    </tr>\n",
       "    <tr>\n",
       "      <th>2</th>\n",
       "      <td>ACA_ID_0000002</td>\n",
       "      <td>1</td>\n",
       "      <td>CASH_OUT</td>\n",
       "      <td>229133.94</td>\n",
       "      <td>C905080434</td>\n",
       "      <td>15325.00</td>\n",
       "      <td>0.0</td>\n",
       "      <td>C476402209</td>\n",
       "      <td>5083.0</td>\n",
       "      <td>51513.44</td>\n",
       "      <td>0</td>\n",
       "      <td>0</td>\n",
       "    </tr>\n",
       "    <tr>\n",
       "      <th>5</th>\n",
       "      <td>ACA_ID_0000005</td>\n",
       "      <td>1</td>\n",
       "      <td>CASH_OUT</td>\n",
       "      <td>110414.71</td>\n",
       "      <td>C768216420</td>\n",
       "      <td>26845.41</td>\n",
       "      <td>0.0</td>\n",
       "      <td>C1509514333</td>\n",
       "      <td>288800.0</td>\n",
       "      <td>2415.16</td>\n",
       "      <td>0</td>\n",
       "      <td>0</td>\n",
       "    </tr>\n",
       "    <tr>\n",
       "      <th>6</th>\n",
       "      <td>ACA_ID_0000006</td>\n",
       "      <td>1</td>\n",
       "      <td>CASH_OUT</td>\n",
       "      <td>56953.90</td>\n",
       "      <td>C1570470538</td>\n",
       "      <td>1942.02</td>\n",
       "      <td>0.0</td>\n",
       "      <td>C824009085</td>\n",
       "      <td>70253.0</td>\n",
       "      <td>64106.18</td>\n",
       "      <td>0</td>\n",
       "      <td>0</td>\n",
       "    </tr>\n",
       "    <tr>\n",
       "      <th>7</th>\n",
       "      <td>ACA_ID_0000007</td>\n",
       "      <td>1</td>\n",
       "      <td>CASH_OUT</td>\n",
       "      <td>5346.89</td>\n",
       "      <td>C512549200</td>\n",
       "      <td>0.00</td>\n",
       "      <td>0.0</td>\n",
       "      <td>C248609774</td>\n",
       "      <td>652637.0</td>\n",
       "      <td>6453430.91</td>\n",
       "      <td>0</td>\n",
       "      <td>0</td>\n",
       "    </tr>\n",
       "  </tbody>\n",
       "</table>\n",
       "</div>"
      ],
      "text/plain": [
       "         AUDIT_ID  step      type     amount     nameOrig  oldbalanceOrg  \\\n",
       "1  ACA_ID_0000001     1  CASH_OUT     181.00   C840083671         181.00   \n",
       "2  ACA_ID_0000002     1  CASH_OUT  229133.94   C905080434       15325.00   \n",
       "5  ACA_ID_0000005     1  CASH_OUT  110414.71   C768216420       26845.41   \n",
       "6  ACA_ID_0000006     1  CASH_OUT   56953.90  C1570470538        1942.02   \n",
       "7  ACA_ID_0000007     1  CASH_OUT    5346.89   C512549200           0.00   \n",
       "\n",
       "   newbalanceOrig     nameDest  oldbalanceDest  newbalanceDest  isFraud  \\\n",
       "1             0.0    C38997010         21182.0            0.00        1   \n",
       "2             0.0   C476402209          5083.0        51513.44        0   \n",
       "5             0.0  C1509514333        288800.0         2415.16        0   \n",
       "6             0.0   C824009085         70253.0        64106.18        0   \n",
       "7             0.0   C248609774        652637.0      6453430.91        0   \n",
       "\n",
       "   isFlaggedFraud  \n",
       "1               0  \n",
       "2               0  \n",
       "5               0  \n",
       "6               0  \n",
       "7               0  "
      ]
     },
     "execution_count": 35,
     "metadata": {},
     "output_type": "execute_result"
    }
   ],
   "source": [
    "transactions_cash_out.head(5)"
   ]
  },
  {
   "cell_type": "markdown",
   "metadata": {},
   "source": [
    "It can be observed that the `isFraud` attribute encompasses two binary values. The values corresponding to either the value `1` which denotes a fraudulent transaction or the value `0` which denotes a non-fraudulent transaction. In a next step we will reformat those values accordingly in the dataset:"
   ]
  },
  {
   "cell_type": "code",
   "execution_count": 36,
   "metadata": {},
   "outputs": [],
   "source": [
    "# filter for fraudulent transations and replace the \"isFraud\" flag value\n",
    "transactions_cash_out.loc[transactions_cash_out['isFraud'] == 1, 'isFraud'] = 'yes' # replace the value \"1\" with \"yes\"\n",
    "\n",
    "# filter for non-fraudulent transations and replace the \"isFraud\" flag value\n",
    "transactions_cash_out.loc[transactions_cash_out['isFraud'] == 0, 'isFraud'] = 'no' # replace the value \"0\" with \"no\""
   ]
  },
  {
   "cell_type": "markdown",
   "metadata": {},
   "source": [
    "Let's spot check the performed replacement by the re-inspection of the first five rows:"
   ]
  },
  {
   "cell_type": "code",
   "execution_count": 37,
   "metadata": {},
   "outputs": [
    {
     "data": {
      "text/html": [
       "<div>\n",
       "<style scoped>\n",
       "    .dataframe tbody tr th:only-of-type {\n",
       "        vertical-align: middle;\n",
       "    }\n",
       "\n",
       "    .dataframe tbody tr th {\n",
       "        vertical-align: top;\n",
       "    }\n",
       "\n",
       "    .dataframe thead th {\n",
       "        text-align: right;\n",
       "    }\n",
       "</style>\n",
       "<table border=\"1\" class=\"dataframe\">\n",
       "  <thead>\n",
       "    <tr style=\"text-align: right;\">\n",
       "      <th></th>\n",
       "      <th>AUDIT_ID</th>\n",
       "      <th>step</th>\n",
       "      <th>type</th>\n",
       "      <th>amount</th>\n",
       "      <th>nameOrig</th>\n",
       "      <th>oldbalanceOrg</th>\n",
       "      <th>newbalanceOrig</th>\n",
       "      <th>nameDest</th>\n",
       "      <th>oldbalanceDest</th>\n",
       "      <th>newbalanceDest</th>\n",
       "      <th>isFraud</th>\n",
       "      <th>isFlaggedFraud</th>\n",
       "    </tr>\n",
       "  </thead>\n",
       "  <tbody>\n",
       "    <tr>\n",
       "      <th>1</th>\n",
       "      <td>ACA_ID_0000001</td>\n",
       "      <td>1</td>\n",
       "      <td>CASH_OUT</td>\n",
       "      <td>181.00</td>\n",
       "      <td>C840083671</td>\n",
       "      <td>181.00</td>\n",
       "      <td>0.0</td>\n",
       "      <td>C38997010</td>\n",
       "      <td>21182.0</td>\n",
       "      <td>0.00</td>\n",
       "      <td>yes</td>\n",
       "      <td>0</td>\n",
       "    </tr>\n",
       "    <tr>\n",
       "      <th>2</th>\n",
       "      <td>ACA_ID_0000002</td>\n",
       "      <td>1</td>\n",
       "      <td>CASH_OUT</td>\n",
       "      <td>229133.94</td>\n",
       "      <td>C905080434</td>\n",
       "      <td>15325.00</td>\n",
       "      <td>0.0</td>\n",
       "      <td>C476402209</td>\n",
       "      <td>5083.0</td>\n",
       "      <td>51513.44</td>\n",
       "      <td>no</td>\n",
       "      <td>0</td>\n",
       "    </tr>\n",
       "    <tr>\n",
       "      <th>5</th>\n",
       "      <td>ACA_ID_0000005</td>\n",
       "      <td>1</td>\n",
       "      <td>CASH_OUT</td>\n",
       "      <td>110414.71</td>\n",
       "      <td>C768216420</td>\n",
       "      <td>26845.41</td>\n",
       "      <td>0.0</td>\n",
       "      <td>C1509514333</td>\n",
       "      <td>288800.0</td>\n",
       "      <td>2415.16</td>\n",
       "      <td>no</td>\n",
       "      <td>0</td>\n",
       "    </tr>\n",
       "    <tr>\n",
       "      <th>6</th>\n",
       "      <td>ACA_ID_0000006</td>\n",
       "      <td>1</td>\n",
       "      <td>CASH_OUT</td>\n",
       "      <td>56953.90</td>\n",
       "      <td>C1570470538</td>\n",
       "      <td>1942.02</td>\n",
       "      <td>0.0</td>\n",
       "      <td>C824009085</td>\n",
       "      <td>70253.0</td>\n",
       "      <td>64106.18</td>\n",
       "      <td>no</td>\n",
       "      <td>0</td>\n",
       "    </tr>\n",
       "    <tr>\n",
       "      <th>7</th>\n",
       "      <td>ACA_ID_0000007</td>\n",
       "      <td>1</td>\n",
       "      <td>CASH_OUT</td>\n",
       "      <td>5346.89</td>\n",
       "      <td>C512549200</td>\n",
       "      <td>0.00</td>\n",
       "      <td>0.0</td>\n",
       "      <td>C248609774</td>\n",
       "      <td>652637.0</td>\n",
       "      <td>6453430.91</td>\n",
       "      <td>no</td>\n",
       "      <td>0</td>\n",
       "    </tr>\n",
       "  </tbody>\n",
       "</table>\n",
       "</div>"
      ],
      "text/plain": [
       "         AUDIT_ID  step      type     amount     nameOrig  oldbalanceOrg  \\\n",
       "1  ACA_ID_0000001     1  CASH_OUT     181.00   C840083671         181.00   \n",
       "2  ACA_ID_0000002     1  CASH_OUT  229133.94   C905080434       15325.00   \n",
       "5  ACA_ID_0000005     1  CASH_OUT  110414.71   C768216420       26845.41   \n",
       "6  ACA_ID_0000006     1  CASH_OUT   56953.90  C1570470538        1942.02   \n",
       "7  ACA_ID_0000007     1  CASH_OUT    5346.89   C512549200           0.00   \n",
       "\n",
       "   newbalanceOrig     nameDest  oldbalanceDest  newbalanceDest isFraud  \\\n",
       "1             0.0    C38997010         21182.0            0.00     yes   \n",
       "2             0.0   C476402209          5083.0        51513.44      no   \n",
       "5             0.0  C1509514333        288800.0         2415.16      no   \n",
       "6             0.0   C824009085         70253.0        64106.18      no   \n",
       "7             0.0   C248609774        652637.0      6453430.91      no   \n",
       "\n",
       "   isFlaggedFraud  \n",
       "1               0  \n",
       "2               0  \n",
       "5               0  \n",
       "6               0  \n",
       "7               0  "
      ]
     },
     "execution_count": 37,
     "metadata": {},
     "output_type": "execute_result"
    }
   ],
   "source": [
    "transactions_cash_out.head(5)"
   ]
  },
  {
   "cell_type": "markdown",
   "metadata": {},
   "source": [
    "Let's now apply the same reformatting to the `isFlaggedFraud` attribute in the dataset. Remember, the values corresponding to either the value 1 which denotes a transaction flagged as fraudulent or the value 0 which denotes a transaction flagged as non-fraudulent. "
   ]
  },
  {
   "cell_type": "code",
   "execution_count": 38,
   "metadata": {},
   "outputs": [],
   "source": [
    "# filter for transations flagged as fraudulent and replace the \"isFlaggedFraud\" flag value\n",
    "transactions_cash_out.loc[transactions_cash_out['isFlaggedFraud'] == 1]['isFlaggedFraud'] = 'yes' # replace the value \"1\" with \"yes\"\n",
    "\n",
    "# filter for transations flagged as non-fraudulent and replace the \"isFlaggedFraud\" flag value\n",
    "transactions_cash_out.loc[transactions_cash_out['isFlaggedFraud'] == 0]['isFlaggedFraud'] = 'no' # replace the value \"0\" with \"no\""
   ]
  },
  {
   "cell_type": "markdown",
   "metadata": {},
   "source": [
    "Let's again spot check the performed replacement by the re-inspection of the first five rows:"
   ]
  },
  {
   "cell_type": "code",
   "execution_count": 39,
   "metadata": {},
   "outputs": [
    {
     "data": {
      "text/html": [
       "<div>\n",
       "<style scoped>\n",
       "    .dataframe tbody tr th:only-of-type {\n",
       "        vertical-align: middle;\n",
       "    }\n",
       "\n",
       "    .dataframe tbody tr th {\n",
       "        vertical-align: top;\n",
       "    }\n",
       "\n",
       "    .dataframe thead th {\n",
       "        text-align: right;\n",
       "    }\n",
       "</style>\n",
       "<table border=\"1\" class=\"dataframe\">\n",
       "  <thead>\n",
       "    <tr style=\"text-align: right;\">\n",
       "      <th></th>\n",
       "      <th>AUDIT_ID</th>\n",
       "      <th>step</th>\n",
       "      <th>type</th>\n",
       "      <th>amount</th>\n",
       "      <th>nameOrig</th>\n",
       "      <th>oldbalanceOrg</th>\n",
       "      <th>newbalanceOrig</th>\n",
       "      <th>nameDest</th>\n",
       "      <th>oldbalanceDest</th>\n",
       "      <th>newbalanceDest</th>\n",
       "      <th>isFraud</th>\n",
       "      <th>isFlaggedFraud</th>\n",
       "    </tr>\n",
       "  </thead>\n",
       "  <tbody>\n",
       "    <tr>\n",
       "      <th>1</th>\n",
       "      <td>ACA_ID_0000001</td>\n",
       "      <td>1</td>\n",
       "      <td>CASH_OUT</td>\n",
       "      <td>181.00</td>\n",
       "      <td>C840083671</td>\n",
       "      <td>181.00</td>\n",
       "      <td>0.0</td>\n",
       "      <td>C38997010</td>\n",
       "      <td>21182.0</td>\n",
       "      <td>0.00</td>\n",
       "      <td>yes</td>\n",
       "      <td>0</td>\n",
       "    </tr>\n",
       "    <tr>\n",
       "      <th>2</th>\n",
       "      <td>ACA_ID_0000002</td>\n",
       "      <td>1</td>\n",
       "      <td>CASH_OUT</td>\n",
       "      <td>229133.94</td>\n",
       "      <td>C905080434</td>\n",
       "      <td>15325.00</td>\n",
       "      <td>0.0</td>\n",
       "      <td>C476402209</td>\n",
       "      <td>5083.0</td>\n",
       "      <td>51513.44</td>\n",
       "      <td>no</td>\n",
       "      <td>0</td>\n",
       "    </tr>\n",
       "    <tr>\n",
       "      <th>5</th>\n",
       "      <td>ACA_ID_0000005</td>\n",
       "      <td>1</td>\n",
       "      <td>CASH_OUT</td>\n",
       "      <td>110414.71</td>\n",
       "      <td>C768216420</td>\n",
       "      <td>26845.41</td>\n",
       "      <td>0.0</td>\n",
       "      <td>C1509514333</td>\n",
       "      <td>288800.0</td>\n",
       "      <td>2415.16</td>\n",
       "      <td>no</td>\n",
       "      <td>0</td>\n",
       "    </tr>\n",
       "    <tr>\n",
       "      <th>6</th>\n",
       "      <td>ACA_ID_0000006</td>\n",
       "      <td>1</td>\n",
       "      <td>CASH_OUT</td>\n",
       "      <td>56953.90</td>\n",
       "      <td>C1570470538</td>\n",
       "      <td>1942.02</td>\n",
       "      <td>0.0</td>\n",
       "      <td>C824009085</td>\n",
       "      <td>70253.0</td>\n",
       "      <td>64106.18</td>\n",
       "      <td>no</td>\n",
       "      <td>0</td>\n",
       "    </tr>\n",
       "    <tr>\n",
       "      <th>7</th>\n",
       "      <td>ACA_ID_0000007</td>\n",
       "      <td>1</td>\n",
       "      <td>CASH_OUT</td>\n",
       "      <td>5346.89</td>\n",
       "      <td>C512549200</td>\n",
       "      <td>0.00</td>\n",
       "      <td>0.0</td>\n",
       "      <td>C248609774</td>\n",
       "      <td>652637.0</td>\n",
       "      <td>6453430.91</td>\n",
       "      <td>no</td>\n",
       "      <td>0</td>\n",
       "    </tr>\n",
       "  </tbody>\n",
       "</table>\n",
       "</div>"
      ],
      "text/plain": [
       "         AUDIT_ID  step      type     amount     nameOrig  oldbalanceOrg  \\\n",
       "1  ACA_ID_0000001     1  CASH_OUT     181.00   C840083671         181.00   \n",
       "2  ACA_ID_0000002     1  CASH_OUT  229133.94   C905080434       15325.00   \n",
       "5  ACA_ID_0000005     1  CASH_OUT  110414.71   C768216420       26845.41   \n",
       "6  ACA_ID_0000006     1  CASH_OUT   56953.90  C1570470538        1942.02   \n",
       "7  ACA_ID_0000007     1  CASH_OUT    5346.89   C512549200           0.00   \n",
       "\n",
       "   newbalanceOrig     nameDest  oldbalanceDest  newbalanceDest isFraud  \\\n",
       "1             0.0    C38997010         21182.0            0.00     yes   \n",
       "2             0.0   C476402209          5083.0        51513.44      no   \n",
       "5             0.0  C1509514333        288800.0         2415.16      no   \n",
       "6             0.0   C824009085         70253.0        64106.18      no   \n",
       "7             0.0   C248609774        652637.0      6453430.91      no   \n",
       "\n",
       "   isFlaggedFraud  \n",
       "1               0  \n",
       "2               0  \n",
       "5               0  \n",
       "6               0  \n",
       "7               0  "
      ]
     },
     "execution_count": 39,
     "metadata": {},
     "output_type": "execute_result"
    }
   ],
   "source": [
    "transactions_cash_out.head(5)"
   ]
  },
  {
   "cell_type": "markdown",
   "metadata": {},
   "source": [
    "## 4. Rule-Based ('Red-Flag') Audit Data Analytics"
   ]
  },
  {
   "cell_type": "markdown",
   "metadata": {},
   "source": [
    "<img align=\"center\" style=\"max-width: 800px; height: auto\" src=\"01_images/analytics.png\">"
   ]
  },
  {
   "cell_type": "markdown",
   "metadata": {},
   "source": [
    "### 4.1. Analytics: Identification of Unusual High Round Payment Amounts"
   ]
  },
  {
   "cell_type": "markdown",
   "metadata": {},
   "source": [
    "<p>\n",
    "    <table class=\"table table-bordered table-striped table-hover\">\n",
    "    <col width=\"150\">\n",
    "        <tr>\n",
    "            <td><b align=\"left\" style=\"font-size:16px\">ID: </b></td>\n",
    "            <td><p align=\"left\" style=\"font-size:16px\">ACA 001</p></td>\n",
    "        <tr>\n",
    "            <td><b align=\"left\" style=\"font-size:16px\">Name: </b></td>\n",
    "            <td><p align=\"left\" style=\"font-size:16px\">Unusual High Round Payment Amounts</p></td>\n",
    "        <tr>\n",
    "            <td><b align=\"left\" style=\"font-size:16px\">Risk: </b></td>\n",
    "            <td><p align=\"left\" style=\"font-size:16px\">Unusual high round amount payments pose an increased risk of high financial losses.</p></td>\n",
    "        </tr>\n",
    "        <tr>\n",
    "            <td><b align=\"left\" style=\"font-size:16px\">Hypothesis: </b></td>\n",
    "            <td><p align=\"left\" style=\"font-size:16px\">Outgoing value should follow a general distributional pattern.</p></td>\n",
    "        </tr>\n",
    "        <tr>\n",
    "            <td><b align=\"left\" style=\"font-size:16px\">Data: </b></td>\n",
    "            <td><p align=\"left\" style=\"font-size:16px\">Population of the 2,237,500 \"cash-out\" transactions that comprise the 'PaySim' dataset.</p></td>\n",
    "        </tr>\n",
    "        <tr>\n",
    "            <td><b align=\"left\" style=\"font-size:16px\">Analytics: </b></td>\n",
    "            <td><p align=\"left\" style=\"font-size:16px\">Identification of all cash-out transactions with a transaction amount higher or equal to 10 million in local currency. Extraction of the relevant cash-out transactions from the 'PaySim' dataset for a sample based case-by-case review.</p></td>\n",
    "        </tr>\n",
    "    </table>\n",
    "</p>"
   ]
  },
  {
   "cell_type": "markdown",
   "metadata": {},
   "source": [
    "In order to conduct the analysis, let's again visually inspect the individual payment amounts of the entire population of 2,237,500 'CASH_OUT' transactions:"
   ]
  },
  {
   "cell_type": "code",
   "execution_count": 40,
   "metadata": {},
   "outputs": [
    {
     "data": {
      "image/png": "[encoded data removed]",
      "text/plain": [
       "<Figure size 432x288 with 1 Axes>"
      ]
     },
     "metadata": {
      "needs_background": "light"
     },
     "output_type": "display_data"
    }
   ],
   "source": [
    "# initialize the plot\n",
    "fig, ax = plt.subplots()\n",
    "\n",
    "# plot the scatter plot of all cash out posting amounts\n",
    "plt.scatter(transactions_cash_out[\"step\"], transactions_cash_out[\"amount\"], color=\"green\", alpha=0.5, label=\"Cash-Out\")\n",
    "\n",
    "# plot unusual amount threshold\n",
    "plt.axhline(y=9900000, color=\"r\", linestyle=\"--\", label=\"threshold\")\n",
    "\n",
    "# add labels of the x- and y-axis\n",
    "plt.ylabel(\"[Transaction Amount]\", fontsize=12)\n",
    "plt.xlabel(\"[Transaction Step]\", fontsize=12)\n",
    "\n",
    "# format y-axis tick labels\n",
    "ax.ticklabel_format(style='plain')\n",
    "\n",
    "# add plot legend\n",
    "plt.legend(loc=\"lower right\", frameon=True)\n",
    "\n",
    "# add plot title\n",
    "plt.title(\"Distribution of `Cash-Out` Transaction Amounts\", fontsize=12);"
   ]
  },
  {
   "cell_type": "markdown",
   "metadata": {},
   "source": [
    "From the visualization it appears that there is an unusual pattern evident around the transaction amounts higher or equal to 10 Mio. in local currency. Let's therefore in a next step also visually inspect the distribution of all payments that exhibit an amounts higher than 1 Mio. in local currency: "
   ]
  },
  {
   "cell_type": "code",
   "execution_count": 41,
   "metadata": {},
   "outputs": [
    {
     "data": {
      "image/png": "[encoded data removed]",
      "text/plain": [
       "<Figure size 432x288 with 1 Axes>"
      ]
     },
     "metadata": {
      "needs_background": "light"
     },
     "output_type": "display_data"
    }
   ],
   "source": [
    "# initialize the plot\n",
    "fig, ax = plt.subplots()\n",
    "\n",
    "# plot the scatter plot of all cash out posting amounts\n",
    "plt.hist(transactions_cash_out[transactions_cash_out[\"amount\"] > 1000000][\"amount\"], color=\"green\", alpha=0.5, label=\"Cash-Out\", bins=40)\n",
    "\n",
    "# plot unusual amount threshold\n",
    "plt.axvline(x=9800000, color=\"r\", linestyle=\"--\", label=\"threshold\")\n",
    "\n",
    "# add labels of the x- and y-axis\n",
    "plt.ylabel(\"[Transaction Count]\", fontsize=12)\n",
    "plt.xlabel(\"[Transaction Amount]\", fontsize=12)\n",
    "\n",
    "# format y-axis tick labels\n",
    "ax.ticklabel_format(style='plain')\n",
    "\n",
    "# rotate x-axis tick labels\n",
    "plt.xticks(rotation=45)\n",
    "\n",
    "# add plot legend\n",
    "plt.legend(loc=\"upper right\", frameon=True)\n",
    "\n",
    "# add plot title\n",
    "plt.title(\"Distribution of `Cash-Out` Transaction Amounts\", fontsize=12);"
   ]
  },
  {
   "cell_type": "markdown",
   "metadata": {},
   "source": [
    "Ok, from the distribution plot it seems that there is indeed an unexpected high number of transactions evident around the transaction amount of 10 Mio. in local currency. Let's therefore apply a filter for all \"CASH_OUT\" transactions that are **equal or exceed an amount value of 10 Mio.** in local currency:"
   ]
  },
  {
   "cell_type": "code",
   "execution_count": 42,
   "metadata": {},
   "outputs": [],
   "source": [
    "# define the amount threshold\n",
    "threshold = 10000000\n",
    "\n",
    "# filter the transactions according to the amount threshold \n",
    "transactions_cash_out_high_value = transactions_cash_out[transactions_cash_out[\"amount\"] >= threshold]"
   ]
  },
  {
   "cell_type": "markdown",
   "metadata": {},
   "source": [
    "Determine the total number of filtered \"CASH_OUT\" transactions that exhibit an unusual high amount:"
   ]
  },
  {
   "cell_type": "code",
   "execution_count": 43,
   "metadata": {},
   "outputs": [
    {
     "data": {
      "text/plain": [
       "142"
      ]
     },
     "execution_count": 43,
     "metadata": {},
     "output_type": "execute_result"
    }
   ],
   "source": [
    "transactions_cash_out_high_value.shape[0]"
   ]
  },
  {
   "cell_type": "markdown",
   "metadata": {},
   "source": [
    "Let's also visually inspect the first 10 transactions that exhibit an unusual high amount value:"
   ]
  },
  {
   "cell_type": "code",
   "execution_count": 44,
   "metadata": {},
   "outputs": [
    {
     "data": {
      "text/html": [
       "<div>\n",
       "<style scoped>\n",
       "    .dataframe tbody tr th:only-of-type {\n",
       "        vertical-align: middle;\n",
       "    }\n",
       "\n",
       "    .dataframe tbody tr th {\n",
       "        vertical-align: top;\n",
       "    }\n",
       "\n",
       "    .dataframe thead th {\n",
       "        text-align: right;\n",
       "    }\n",
       "</style>\n",
       "<table border=\"1\" class=\"dataframe\">\n",
       "  <thead>\n",
       "    <tr style=\"text-align: right;\">\n",
       "      <th></th>\n",
       "      <th>AUDIT_ID</th>\n",
       "      <th>step</th>\n",
       "      <th>type</th>\n",
       "      <th>amount</th>\n",
       "      <th>nameOrig</th>\n",
       "      <th>oldbalanceOrg</th>\n",
       "      <th>newbalanceOrig</th>\n",
       "      <th>nameDest</th>\n",
       "      <th>oldbalanceDest</th>\n",
       "      <th>newbalanceDest</th>\n",
       "      <th>isFraud</th>\n",
       "      <th>isFlaggedFraud</th>\n",
       "    </tr>\n",
       "  </thead>\n",
       "  <tbody>\n",
       "    <tr>\n",
       "      <th>954</th>\n",
       "      <td>ACA_ID_0000954</td>\n",
       "      <td>4</td>\n",
       "      <td>CASH_OUT</td>\n",
       "      <td>10000000.0</td>\n",
       "      <td>C351297720</td>\n",
       "      <td>10000000.0</td>\n",
       "      <td>0.0</td>\n",
       "      <td>C766681183</td>\n",
       "      <td>0.00</td>\n",
       "      <td>9941904.21</td>\n",
       "      <td>yes</td>\n",
       "      <td>0</td>\n",
       "    </tr>\n",
       "    <tr>\n",
       "      <th>214335</th>\n",
       "      <td>ACA_ID_0214335</td>\n",
       "      <td>19</td>\n",
       "      <td>CASH_OUT</td>\n",
       "      <td>10000000.0</td>\n",
       "      <td>C2050703310</td>\n",
       "      <td>10000000.0</td>\n",
       "      <td>0.0</td>\n",
       "      <td>C1622860679</td>\n",
       "      <td>504326.62</td>\n",
       "      <td>10342417.90</td>\n",
       "      <td>yes</td>\n",
       "      <td>0</td>\n",
       "    </tr>\n",
       "    <tr>\n",
       "      <th>256117</th>\n",
       "      <td>ACA_ID_0256117</td>\n",
       "      <td>33</td>\n",
       "      <td>CASH_OUT</td>\n",
       "      <td>10000000.0</td>\n",
       "      <td>C29118015</td>\n",
       "      <td>10000000.0</td>\n",
       "      <td>0.0</td>\n",
       "      <td>C1379703840</td>\n",
       "      <td>0.00</td>\n",
       "      <td>10000000.00</td>\n",
       "      <td>yes</td>\n",
       "      <td>0</td>\n",
       "    </tr>\n",
       "    <tr>\n",
       "      <th>454383</th>\n",
       "      <td>ACA_ID_0454383</td>\n",
       "      <td>72</td>\n",
       "      <td>CASH_OUT</td>\n",
       "      <td>10000000.0</td>\n",
       "      <td>C1438388258</td>\n",
       "      <td>10000000.0</td>\n",
       "      <td>0.0</td>\n",
       "      <td>C1089455271</td>\n",
       "      <td>81810.42</td>\n",
       "      <td>10081810.42</td>\n",
       "      <td>yes</td>\n",
       "      <td>0</td>\n",
       "    </tr>\n",
       "    <tr>\n",
       "      <th>454485</th>\n",
       "      <td>ACA_ID_0454485</td>\n",
       "      <td>82</td>\n",
       "      <td>CASH_OUT</td>\n",
       "      <td>10000000.0</td>\n",
       "      <td>C1079335762</td>\n",
       "      <td>10000000.0</td>\n",
       "      <td>0.0</td>\n",
       "      <td>C615227407</td>\n",
       "      <td>373274.84</td>\n",
       "      <td>10373274.84</td>\n",
       "      <td>yes</td>\n",
       "      <td>0</td>\n",
       "    </tr>\n",
       "    <tr>\n",
       "      <th>454511</th>\n",
       "      <td>ACA_ID_0454511</td>\n",
       "      <td>84</td>\n",
       "      <td>CASH_OUT</td>\n",
       "      <td>10000000.0</td>\n",
       "      <td>C824646662</td>\n",
       "      <td>10000000.0</td>\n",
       "      <td>0.0</td>\n",
       "      <td>C1917849910</td>\n",
       "      <td>0.00</td>\n",
       "      <td>10000000.00</td>\n",
       "      <td>yes</td>\n",
       "      <td>0</td>\n",
       "    </tr>\n",
       "    <tr>\n",
       "      <th>454533</th>\n",
       "      <td>ACA_ID_0454533</td>\n",
       "      <td>86</td>\n",
       "      <td>CASH_OUT</td>\n",
       "      <td>10000000.0</td>\n",
       "      <td>C538142346</td>\n",
       "      <td>10000000.0</td>\n",
       "      <td>0.0</td>\n",
       "      <td>C557678014</td>\n",
       "      <td>0.00</td>\n",
       "      <td>10000000.00</td>\n",
       "      <td>yes</td>\n",
       "      <td>0</td>\n",
       "    </tr>\n",
       "    <tr>\n",
       "      <th>462283</th>\n",
       "      <td>ACA_ID_0462283</td>\n",
       "      <td>96</td>\n",
       "      <td>CASH_OUT</td>\n",
       "      <td>10000000.0</td>\n",
       "      <td>C333142995</td>\n",
       "      <td>10000000.0</td>\n",
       "      <td>0.0</td>\n",
       "      <td>C1990623385</td>\n",
       "      <td>841522.24</td>\n",
       "      <td>10841522.24</td>\n",
       "      <td>yes</td>\n",
       "      <td>0</td>\n",
       "    </tr>\n",
       "    <tr>\n",
       "      <th>463493</th>\n",
       "      <td>ACA_ID_0463493</td>\n",
       "      <td>118</td>\n",
       "      <td>CASH_OUT</td>\n",
       "      <td>10000000.0</td>\n",
       "      <td>C1348396248</td>\n",
       "      <td>10000000.0</td>\n",
       "      <td>0.0</td>\n",
       "      <td>C1954217280</td>\n",
       "      <td>0.00</td>\n",
       "      <td>10000000.00</td>\n",
       "      <td>yes</td>\n",
       "      <td>0</td>\n",
       "    </tr>\n",
       "    <tr>\n",
       "      <th>497909</th>\n",
       "      <td>ACA_ID_0497909</td>\n",
       "      <td>131</td>\n",
       "      <td>CASH_OUT</td>\n",
       "      <td>10000000.0</td>\n",
       "      <td>C944451895</td>\n",
       "      <td>10000000.0</td>\n",
       "      <td>0.0</td>\n",
       "      <td>C1941053102</td>\n",
       "      <td>179252.82</td>\n",
       "      <td>10179252.82</td>\n",
       "      <td>yes</td>\n",
       "      <td>0</td>\n",
       "    </tr>\n",
       "  </tbody>\n",
       "</table>\n",
       "</div>"
      ],
      "text/plain": [
       "              AUDIT_ID  step      type      amount     nameOrig  \\\n",
       "954     ACA_ID_0000954     4  CASH_OUT  10000000.0   C351297720   \n",
       "214335  ACA_ID_0214335    19  CASH_OUT  10000000.0  C2050703310   \n",
       "256117  ACA_ID_0256117    33  CASH_OUT  10000000.0    C29118015   \n",
       "454383  ACA_ID_0454383    72  CASH_OUT  10000000.0  C1438388258   \n",
       "454485  ACA_ID_0454485    82  CASH_OUT  10000000.0  C1079335762   \n",
       "454511  ACA_ID_0454511    84  CASH_OUT  10000000.0   C824646662   \n",
       "454533  ACA_ID_0454533    86  CASH_OUT  10000000.0   C538142346   \n",
       "462283  ACA_ID_0462283    96  CASH_OUT  10000000.0   C333142995   \n",
       "463493  ACA_ID_0463493   118  CASH_OUT  10000000.0  C1348396248   \n",
       "497909  ACA_ID_0497909   131  CASH_OUT  10000000.0   C944451895   \n",
       "\n",
       "        oldbalanceOrg  newbalanceOrig     nameDest  oldbalanceDest  \\\n",
       "954        10000000.0             0.0   C766681183            0.00   \n",
       "214335     10000000.0             0.0  C1622860679       504326.62   \n",
       "256117     10000000.0             0.0  C1379703840            0.00   \n",
       "454383     10000000.0             0.0  C1089455271        81810.42   \n",
       "454485     10000000.0             0.0   C615227407       373274.84   \n",
       "454511     10000000.0             0.0  C1917849910            0.00   \n",
       "454533     10000000.0             0.0   C557678014            0.00   \n",
       "462283     10000000.0             0.0  C1990623385       841522.24   \n",
       "463493     10000000.0             0.0  C1954217280            0.00   \n",
       "497909     10000000.0             0.0  C1941053102       179252.82   \n",
       "\n",
       "        newbalanceDest isFraud  isFlaggedFraud  \n",
       "954         9941904.21     yes               0  \n",
       "214335     10342417.90     yes               0  \n",
       "256117     10000000.00     yes               0  \n",
       "454383     10081810.42     yes               0  \n",
       "454485     10373274.84     yes               0  \n",
       "454511     10000000.00     yes               0  \n",
       "454533     10000000.00     yes               0  \n",
       "462283     10841522.24     yes               0  \n",
       "463493     10000000.00     yes               0  \n",
       "497909     10179252.82     yes               0  "
      ]
     },
     "execution_count": 44,
     "metadata": {},
     "output_type": "execute_result"
    }
   ],
   "source": [
    "transactions_cash_out_high_value.head(10)"
   ]
  },
  {
   "cell_type": "markdown",
   "metadata": {},
   "source": [
    "Finally let's extract the filtered transactions into an excel spreadsheet for a further sample based testing by the audit team. Therefore, we will in a first step create a time stamp of the data extract for audit trail purposes:"
   ]
  },
  {
   "cell_type": "code",
   "execution_count": 45,
   "metadata": {},
   "outputs": [],
   "source": [
    "timestamp = dt.datetime.utcnow().strftime(\"%Y-%m-%d_%H-%M-%S\")"
   ]
  },
  {
   "cell_type": "markdown",
   "metadata": {},
   "source": [
    "Finally, we extract the filtered transactions to excel to the local filesystem:"
   ]
  },
  {
   "cell_type": "code",
   "execution_count": 46,
   "metadata": {},
   "outputs": [],
   "source": [
    "# specify the filename of the excel spreadsheet\n",
    "filename = str(timestamp) + \" - ACA_001_analysis_result_unusual_high_amounts.xlsx\"\n",
    "\n",
    "# specify the target data directory of the excel spreadsheet\n",
    "data_directory = os.path.join('./03_results', filename)\n",
    "\n",
    "# extract the filtered transactions to excel\n",
    "transactions_cash_out_high_value.to_excel(data_directory, header=True, index=False, sheet_name=\"High_Round_Amounts\", encoding=\"utf-8\")"
   ]
  },
  {
   "cell_type": "markdown",
   "metadata": {},
   "source": [
    "Before continuing our analysis let's remove the already extracted **ACA_001** Analytics transactions from the entire population of transactions in the dataset:"
   ]
  },
  {
   "cell_type": "code",
   "execution_count": 47,
   "metadata": {},
   "outputs": [],
   "source": [
    "transactions_cash_out_filtered = transactions_cash_out[transactions_cash_out[\"amount\"] < threshold]"
   ]
  },
  {
   "cell_type": "markdown",
   "metadata": {},
   "source": [
    "### 4.2. Analytics: Identification of Unusual High Payment Amounts between Business Partners"
   ]
  },
  {
   "cell_type": "markdown",
   "metadata": {},
   "source": [
    "<p>\n",
    "    <table class=\"table table-bordered table-striped table-hover\">\n",
    "    <col width=\"150\">\n",
    "        <tr>\n",
    "            <td><b align=\"left\" style=\"font-size:16px\">ID: </b></td>\n",
    "            <td><p align=\"left\" style=\"font-size:16px\">ACA 002</p></td>\n",
    "        <tr>\n",
    "            <td><b align=\"left\" style=\"font-size:16px\">Name: </b></td>\n",
    "            <td><p align=\"left\" style=\"font-size:16px\">Unusual High Payments Between Business Partners</p></td>\n",
    "        <tr>\n",
    "            <td><b align=\"left\" style=\"font-size:16px\">Risk: </b></td>\n",
    "            <td><p align=\"left\" style=\"font-size:16px\">Unusual high payments between business partners pose an increased risk of high financial losses.</p></td>\n",
    "        </tr>\n",
    "        <tr>\n",
    "            <td><b align=\"left\" style=\"font-size:16px\">Hypothesis: </b></td>\n",
    "            <td><p align=\"left\" style=\"font-size:16px\">Outgoing value should follow a general distributional pattern.</p></td>\n",
    "        </tr>\n",
    "        <tr>\n",
    "            <td><b align=\"left\" style=\"font-size:16px\">Data: </b></td>\n",
    "            <td><p align=\"left\" style=\"font-size:16px\">Population of the 2,237,500 \"cash-out\" transactions that comprise the 'PaySim' dataset.</p></td>\n",
    "        </tr>\n",
    "        <tr>\n",
    "            <td><b align=\"left\" style=\"font-size:16px\">Analytics: </b></td>\n",
    "            <td><p align=\"left\" style=\"font-size:16px\">Analysis of the pairwise cash-out transaction volume between counterparties. Identification of pairwise counterparties with the highest cash-out transaction volume. Extraction of the corresponding cash-out transactions from the 'PaySim' dataset for an sample based case-by-case verification.</p></td>\n",
    "        </tr>\n",
    "    </table>\n",
    "</p>"
   ]
  },
  {
   "cell_type": "markdown",
   "metadata": {},
   "source": [
    "In order to conduct the analysis, let's aggregate the filtered \"CASH_OUT\" transactions according to the distinct business partner relationships. To create such an multi-column aggregation we will use the `groupby` function of the `Pandas` library:"
   ]
  },
  {
   "cell_type": "code",
   "execution_count": 48,
   "metadata": {},
   "outputs": [],
   "source": [
    "transactions_cash_out_partners = transactions_cash_out_filtered.groupby(['nameOrig', 'nameDest'])[['amount', 'newbalanceOrig', 'oldbalanceOrg']].sum().reset_index()"
   ]
  },
  {
   "cell_type": "markdown",
   "metadata": {},
   "source": [
    "Let's now determine the total number of unique business partner relationships:"
   ]
  },
  {
   "cell_type": "code",
   "execution_count": 49,
   "metadata": {},
   "outputs": [
    {
     "data": {
      "text/plain": [
       "2237358"
      ]
     },
     "execution_count": 49,
     "metadata": {},
     "output_type": "execute_result"
    }
   ],
   "source": [
    "transactions_cash_out_partners.shape[0]"
   ]
  },
  {
   "cell_type": "markdown",
   "metadata": {},
   "source": [
    "Ok, we identified a total volume of 2,237,358 unique business partner relationships. To gain an even more in depth intuition let's review the first 10 rows of the obtained aggregation result:"
   ]
  },
  {
   "cell_type": "code",
   "execution_count": 50,
   "metadata": {},
   "outputs": [
    {
     "data": {
      "text/html": [
       "<div>\n",
       "<style scoped>\n",
       "    .dataframe tbody tr th:only-of-type {\n",
       "        vertical-align: middle;\n",
       "    }\n",
       "\n",
       "    .dataframe tbody tr th {\n",
       "        vertical-align: top;\n",
       "    }\n",
       "\n",
       "    .dataframe thead th {\n",
       "        text-align: right;\n",
       "    }\n",
       "</style>\n",
       "<table border=\"1\" class=\"dataframe\">\n",
       "  <thead>\n",
       "    <tr style=\"text-align: right;\">\n",
       "      <th></th>\n",
       "      <th>nameOrig</th>\n",
       "      <th>nameDest</th>\n",
       "      <th>amount</th>\n",
       "      <th>newbalanceOrig</th>\n",
       "      <th>oldbalanceOrg</th>\n",
       "    </tr>\n",
       "  </thead>\n",
       "  <tbody>\n",
       "    <tr>\n",
       "      <th>0</th>\n",
       "      <td>C1000000639</td>\n",
       "      <td>C785826240</td>\n",
       "      <td>244486.46</td>\n",
       "      <td>0.00</td>\n",
       "      <td>8946.00</td>\n",
       "    </tr>\n",
       "    <tr>\n",
       "      <th>1</th>\n",
       "      <td>C1000004053</td>\n",
       "      <td>C1128041097</td>\n",
       "      <td>211189.64</td>\n",
       "      <td>0.00</td>\n",
       "      <td>0.00</td>\n",
       "    </tr>\n",
       "    <tr>\n",
       "      <th>2</th>\n",
       "      <td>C1000004530</td>\n",
       "      <td>C1643839147</td>\n",
       "      <td>93865.13</td>\n",
       "      <td>257557.59</td>\n",
       "      <td>351422.72</td>\n",
       "    </tr>\n",
       "    <tr>\n",
       "      <th>3</th>\n",
       "      <td>C1000005555</td>\n",
       "      <td>C1091802600</td>\n",
       "      <td>233109.79</td>\n",
       "      <td>0.00</td>\n",
       "      <td>20623.00</td>\n",
       "    </tr>\n",
       "    <tr>\n",
       "      <th>4</th>\n",
       "      <td>C1000008393</td>\n",
       "      <td>C615558732</td>\n",
       "      <td>58347.84</td>\n",
       "      <td>0.00</td>\n",
       "      <td>10794.00</td>\n",
       "    </tr>\n",
       "    <tr>\n",
       "      <th>5</th>\n",
       "      <td>C1000008582</td>\n",
       "      <td>C1462566442</td>\n",
       "      <td>315626.96</td>\n",
       "      <td>0.00</td>\n",
       "      <td>0.00</td>\n",
       "    </tr>\n",
       "    <tr>\n",
       "      <th>6</th>\n",
       "      <td>C1000008975</td>\n",
       "      <td>C1919178439</td>\n",
       "      <td>29144.26</td>\n",
       "      <td>0.00</td>\n",
       "      <td>0.00</td>\n",
       "    </tr>\n",
       "    <tr>\n",
       "      <th>7</th>\n",
       "      <td>C100001139</td>\n",
       "      <td>C354792404</td>\n",
       "      <td>375996.13</td>\n",
       "      <td>0.00</td>\n",
       "      <td>9976.00</td>\n",
       "    </tr>\n",
       "    <tr>\n",
       "      <th>8</th>\n",
       "      <td>C1000012640</td>\n",
       "      <td>C1239707538</td>\n",
       "      <td>367527.28</td>\n",
       "      <td>0.00</td>\n",
       "      <td>0.00</td>\n",
       "    </tr>\n",
       "    <tr>\n",
       "      <th>9</th>\n",
       "      <td>C1000013879</td>\n",
       "      <td>C1234389323</td>\n",
       "      <td>516459.01</td>\n",
       "      <td>0.00</td>\n",
       "      <td>153435.60</td>\n",
       "    </tr>\n",
       "  </tbody>\n",
       "</table>\n",
       "</div>"
      ],
      "text/plain": [
       "      nameOrig     nameDest     amount  newbalanceOrig  oldbalanceOrg\n",
       "0  C1000000639   C785826240  244486.46            0.00        8946.00\n",
       "1  C1000004053  C1128041097  211189.64            0.00           0.00\n",
       "2  C1000004530  C1643839147   93865.13       257557.59      351422.72\n",
       "3  C1000005555  C1091802600  233109.79            0.00       20623.00\n",
       "4  C1000008393   C615558732   58347.84            0.00       10794.00\n",
       "5  C1000008582  C1462566442  315626.96            0.00           0.00\n",
       "6  C1000008975  C1919178439   29144.26            0.00           0.00\n",
       "7   C100001139   C354792404  375996.13            0.00        9976.00\n",
       "8  C1000012640  C1239707538  367527.28            0.00           0.00\n",
       "9  C1000013879  C1234389323  516459.01            0.00      153435.60"
      ]
     },
     "execution_count": 50,
     "metadata": {},
     "output_type": "execute_result"
    }
   ],
   "source": [
    "transactions_cash_out_partners.head(10)"
   ]
  },
  {
   "cell_type": "markdown",
   "metadata": {},
   "source": [
    "To identify business partner relations that correspond to high processed amounts, we will sort the aggregation according to the amount in descending order. Therefore, we will use the `sort_values` function of the `Pandas` library:"
   ]
  },
  {
   "cell_type": "code",
   "execution_count": 51,
   "metadata": {},
   "outputs": [],
   "source": [
    "transactions_cash_out_partners_sorted = transactions_cash_out_partners.sort_values(by=['amount'], ascending=False)"
   ]
  },
  {
   "cell_type": "markdown",
   "metadata": {},
   "source": [
    "Let's now review the top 10 business partner relationships that correspond to the highest transfered amounts:"
   ]
  },
  {
   "cell_type": "code",
   "execution_count": 52,
   "metadata": {},
   "outputs": [
    {
     "data": {
      "text/html": [
       "<div>\n",
       "<style scoped>\n",
       "    .dataframe tbody tr th:only-of-type {\n",
       "        vertical-align: middle;\n",
       "    }\n",
       "\n",
       "    .dataframe tbody tr th {\n",
       "        vertical-align: top;\n",
       "    }\n",
       "\n",
       "    .dataframe thead th {\n",
       "        text-align: right;\n",
       "    }\n",
       "</style>\n",
       "<table border=\"1\" class=\"dataframe\">\n",
       "  <thead>\n",
       "    <tr style=\"text-align: right;\">\n",
       "      <th></th>\n",
       "      <th>nameOrig</th>\n",
       "      <th>nameDest</th>\n",
       "      <th>amount</th>\n",
       "      <th>newbalanceOrig</th>\n",
       "      <th>oldbalanceOrg</th>\n",
       "    </tr>\n",
       "  </thead>\n",
       "  <tbody>\n",
       "    <tr>\n",
       "      <th>2107053</th>\n",
       "      <td>C887830623</td>\n",
       "      <td>C1319987164</td>\n",
       "      <td>9996886.64</td>\n",
       "      <td>0.0</td>\n",
       "      <td>9996886.64</td>\n",
       "    </tr>\n",
       "    <tr>\n",
       "      <th>2052842</th>\n",
       "      <td>C840795008</td>\n",
       "      <td>C1214752539</td>\n",
       "      <td>9977761.05</td>\n",
       "      <td>0.0</td>\n",
       "      <td>9977761.05</td>\n",
       "    </tr>\n",
       "    <tr>\n",
       "      <th>48434</th>\n",
       "      <td>C1041938819</td>\n",
       "      <td>C1108421533</td>\n",
       "      <td>9960382.40</td>\n",
       "      <td>0.0</td>\n",
       "      <td>9960382.40</td>\n",
       "    </tr>\n",
       "    <tr>\n",
       "      <th>82585</th>\n",
       "      <td>C1071702423</td>\n",
       "      <td>C28783325</td>\n",
       "      <td>9887819.06</td>\n",
       "      <td>0.0</td>\n",
       "      <td>9887819.06</td>\n",
       "    </tr>\n",
       "    <tr>\n",
       "      <th>2106872</th>\n",
       "      <td>C887693253</td>\n",
       "      <td>C1459698370</td>\n",
       "      <td>9811104.49</td>\n",
       "      <td>0.0</td>\n",
       "      <td>9811104.49</td>\n",
       "    </tr>\n",
       "    <tr>\n",
       "      <th>690984</th>\n",
       "      <td>C1597398625</td>\n",
       "      <td>C1830194909</td>\n",
       "      <td>9772559.35</td>\n",
       "      <td>0.0</td>\n",
       "      <td>9772559.35</td>\n",
       "    </tr>\n",
       "    <tr>\n",
       "      <th>161281</th>\n",
       "      <td>C1139926828</td>\n",
       "      <td>C1698433621</td>\n",
       "      <td>9749042.95</td>\n",
       "      <td>0.0</td>\n",
       "      <td>9749042.95</td>\n",
       "    </tr>\n",
       "    <tr>\n",
       "      <th>1996404</th>\n",
       "      <td>C792281006</td>\n",
       "      <td>C416165291</td>\n",
       "      <td>9725837.08</td>\n",
       "      <td>0.0</td>\n",
       "      <td>9725837.08</td>\n",
       "    </tr>\n",
       "    <tr>\n",
       "      <th>1727645</th>\n",
       "      <td>C560583390</td>\n",
       "      <td>C1975522590</td>\n",
       "      <td>9639524.70</td>\n",
       "      <td>0.0</td>\n",
       "      <td>9639524.70</td>\n",
       "    </tr>\n",
       "    <tr>\n",
       "      <th>522992</th>\n",
       "      <td>C1452214555</td>\n",
       "      <td>C1584664836</td>\n",
       "      <td>9639052.83</td>\n",
       "      <td>0.0</td>\n",
       "      <td>9639052.83</td>\n",
       "    </tr>\n",
       "  </tbody>\n",
       "</table>\n",
       "</div>"
      ],
      "text/plain": [
       "            nameOrig     nameDest      amount  newbalanceOrig  oldbalanceOrg\n",
       "2107053   C887830623  C1319987164  9996886.64             0.0     9996886.64\n",
       "2052842   C840795008  C1214752539  9977761.05             0.0     9977761.05\n",
       "48434    C1041938819  C1108421533  9960382.40             0.0     9960382.40\n",
       "82585    C1071702423    C28783325  9887819.06             0.0     9887819.06\n",
       "2106872   C887693253  C1459698370  9811104.49             0.0     9811104.49\n",
       "690984   C1597398625  C1830194909  9772559.35             0.0     9772559.35\n",
       "161281   C1139926828  C1698433621  9749042.95             0.0     9749042.95\n",
       "1996404   C792281006   C416165291  9725837.08             0.0     9725837.08\n",
       "1727645   C560583390  C1975522590  9639524.70             0.0     9639524.70\n",
       "522992   C1452214555  C1584664836  9639052.83             0.0     9639052.83"
      ]
     },
     "execution_count": 52,
     "metadata": {},
     "output_type": "execute_result"
    }
   ],
   "source": [
    "transactions_cash_out_partners_sorted.head(10)"
   ]
  },
  {
   "cell_type": "markdown",
   "metadata": {},
   "source": [
    "Let's also inspect the distribution of the unique business partner relationship amounts:"
   ]
  },
  {
   "cell_type": "code",
   "execution_count": 53,
   "metadata": {},
   "outputs": [
    {
     "data": {
      "image/png": "[encoded data removed]",
      "text/plain": [
       "<Figure size 432x288 with 1 Axes>"
      ]
     },
     "metadata": {
      "needs_background": "light"
     },
     "output_type": "display_data"
    }
   ],
   "source": [
    "# initialize the plot\n",
    "fig, ax = plt.subplots()\n",
    "\n",
    "# plot the scatter plot of all cash out posting amounts\n",
    "plt.hist(transactions_cash_out_partners[transactions_cash_out_partners[\"amount\"] > 1000000][\"amount\"], color=\"green\", alpha=0.5, label=\"Cash-Out\", bins=40)\n",
    "\n",
    "# add labels of the x- and y-axis\n",
    "plt.ylabel(\"[Business Partner Relationship Count]\", fontsize=12)\n",
    "plt.xlabel(\"[Transaction Amount]\", fontsize=12)\n",
    "\n",
    "# format y-axis tick labels\n",
    "ax.ticklabel_format(style='plain')\n",
    "\n",
    "# rotate x-axis tick labels\n",
    "plt.xticks(rotation=45)\n",
    "\n",
    "# add plot legend\n",
    "plt.legend(loc=\"upper right\", frameon=True)\n",
    "\n",
    "# add plot title\n",
    "plt.title(\"Distribution of Business Partner Relationship Transaction Amounts\", fontsize=12);"
   ]
  },
  {
   "cell_type": "markdown",
   "metadata": {},
   "source": [
    "Let's apply a filter to determine all unique business partner relationships that correspond to a total transaction volume **equal or exceeding an amount value of 8 Mio.** in local currency:"
   ]
  },
  {
   "cell_type": "code",
   "execution_count": 54,
   "metadata": {},
   "outputs": [],
   "source": [
    "# define the amount threshold\n",
    "threshold = 8000000\n",
    "\n",
    "# filter the business partner relationships according to the amount threshold \n",
    "transactions_cash_out_partners_filtered = transactions_cash_out_partners[transactions_cash_out_partners[\"amount\"] > 8000000]"
   ]
  },
  {
   "cell_type": "markdown",
   "metadata": {},
   "source": [
    "Create a pivot table and visualize the filtered business partner relationships:"
   ]
  },
  {
   "cell_type": "code",
   "execution_count": 55,
   "metadata": {},
   "outputs": [
    {
     "data": {
      "image/png": "[encoded data removed]",
      "text/plain": [
       "<Figure size 1296x1080 with 2 Axes>"
      ]
     },
     "metadata": {
      "needs_background": "light"
     },
     "output_type": "display_data"
    }
   ],
   "source": [
    "plt.rcParams['figure.figsize'] = [18, 15] # set the plot figure size\n",
    "\n",
    "# initialize the plot\n",
    "fig, ax = plt.subplots()\n",
    "\n",
    "# create pivot table of business partner relationships\n",
    "pivot = pd.pivot_table(transactions_cash_out_partners_filtered, values='amount', index='nameOrig', columns='nameDest', aggfunc=np.sum, fill_value=0)\n",
    "\n",
    "# plot the pivot table as seaborn heatmap\n",
    "sns.heatmap(pivot, square=False, annot=False, cbar=True, cmap='BuGn_r', alpha=0.8)\n",
    "\n",
    "# add labels of the x- and y-axis\n",
    "plt.ylabel(\"[nameOrig]\", fontsize=12)\n",
    "plt.xlabel(\"[nameDest]\", fontsize=12)\n",
    "\n",
    "# add plot title\n",
    "plt.title(\"Pivot Table - Business Partner Relationship Transaction Amounts\", fontsize=12);"
   ]
  },
  {
   "cell_type": "markdown",
   "metadata": {},
   "source": [
    "Filter for all \"CASH_OUT\" transactions corresponding to the business partner relationship `nameOrig`: \"C887830623\" and `nameDest`: \"C1319987164\":"
   ]
  },
  {
   "cell_type": "code",
   "execution_count": 56,
   "metadata": {},
   "outputs": [],
   "source": [
    "transactions_cash_out_partners_A = transactions_cash_out[(transactions_cash_out['nameOrig'] == 'C887830623') & (transactions_cash_out['nameDest'] == 'C1319987164')]"
   ]
  },
  {
   "cell_type": "markdown",
   "metadata": {},
   "source": [
    "Inspection of extracted business partner relationship \"CASH_OUT\" transactions:"
   ]
  },
  {
   "cell_type": "code",
   "execution_count": 57,
   "metadata": {},
   "outputs": [
    {
     "data": {
      "text/html": [
       "<div>\n",
       "<style scoped>\n",
       "    .dataframe tbody tr th:only-of-type {\n",
       "        vertical-align: middle;\n",
       "    }\n",
       "\n",
       "    .dataframe tbody tr th {\n",
       "        vertical-align: top;\n",
       "    }\n",
       "\n",
       "    .dataframe thead th {\n",
       "        text-align: right;\n",
       "    }\n",
       "</style>\n",
       "<table border=\"1\" class=\"dataframe\">\n",
       "  <thead>\n",
       "    <tr style=\"text-align: right;\">\n",
       "      <th></th>\n",
       "      <th>AUDIT_ID</th>\n",
       "      <th>step</th>\n",
       "      <th>type</th>\n",
       "      <th>amount</th>\n",
       "      <th>nameOrig</th>\n",
       "      <th>oldbalanceOrg</th>\n",
       "      <th>newbalanceOrig</th>\n",
       "      <th>nameDest</th>\n",
       "      <th>oldbalanceDest</th>\n",
       "      <th>newbalanceDest</th>\n",
       "      <th>isFraud</th>\n",
       "      <th>isFlaggedFraud</th>\n",
       "    </tr>\n",
       "  </thead>\n",
       "  <tbody>\n",
       "    <tr>\n",
       "      <th>2736129</th>\n",
       "      <td>ACA_ID_2736129</td>\n",
       "      <td>651</td>\n",
       "      <td>CASH_OUT</td>\n",
       "      <td>9996886.64</td>\n",
       "      <td>C887830623</td>\n",
       "      <td>9996886.64</td>\n",
       "      <td>0.0</td>\n",
       "      <td>C1319987164</td>\n",
       "      <td>20429.76</td>\n",
       "      <td>10017316.4</td>\n",
       "      <td>yes</td>\n",
       "      <td>0</td>\n",
       "    </tr>\n",
       "  </tbody>\n",
       "</table>\n",
       "</div>"
      ],
      "text/plain": [
       "               AUDIT_ID  step      type      amount    nameOrig  \\\n",
       "2736129  ACA_ID_2736129   651  CASH_OUT  9996886.64  C887830623   \n",
       "\n",
       "         oldbalanceOrg  newbalanceOrig     nameDest  oldbalanceDest  \\\n",
       "2736129     9996886.64             0.0  C1319987164        20429.76   \n",
       "\n",
       "         newbalanceDest isFraud  isFlaggedFraud  \n",
       "2736129      10017316.4     yes               0  "
      ]
     },
     "execution_count": 57,
     "metadata": {},
     "output_type": "execute_result"
    }
   ],
   "source": [
    "transactions_cash_out_partners_A"
   ]
  },
  {
   "cell_type": "markdown",
   "metadata": {},
   "source": [
    "Filter for all \"CASH_OUT\" transactions corresponding to the business partner relationship `nameOrig`: \"C840795008\" and `nameDest`: \"C1319987164\":"
   ]
  },
  {
   "cell_type": "code",
   "execution_count": 58,
   "metadata": {},
   "outputs": [],
   "source": [
    "transactions_cash_out_partners_B = transactions_cash_out[(transactions_cash_out['nameOrig'] == 'C840795008') & (transactions_cash_out['nameDest'] == 'C1214752539')]"
   ]
  },
  {
   "cell_type": "markdown",
   "metadata": {},
   "source": [
    "Inspection of extracted business partner relationship \"CASH_OUT\" transactions:"
   ]
  },
  {
   "cell_type": "code",
   "execution_count": 59,
   "metadata": {},
   "outputs": [
    {
     "data": {
      "text/html": [
       "<div>\n",
       "<style scoped>\n",
       "    .dataframe tbody tr th:only-of-type {\n",
       "        vertical-align: middle;\n",
       "    }\n",
       "\n",
       "    .dataframe tbody tr th {\n",
       "        vertical-align: top;\n",
       "    }\n",
       "\n",
       "    .dataframe thead th {\n",
       "        text-align: right;\n",
       "    }\n",
       "</style>\n",
       "<table border=\"1\" class=\"dataframe\">\n",
       "  <thead>\n",
       "    <tr style=\"text-align: right;\">\n",
       "      <th></th>\n",
       "      <th>AUDIT_ID</th>\n",
       "      <th>step</th>\n",
       "      <th>type</th>\n",
       "      <th>amount</th>\n",
       "      <th>nameOrig</th>\n",
       "      <th>oldbalanceOrg</th>\n",
       "      <th>newbalanceOrig</th>\n",
       "      <th>nameDest</th>\n",
       "      <th>oldbalanceDest</th>\n",
       "      <th>newbalanceDest</th>\n",
       "      <th>isFraud</th>\n",
       "      <th>isFlaggedFraud</th>\n",
       "    </tr>\n",
       "  </thead>\n",
       "  <tbody>\n",
       "    <tr>\n",
       "      <th>446855</th>\n",
       "      <td>ACA_ID_0446855</td>\n",
       "      <td>46</td>\n",
       "      <td>CASH_OUT</td>\n",
       "      <td>9977761.05</td>\n",
       "      <td>C840795008</td>\n",
       "      <td>9977761.05</td>\n",
       "      <td>0.0</td>\n",
       "      <td>C1214752539</td>\n",
       "      <td>0.0</td>\n",
       "      <td>9977761.05</td>\n",
       "      <td>yes</td>\n",
       "      <td>0</td>\n",
       "    </tr>\n",
       "  </tbody>\n",
       "</table>\n",
       "</div>"
      ],
      "text/plain": [
       "              AUDIT_ID  step      type      amount    nameOrig  oldbalanceOrg  \\\n",
       "446855  ACA_ID_0446855    46  CASH_OUT  9977761.05  C840795008     9977761.05   \n",
       "\n",
       "        newbalanceOrig     nameDest  oldbalanceDest  newbalanceDest isFraud  \\\n",
       "446855             0.0  C1214752539             0.0      9977761.05     yes   \n",
       "\n",
       "        isFlaggedFraud  \n",
       "446855               0  "
      ]
     },
     "execution_count": 59,
     "metadata": {},
     "output_type": "execute_result"
    }
   ],
   "source": [
    "transactions_cash_out_partners_B"
   ]
  },
  {
   "cell_type": "markdown",
   "metadata": {},
   "source": [
    "Concatenation of the extracted transactions into a single dataframe using the `concat` function of the `Pandas` library:"
   ]
  },
  {
   "cell_type": "code",
   "execution_count": 60,
   "metadata": {},
   "outputs": [],
   "source": [
    "transactions_cash_out_partners_all = pd.concat([transactions_cash_out_partners_A, transactions_cash_out_partners_B], axis=0)"
   ]
  },
  {
   "cell_type": "markdown",
   "metadata": {},
   "source": [
    "Finally let's extract the filtered transactions into an excel spreadsheet for a further sample based testing by the audit team. Therefore, we will in a first step create a time stamp of the data extract for audit trail purposes:"
   ]
  },
  {
   "cell_type": "code",
   "execution_count": 61,
   "metadata": {},
   "outputs": [],
   "source": [
    "timestamp = dt.datetime.utcnow().strftime(\"%Y-%m-%d_%H-%M-%S\")"
   ]
  },
  {
   "cell_type": "markdown",
   "metadata": {},
   "source": [
    "Finally, we extract the filtered transactions to excel to the local filesystem:"
   ]
  },
  {
   "cell_type": "code",
   "execution_count": 62,
   "metadata": {},
   "outputs": [],
   "source": [
    "# specify the filename of the excel spreadsheet\n",
    "filename = str(timestamp) + \" - ACA_002_analysis_result_business_partner_amounts.xlsx\"\n",
    "\n",
    "# specify the target data directory of the excel spreadsheet\n",
    "data_directory = os.path.join('./03_results', filename)\n",
    "\n",
    "# extract the filtered transactions to excel\n",
    "transactions_cash_out_partners_all.to_excel(data_directory, header=True, index=False, sheet_name=\"Business_Partner_Amounts\", encoding=\"utf-8\")"
   ]
  },
  {
   "cell_type": "markdown",
   "metadata": {},
   "source": [
    "### Lab Assignments:"
   ]
  },
  {
   "cell_type": "markdown",
   "metadata": {},
   "source": [
    "We recommend you to try the following exercises as part of the lab:\n",
    "\n",
    "**1. Analyze the \"TRANSFER\" transactions with regard to transactions with an unusually high amount volume.**\n",
    "\n",
    "> Analyze the 532,909 \"TRANSFER\" transactions extracted during the data validation with regard to transactions with an unusually high amount volume. For this, please follow the procedure presented in chapter 4.1. of the notebook. Extract your analysis results into separate CSV file for a downstream individual case-by-case review, if necessary."
   ]
  },
  {
   "cell_type": "code",
   "execution_count": 63,
   "metadata": {},
   "outputs": [],
   "source": [
    "# ***************************************************\n",
    "# INSERT YOUR CODE SOLUTION HERE\n",
    "# ***************************************************"
   ]
  },
  {
   "cell_type": "markdown",
   "metadata": {},
   "source": [
    "**2. Analyze the \"TRANSFER\" transactions with regard to relationships between counterparties with an unusually high amount volume.**\n",
    "\n",
    "> Analyze the 532,909 \"TRANSFER\" transactions extracted during the data validation process with regard to relationships between counterparties with an unusually high volume. For this, please follow the procedure presented in chapter 4.2. of the notebook. Extract your analysis results into separate CSV file for a downstream individual case-by-case review, if necessary."
   ]
  },
  {
   "cell_type": "code",
   "execution_count": 64,
   "metadata": {},
   "outputs": [],
   "source": [
    "# ***************************************************\n",
    "# INSERT YOUR CODE SOLUTION HERE\n",
    "# ***************************************************"
   ]
  },
  {
   "cell_type": "markdown",
   "metadata": {},
   "source": [
    "### Lab Summary:"
   ]
  },
  {
   "cell_type": "markdown",
   "metadata": {},
   "source": [
    "In this lab, a step-by-step introduction to rule-based or \"red-flag\" audit data analysis was presented. In particular, the sub-steps **(1) data import**, **(2) data validation**, **(3) data preparation** and **(4) data analysis** were covered. The structure and analyses presented in this lab can be the starting point for more complex and customized analyses."
   ]
  },
  {
   "cell_type": "markdown",
   "metadata": {},
   "source": [
    "You may want to execute the content of your lab outside of the Jupyter notebook environment, e.g. on a compute node or a server. The cell below converts the lab notebook into a standalone and executable python script. Pls. note that to convert the notebook, you need to install Python's `NBConvert` library and its extensions:"
   ]
  },
  {
   "cell_type": "code",
   "execution_count": 65,
   "metadata": {},
   "outputs": [],
   "source": [
    "# installing the nbconvert library (uncomment the following statements if needed)\n",
    "# !pip3 install nbconvert\n",
    "# !pip3 install jupyter_contrib_nbextensions"
   ]
  },
  {
   "cell_type": "markdown",
   "metadata": {},
   "source": [
    "Let's now convert the Jupyter notebook into a plain Python script:"
   ]
  },
  {
   "cell_type": "code",
   "execution_count": 66,
   "metadata": {},
   "outputs": [
    {
     "name": "stdout",
     "output_type": "stream",
     "text": [
      "[NbConvertApp] Converting notebook aca_lab01.ipynb to script\n",
      "[NbConvertApp] Writing 34539 bytes to aca_lab01.py\n"
     ]
    }
   ],
   "source": [
    "!jupyter nbconvert --to script aca_lab01.ipynb"
   ]
  }
 ],
 "metadata": {
  "kernelspec": {
   "display_name": "Python 3",
   "language": "python",
   "name": "python3"
  },
  "language_info": {
   "codemirror_mode": {
    "name": "ipython",
    "version": 3
   },
   "file_extension": ".py",
   "mimetype": "text/x-python",
   "name": "python",
   "nbconvert_exporter": "python",
   "pygments_lexer": "ipython3",
   "version": "3.8.5"
  },
  "toc": {
   "base_numbering": 1,
   "nav_menu": {},
   "number_sections": false,
   "sideBar": true,
   "skip_h1_title": false,
   "title_cell": "Table of Contents",
   "title_sidebar": "Contents",
   "toc_cell": false,
   "toc_position": {},
   "toc_section_display": true,
   "toc_window_display": false
  }
 },
 "nbformat": 4,
 "nbformat_minor": 2
}
