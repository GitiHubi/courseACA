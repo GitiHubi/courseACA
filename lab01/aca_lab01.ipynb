{
 "cells": [
  {
   "cell_type": "markdown",
   "metadata": {},
   "source": [
    "<img align=\"right\" style=\"max-width: 200px; height: auto\" src=\"./assets/logo.png\">\n",
    "\n",
    "## Lab 01- Jupyter Notebook und Python\n",
    "\n",
    "Lehrgang Internal Auditing, Universität St.Gallen (HSG), 2023"
   ]
  },
  {
   "cell_type": "markdown",
   "metadata": {},
   "source": [
    "Die Analysen des Seminars **Lehrgangs Internal Auditing** basieren auf Jupyter Notebook (https://jupyter.org). Anhand solcher Notebooks ist es möglich eine Vielzahl von Datenanalysen und statistischen Validierungen durchzuführen. "
   ]
  },
  {
   "cell_type": "markdown",
   "metadata": {},
   "source": [
    "<img align=\"center\" style=\"max-width: 700px\" src=\"./assets/banner.png\">"
   ]
  },
  {
   "cell_type": "markdown",
   "metadata": {},
   "source": [
    "In diesem ersten vorbereitenden Notebook möchten wir einige der **grundlegenden Python-Konzepte** und die **allgemeine Verwendung** solcher Notebooks behandeln. Um dieses Ziel zu erreichen, werden wir gemeinsam einige einführende Beispiele ausprobieren. \n",
    "\n",
    "Im Zweifelsfall oder bei Fragen wenden Sie sich, wie immer gerne an uns via **marco (dot) schreyer (at) unisg (dot) ch**. Wir wünschen Ihnen Viel Freude mit unseren Notebooks und Ihren forensischen Analysen!"
   ]
  },
  {
   "cell_type": "markdown",
   "metadata": {},
   "source": [
    "## Lernziele des Labs:"
   ]
  },
  {
   "cell_type": "markdown",
   "metadata": {},
   "source": [
    "Nach der heutigen Übung sollten Sie in der Lage sein:\n",
    "    \n",
    "> 1. Den allgemeinen Arbeitsablauf, die Struktur und die Funktionalität von **Jupyter**-Notebook zu nachzuvollziehen.\n",
    "> 2. Pythonbasierte Data-Science-Bibliotheken wie **NumPy** und **Pandas** zu importieren und anzuwenden. \n",
    "> 3. Die Programmiersprache **Python** zur Manipulation und Analyse von strukturierten Daten einzusetzen.\n",
    "> 4. Beliebige Börsen- und Finanzdaten mit Hilfe der **DataReader** Bibliothek zu importieren.\n",
    "> 5. Die **Matplotlib** Bibliothek zur Visualisierung von Daten und analytischen Ergebnissen zu verwenden."
   ]
  },
  {
   "cell_type": "markdown",
   "metadata": {},
   "source": [
    "### 1. Jupyter Notebook Einführung"
   ]
  },
  {
   "cell_type": "markdown",
   "metadata": {},
   "source": [
    "#### 1.1 Code Zellen und Text Zellen"
   ]
  },
  {
   "cell_type": "markdown",
   "metadata": {},
   "source": [
    "Jupyter-Notebooks bestehen aus zwei Haupttypen von Zellen: **(1) Codezellen** und **(2) Textzellen** (letztere werden auch als \"Markdown\"-Zellen bezeichnet). Codezellen werden verwendet, um Code oder Befehle in der Programmiersprache Python auszuführen. Textzellen werden verwendet, um die ausgeführten Befehle oder durchgeführten Analysen zu dokumentieren oder zu beschreiben. Jede Zelle eines Notizbuchs kann entweder eine Codezelle oder eine Textzelle darstellen. Um zwischen den beiden Zelltypen zu wählen, wählen Sie aus dem obigen Dropdown-Menü **Cell** und **Cell Type**.\n",
    "\n",
    "Schauen wir uns nun ein kurzes Beispiel für jeden Zellentyp an:"
   ]
  },
  {
   "cell_type": "markdown",
   "metadata": {},
   "source": [
    "Hello World!"
   ]
  },
  {
   "cell_type": "code",
   "execution_count": null,
   "metadata": {},
   "outputs": [],
   "source": [
    "1 + 2"
   ]
  },
  {
   "cell_type": "markdown",
   "metadata": {},
   "source": [
    "#### 1.2 Ausführen einer Codezelle"
   ]
  },
  {
   "cell_type": "markdown",
   "metadata": {},
   "source": [
    "Eine **Codezelle** wird ausgeführt, wenn Sie im obigen Menü **'Run'** oder die Tastenkombination **Umschalt-Eingabe** betätigen. Bei der Auswertung einer Zelle werden die einzelnen Codezeilen der Reihe nach ausgewertet und das Ergebnis der letzten Codezeile unterhalb der Zelle ausgegeben:"
   ]
  },
  {
   "cell_type": "code",
   "execution_count": null,
   "metadata": {},
   "outputs": [],
   "source": [
    "40 + 2"
   ]
  },
  {
   "cell_type": "markdown",
   "metadata": {},
   "source": [
    "Manchmal wird jedoch kein Ergebnis ausgeben, wie im Fall der folgenden Zuordnung:"
   ]
  },
  {
   "cell_type": "code",
   "execution_count": null,
   "metadata": {},
   "outputs": [],
   "source": [
    "X = 5"
   ]
  },
  {
   "cell_type": "code",
   "execution_count": null,
   "metadata": {},
   "outputs": [],
   "source": [
    "X"
   ]
  },
  {
   "cell_type": "markdown",
   "metadata": {},
   "source": [
    "Beachten Sie, dass nur das Ergebnis der letzten Zeile ausgeben wird:"
   ]
  },
  {
   "cell_type": "code",
   "execution_count": null,
   "metadata": {},
   "outputs": [],
   "source": [
    "2 + 2\n",
    "3 + 9"
   ]
  },
  {
   "cell_type": "markdown",
   "metadata": {},
   "source": [
    "Sie können jedoch jede beliebige Zeile durch den Python Befehl `print` ausdrucken:"
   ]
  },
  {
   "cell_type": "code",
   "execution_count": null,
   "metadata": {},
   "outputs": [],
   "source": [
    "print(2 + 2)\n",
    "3 + 3"
   ]
  },
  {
   "cell_type": "markdown",
   "metadata": {},
   "source": [
    "#### 1.3 Kommentieren einer Codezelle\n",
    "\n",
    "Das Zeichen **'#'** hat in Python eine besondere Bedeutung. Wann immer es auftaucht, werden alle folgenden Zeichen in derselben Zeile als Kommentare betrachtet und im Rahmen der Ausführung ignoriert. Sie können Kommentare beispielsweise dazu verwenden, um zu erklären, was bestimmte Teile Ihres programmierten Codes tun:"
   ]
  },
  {
   "cell_type": "code",
   "execution_count": null,
   "metadata": {},
   "outputs": [],
   "source": [
    "# das ist ein Kommentar"
   ]
  },
  {
   "cell_type": "code",
   "execution_count": null,
   "metadata": {},
   "outputs": [],
   "source": [
    "print(1) # Kommentare können in der gleichen Zeile wie der Code stehen"
   ]
  },
  {
   "cell_type": "markdown",
   "metadata": {},
   "source": [
    "#### 1.4 Zustand einer Codezelle"
   ]
  },
  {
   "cell_type": "markdown",
   "metadata": {},
   "source": [
    "Während des Ausführens einer Zelle, wird das Symbol **[*]** innerhalb der beiden eckigen Klammern links von der jeweiligen Zelle angezeigt. Sofern eine Zelle innerhalb des Notebooks noch nicht ausgeführt wurde, wird dies durch das Symbol **[ ]** symbolisiert. Nach Ausführung einer Zelle wird das Symbol um eine Zahl ergänzt, welche die Ausführungsreihenfolge **[5]** der Codezellen eines Notebooks symbolisiert. Um dies zu verdeutlichen, führen Sie die nachfolgende Codezelle aus und beobachten Sie die Veränderung innerhalb der eckigen Klammern:"
   ]
  },
  {
   "cell_type": "code",
   "execution_count": null,
   "metadata": {},
   "outputs": [],
   "source": [
    "# zeitlich andauernde Berechnung\n",
    "c = 0\n",
    "for i in range(10000000):\n",
    "    c = c + i\n",
    "c"
   ]
  },
  {
   "cell_type": "markdown",
   "metadata": {},
   "source": [
    "### 2. Importieren von Python-Bibliotheken"
   ]
  },
  {
   "cell_type": "markdown",
   "metadata": {},
   "source": [
    "In den meisten Fällen werden wir Funktionen aus vorgefertigten Bibliotheken verwenden, wie z.B.:"
   ]
  },
  {
   "cell_type": "code",
   "execution_count": null,
   "metadata": {},
   "outputs": [],
   "source": [
    "# importieren der Python sys bibliothek\n",
    "import sys"
   ]
  },
  {
   "cell_type": "markdown",
   "metadata": {},
   "source": [
    "Sie können sich anhand der `Sys` Bibliothek z.B. die durch das Notebook verwendete Version der Python-Programmiersprache ausgeben, indem Sie den nachfolgenden Befehl ausführen:"
   ]
  },
  {
   "cell_type": "code",
   "execution_count": null,
   "metadata": {},
   "outputs": [],
   "source": [
    "# ausgabe der verwendeten Python version\n",
    "sys.version"
   ]
  },
  {
   "cell_type": "markdown",
   "metadata": {},
   "source": [
    "Aus Sicherheitsgründen kann nicht jede Bibliothek in die Notebookumgebung importiert werden. Sie können jedoch die meisten der gängigen Bibliotheken importieren. Nachfolgend importieren wir die Bibliotheken `NumPy` (https://www.numpy.org) und `Pandas` (https://pandas.pydata.org), zwei der am häufigsten verwendeten Bibliotheken in der Forensischen Datenanalyse. Wir empfehlen, diese Importanweisung einfach für jedes neue Notebook, das Sie erstellen, zu kopieren:"
   ]
  },
  {
   "cell_type": "code",
   "execution_count": null,
   "metadata": {},
   "outputs": [],
   "source": [
    "# importieren der NumpPy and Pandas data science bibliotheken\n",
    "import numpy\n",
    "import pandas"
   ]
  },
  {
   "cell_type": "markdown",
   "metadata": {},
   "source": [
    "Lassen Sie uns nun die Bibliothek `NumPy` verwenden, um den Mittelwert einer Liste von Zahlen zu berechnen:"
   ]
  },
  {
   "cell_type": "code",
   "execution_count": null,
   "metadata": {},
   "outputs": [],
   "source": [
    "numpy.mean([1, 2, 3, 4])"
   ]
  },
  {
   "cell_type": "markdown",
   "metadata": {},
   "source": [
    "Beachten Sie, dass Sie Bibliotheken nach dem Importieren einen beliebigen Namen zuweisen können. Dies ist anhand der `as`-Anweisung möglich. Nachfolgend benutzen wir `np` und `pd` als **Alias** für die beiden importierten Bibliotheken `NumPy` und `Pandas`. Dies ist ein sehr gebräuchliches **Aliasing** und wird in den meisten Codebeispielen im Web zu finden sein. Die Idee dahinter ist, dass weniger Zeichen eingeben werden müssen, wenn die Bibliotheken häufig innerhalb eines Notebooks verwendet werden:"
   ]
  },
  {
   "cell_type": "code",
   "execution_count": null,
   "metadata": {},
   "outputs": [],
   "source": [
    "# aliasing der NumpPy and Pandas data science bibliotheken\n",
    "import numpy as np\n",
    "import pandas as pd"
   ]
  },
  {
   "cell_type": "markdown",
   "metadata": {},
   "source": [
    "Lassen Sie uns nun erneut die Bibliothek `NumPy` verwenden, um den Mittelwert einer Liste von Zahlen zu berechnen:"
   ]
  },
  {
   "cell_type": "code",
   "execution_count": null,
   "metadata": {},
   "outputs": [],
   "source": [
    "np.mean([1, 2, 3, 4])"
   ]
  },
  {
   "cell_type": "markdown",
   "metadata": {},
   "source": [
    "### 3. Code Vervollständigung und Dokumentation"
   ]
  },
  {
   "cell_type": "markdown",
   "metadata": {},
   "source": [
    "#### 3.1 Code Vervollständigung "
   ]
  },
  {
   "cell_type": "markdown",
   "metadata": {},
   "source": [
    "Wenn Sie die **Tabulatortaste** `Tab` drücken, schlägt Ihnen Jupyter Notebook eine Liste der wahrscheinlichsten Eingaben vor. Das ist eine wertvolle Funktionalität, die Ihnen Zeit sparen kann. Machen sie von dieser Funktionalität regen Gebrauch. Darüber hinaus stellt die Tabulatortaste eine gute Möglichkeit dar, zu sehen, welche Anweisungen bzw. Funktionalitäten eine Bibliothek umfasst."
   ]
  },
  {
   "cell_type": "markdown",
   "metadata": {},
   "source": [
    "Versuchen Sie, den Cursor nach dem `.` zu platzieren und die `Tab`-Taste auf Ihrer Tastatur zu betätigen:"
   ]
  },
  {
   "cell_type": "code",
   "execution_count": null,
   "metadata": {},
   "outputs": [],
   "source": [
    "# np.random."
   ]
  },
  {
   "cell_type": "markdown",
   "metadata": {},
   "source": [
    "#### 3.2 Dokumentation bzw. Hilfefunktion"
   ]
  },
  {
   "cell_type": "markdown",
   "metadata": {},
   "source": [
    "Wenn Sie ein **Fragezeichen** `?` hinter eine Anweisung setzen und diese Codezeile ausführen, erhalten Sie die Dokumentation, welche die entsprechende Programmbibliothek für diese Funktion bereithält:"
   ]
  },
  {
   "cell_type": "code",
   "execution_count": null,
   "metadata": {},
   "outputs": [],
   "source": [
    "np.random.normal?"
   ]
  },
  {
   "cell_type": "markdown",
   "metadata": {},
   "source": [
    "### 4. Visualisierung von Strukturierten Daten"
   ]
  },
  {
   "cell_type": "markdown",
   "metadata": {},
   "source": [
    "#### 4.1 Zufällige Datenstichprobe"
   ]
  },
  {
   "cell_type": "markdown",
   "metadata": {},
   "source": [
    "Lassen Sie uns nun eine Stichprobe von 100 Zufallszahlen einer Standardnormalverteilung durch `NumPy` erzeugen:"
   ]
  },
  {
   "cell_type": "code",
   "execution_count": null,
   "metadata": {},
   "outputs": [],
   "source": [
    "# Stichprobe 100 Punkten mit einem Mittelwert von 0 und einem Standardwert von 1\n",
    "x = np.random.normal(0, 1, 100)"
   ]
  },
  {
   "cell_type": "code",
   "execution_count": null,
   "metadata": {},
   "outputs": [],
   "source": [
    "x"
   ]
  },
  {
   "cell_type": "markdown",
   "metadata": {},
   "source": [
    "#### 4.2 Datenvisualisierung in Jupyter Notebook"
   ]
  },
  {
   "cell_type": "markdown",
   "metadata": {},
   "source": [
    "Die Python-Bibliothek `Matplotlib` (https://matplotlib.org) ist eine flexible Bibliothek zu Visualisierung von Daten. Die Bibliothek enthält ein umfangreiches Set von Funktionalitäten die Sie im Rahmen der Erstellung von aussagekräftigen Visualisierungen unterstützen können. Hierzu ist es lediglich notwendig die Bibliothek zu importieren. Anschliessend kann eine gegebene Menge von Datenpunkten, z.B. die zuvor erzeugten Zufallszahlen, mithilfe der Funktion `plot()` visualisiert werden."
   ]
  },
  {
   "cell_type": "markdown",
   "metadata": {},
   "source": [
    "Importieren Sie zunächst die `Matplotlib` Bibliothek durch Ausführung der nachfolgenden Anweisung:"
   ]
  },
  {
   "cell_type": "code",
   "execution_count": null,
   "metadata": {},
   "outputs": [],
   "source": [
    "# importieren der Matplotlib Bibliothek\n",
    "import matplotlib.pyplot as plt"
   ]
  },
  {
   "cell_type": "markdown",
   "metadata": {},
   "source": [
    "Beachten Sie, dass das `pyplot`-Modul der `Matplotlib` Bibliothek unter dem Alias `plt` importiert wurde. Nun können die durch Matplotlib bereitgestellten Funktionen zur Datenvisualiserung genutzt werden. Lassen Sie uns nun die zuvor erzeugten Zufallszahlen visualisieren:"
   ]
  },
  {
   "cell_type": "code",
   "execution_count": null,
   "metadata": {},
   "outputs": [],
   "source": [
    "plt.plot(x)"
   ]
  },
  {
   "cell_type": "markdown",
   "metadata": {},
   "source": [
    "Der Stil des gezeichneten Diagramms lässt sich vergleichsweise einfach verändern, beispielsweise anhand der nachfolgenden Parametrisierung:"
   ]
  },
  {
   "cell_type": "code",
   "execution_count": null,
   "metadata": {
    "scrolled": true
   },
   "outputs": [],
   "source": [
    "plt.plot(x, linewidth=3, linestyle='--', color='cornflowerblue')"
   ]
  },
  {
   "cell_type": "markdown",
   "metadata": {},
   "source": [
    "#### 4.3 Entfernen der Codezellen-Ausgabe"
   ]
  },
  {
   "cell_type": "markdown",
   "metadata": {},
   "source": [
    "Vielleicht haben Sie eine ähnliche störende Zeile der Form `[<matplotlib.lines.Line2D at 0x10a4cce90>]` über den erstellten Diagrammen bemerkt? Wenn Sie diese Ausgabe loswerden wollen, beenden Sie die letzte Anweisung innerhalb der Codezelle einfach mit einem Semikolon `;`:"
   ]
  },
  {
   "cell_type": "code",
   "execution_count": null,
   "metadata": {},
   "outputs": [],
   "source": [
    "plt.plot(x);"
   ]
  },
  {
   "cell_type": "markdown",
   "metadata": {},
   "source": [
    "#### 4.4 Hinzfügen von Achsenbeschriftungen"
   ]
  },
  {
   "cell_type": "markdown",
   "metadata": {},
   "source": [
    "Lassen Sie uns nachfolgend ein paar `Matplotlib`-Anweisungen betrachten, welche die erstellten Diagramme aussagekräftiger Gestalten. Darüber hinaus werden wir zwei zufällige erzeugte Serien von Datenpunkten gleichzeitig in einem Diagramm visualisieren:"
   ]
  },
  {
   "cell_type": "code",
   "execution_count": null,
   "metadata": {},
   "outputs": [],
   "source": [
    "# Erste Stichprobe 100 Punkten mit einem Mittelwert von 0 und einem Standardwert von 1\n",
    "x1 = np.random.normal(0, 1, 100)\n",
    "\n",
    "# Zweite Stichprobe 100 Punkten mit einem Mittelwert von 0 und einem Standardwert von 1\n",
    "x2 = np.random.normal(0, 1, 100)"
   ]
  },
  {
   "cell_type": "markdown",
   "metadata": {},
   "source": [
    "Anschliessend erstellen wir eine entsprechende Visualisierung innerhalb des Notebooks:"
   ]
  },
  {
   "cell_type": "code",
   "execution_count": null,
   "metadata": {},
   "outputs": [],
   "source": [
    "# visualisierung beider Stichproben\n",
    "plt.plot(x1);\n",
    "plt.plot(x2);\n",
    "\n",
    "# hinzfügen der Achsenbeschriftungen\n",
    "plt.xlabel('Time')\n",
    "plt.ylabel('Returns')\n",
    "\n",
    "# hinzfügen der Legende\n",
    "plt.legend(['X1', 'X2'])\n",
    "\n",
    "# hinzufügen des Titels\n",
    "plt.title('Sample Returns X1 and X2');"
   ]
  },
  {
   "cell_type": "markdown",
   "metadata": {},
   "source": [
    "### 5. Berechnung einfacher Statistiken"
   ]
  },
  {
   "cell_type": "markdown",
   "metadata": {},
   "source": [
    "In einem nächsten Schritt verwenden wir die `NumPy` Bibliothek, um einige einfache Statistiken wie den **Mittelwert** durch die Anweisung `mean` einer erzeugten Stichproben von Zufallszahlen zu ermitteln:"
   ]
  },
  {
   "cell_type": "code",
   "execution_count": null,
   "metadata": {},
   "outputs": [],
   "source": [
    "np.mean(x1)"
   ]
  },
  {
   "cell_type": "markdown",
   "metadata": {},
   "source": [
    "Analog hierzu lässt sich auch die Standardabweichung anhand der Anweisung `std` ermitteln:"
   ]
  },
  {
   "cell_type": "code",
   "execution_count": null,
   "metadata": {},
   "outputs": [],
   "source": [
    "np.std(x1)"
   ]
  },
  {
   "cell_type": "markdown",
   "metadata": {},
   "source": [
    "### 6. Download und Import von Marktpreisdaten"
   ]
  },
  {
   "cell_type": "markdown",
   "metadata": {},
   "source": [
    "Einer der ersten Schritte eines jeden Data-Science-Projekts ist in der Regel der Import der zu analysierenden Daten. Beispieldaten aus Zufallsstichproben eignen sich hervorragend zum Testen von Ideen, aber lassen Sie uns nun einige echte Finanzmarktdaten importieren. \n",
    "\n",
    "Innerhalb des aktuellen Ordners des GitHub Repository's **Forensische Datenanalysen** finden Sie eine **Comma Separated Value (CSV)**-Datei mit dem Namen \"sample_google_data_daily.csv\". Die Datei enthält die täglichen Börsendaten der **Alphabet (Google) Inc.** Aktie innerhalb des Zeitraums **31.12.2015** bis **31.12.2017**. Anhand der Anweisung `read_csv` der `Pandas` Bibliothek ist es möglich die Daten in das Notebook zu importieren. Hierzu ist es notwendig zunächst den Pfad der Daten zu definieren. Im Anschluss können die Daten geladen werden:"
   ]
  },
  {
   "cell_type": "code",
   "execution_count": null,
   "metadata": {},
   "outputs": [],
   "source": [
    "# set the url of the data\n",
    "data_url = 'https://raw.githubusercontent.com/GitiHubi/CFM/master/lab_01/sample_alphabet_data_daily.csv'\n",
    "\n",
    "# read the alphabet data\n",
    "alphabet_data = pd.read_csv(data_url, sep=';')"
   ]
  },
  {
   "cell_type": "markdown",
   "metadata": {},
   "source": [
    "Die geladenen Daten stehen nun als ein sogenanntes `Pandas` **DataFrame** innerhalb des Notebooks für Analysen zur Verfügung. Lassen Sie uns nun die **ersten 5 Zeilen** der importierten Daten mit der Anweisung `head` im Detail betrachten: "
   ]
  },
  {
   "cell_type": "code",
   "execution_count": null,
   "metadata": {},
   "outputs": [],
   "source": [
    "alphabet_data.head(5)"
   ]
  },
  {
   "cell_type": "markdown",
   "metadata": {},
   "source": [
    "Die Daten umfassen einen Datumsindex und die zugehörigen Marktinformationen der **Alphabet (Google) Inc.**."
   ]
  },
  {
   "cell_type": "markdown",
   "metadata": {},
   "source": [
    "Oftmals stehen Sie im Rahmen von Data-Science-Projekten vor der Herausforderung, Daten aus einer Vielzahl von Quellen, z.B. über das Internet zu importieren. Im Kontext von Finanzdaten findet sich eine hervorragende Quelle für den Bezug solcher Daten in der `Pandas-Datareader` Bibliothek. \n",
    "\n",
    "Obwohl sowohl die **Binder** als auch die **Colab** Umgebung bereits eine Vielzahl vorinstallierter Bibliotheken aufweisen, kann der Umstand eintreten, dass eine benötigte Bibliothek nicht verfügbar ist. Im Allgemeinen kann innerhalb eines Notebooks eine nicht vorhandene Bibliothek durch die Anweisung **pip** installiert werden. \n",
    "\n",
    "Jeder Befehl, der auch auf der Kommandozeile funktioniert, kann auch innerhalb eines Notebooks ausgeführt werden. Hierzu ist es lediglich notwendig der Anweisung das Zeichen `!` voranzustellen. Lassen Sie uns dies nun beispielhaft ausprobieren und `Pandas-Datareader` installieren:"
   ]
  },
  {
   "cell_type": "code",
   "execution_count": null,
   "metadata": {},
   "outputs": [],
   "source": [
    "!pip3 install pandas_datareader --ignore-installed"
   ]
  },
  {
   "cell_type": "markdown",
   "metadata": {},
   "source": [
    "Bitte beachten Sie, dass Bibliotheken, die über eine Notebook in **Binder** oder **Colab** installiert werden, nur im Rahmen der aktuellen Session zur Verfügung stehen. D.h. sobald Sie die Umgebung erneut starten ist es notwendig die Bibliotheken erneut zu installieren."
   ]
  },
  {
   "cell_type": "markdown",
   "metadata": {},
   "source": [
    "Lassen Sie uns nun die `DataReader` und die `DateTime` Bibliothek importieren, um tatsächliche Finanzdaten zu beziehen:"
   ]
  },
  {
   "cell_type": "code",
   "execution_count": null,
   "metadata": {},
   "outputs": [],
   "source": [
    "import datetime as dt\n",
    "import pandas_datareader as dr"
   ]
  },
  {
   "cell_type": "markdown",
   "metadata": {},
   "source": [
    "Hierzu spezifizieren Sie zunächst sowohl das **Start-** als auch das **Enddatum** des Datendownloads:"
   ]
  },
  {
   "cell_type": "code",
   "execution_count": null,
   "metadata": {},
   "outputs": [],
   "source": [
    "start_date = dt.datetime(2015, 12, 31)\n",
    "end_date = dt.datetime(2017, 12, 31)"
   ]
  },
  {
   "cell_type": "markdown",
   "metadata": {},
   "source": [
    "In einem nächsten Schritt können nun beispielhaft die **Tesla Inc.** (Tickersymbol: TSLA) Marktpreisdaten über die `Pandas-DataReader` Bibliothek für den zuvor spezifizierten Zeitraum durch **Yahoo Finance** bezogen werden:"
   ]
  },
  {
   "cell_type": "code",
   "execution_count": null,
   "metadata": {},
   "outputs": [],
   "source": [
    "# download der Tesla Marktpreisdaten\n",
    "tesla_data = dr.data.DataReader('TSLA', data_source='yahoo', start=start_date, end=end_date)"
   ]
  },
  {
   "cell_type": "markdown",
   "metadata": {},
   "source": [
    "Wir haben die Daten wieder in der Form eines `Pandas` `DataFrames` geladen. In einem nächsten Schritt untersuchen Sie nun die ersten 5 Zeilen der importierten Daten anhand der `head` Anweisung:"
   ]
  },
  {
   "cell_type": "code",
   "execution_count": null,
   "metadata": {},
   "outputs": [],
   "source": [
    "tesla_data.head(5)"
   ]
  },
  {
   "cell_type": "markdown",
   "metadata": {},
   "source": [
    "Um einen ersten Überblick über die Daten zu erhalten, ist es oftmals auch ratsam, ein paar einfache Statistiken über die Daten zu berechnen. Hierzu bietet die `describe` Anweisung der `Pandas` Bibliothek eine gute Möglichkeit:"
   ]
  },
  {
   "cell_type": "code",
   "execution_count": null,
   "metadata": {},
   "outputs": [],
   "source": [
    "tesla_data.describe()"
   ]
  },
  {
   "cell_type": "markdown",
   "metadata": {},
   "source": [
    "Auf den ersten Blick sehen die Daten vollständig aus. Um die Daten in einem nächsten Schritt in Form einer **Excel-Datei** zu speichern, können Sie die Anweisung `to_excel` der `Pandas` Bibliothek verwenden (bitte, beachten Sie die entsprechende Anpassung des Dateinamens \".xlsx\"):"
   ]
  },
  {
   "cell_type": "code",
   "execution_count": null,
   "metadata": {},
   "outputs": [],
   "source": [
    "tesla_data.to_excel('sample_tesla_data_daily.xlsx', header=True, index=False, sheet_name='TSLA_DATA', encoding='utf-8')"
   ]
  },
  {
   "cell_type": "markdown",
   "metadata": {},
   "source": [
    "Die Auswahl einer bestimmten Spalte eines `DataFrames` kann beispielhaft anhand der nachfolgenden Anweisung erfolgen:"
   ]
  },
  {
   "cell_type": "code",
   "execution_count": null,
   "metadata": {},
   "outputs": [],
   "source": [
    "tesla_closing = tesla_data['Adj Close']"
   ]
  },
  {
   "cell_type": "markdown",
   "metadata": {},
   "source": [
    "Lassen Sie uns auch diesmal wieder die **ersten 5 Preisdaten** der extrahierten Spalte anschauen:"
   ]
  },
  {
   "cell_type": "code",
   "execution_count": null,
   "metadata": {},
   "outputs": [],
   "source": [
    "tesla_closing.head(5)"
   ]
  },
  {
   "cell_type": "markdown",
   "metadata": {},
   "source": [
    "Im Ergebnis erhalten wir nun tatsächlich zwei Spalten (1) den Index **Date** des `DataFrames` sowie (2) die Datenspalte **Adj. Close** Preis, welche ausgewählt wurden."
   ]
  },
  {
   "cell_type": "markdown",
   "metadata": {},
   "source": [
    "Abschliessend soll ein Diagramm erstellt werden, welches den Kursverlauf des **Adj.Close** Preis im Zeitverlauf visualisiert. Hierzu ist es zunächst notwendig, den **Index** der extrahierten Spalte von den eigentlichen Daten zu unterscheiden. Dies kann durch die Funktion `.index` erreicht werden, die den Index eines gegebenen DataFrame referenziert. Darüber hinaus referenziert die Funktion `.values`, die **tatsächlichen Daten** (d.h. ohne die Indexinformation).\n",
    "\n",
    "Anhand der beiden Referenzen ist nun möglich, wie zuvor, durch Verwendung der `Matplotlib` Bibliothek das gewünschte Diagramm zu zeichnen:"
   ]
  },
  {
   "cell_type": "code",
   "execution_count": null,
   "metadata": {},
   "outputs": [],
   "source": [
    "# visualisieren des Adj. Close Preis im Zeitverlauf\n",
    "plt.plot(tesla_closing.index, tesla_closing.values, color='cornflowerblue')\n",
    "\n",
    "# hinzfügen der A‚chsenbeschriftungen\n",
    "plt.xlabel('Time')\n",
    "plt.ylabel('Closing Price')\n",
    "\n",
    "# hinzufügen des Titels\n",
    "plt.title('Tesla Inc. Daily Adjusted Closing Price');"
   ]
  },
  {
   "cell_type": "markdown",
   "metadata": {},
   "source": [
    "### 7. Berechnung von Erträgen aus Marktpreisdaten"
   ]
  },
  {
   "cell_type": "markdown",
   "metadata": {},
   "source": [
    "Bei der Analyse von Marktpreisdaten sind wir oftmals auch an der **Rendite eines Finanzinstruments** über einen bestimmten Zeitraum interessiert. Die `Pandas` Bibliothek stellt eine Reihe von Anweisungen für die Analyse solcher Daten zur Verfügung. Die Rendite $R_t$ kann formal beispielsweise anhand der nachfolgenden Formel berechnet werden:"
   ]
  },
  {
   "cell_type": "markdown",
   "metadata": {},
   "source": [
    "$$R_t=\\frac{V_{f}-V_{i}}{V_{i}}$$"
   ]
  },
  {
   "cell_type": "markdown",
   "metadata": {},
   "source": [
    "wobei:\n",
    "\n",
    "- $V_{f}$ den Endwert des Finanzinstruments, einschließlich Dividenden und Zinsen bezeichnet.\n",
    "- $V_{i}$ den Anfangswert des Finanzinstruments bezeichnet.\n",
    "\n",
    "Um die tägliche Rendite $R_t$ eines Finanzinstruments zu bestimmen, kann beispielsweise die `Pandas` Anweisung `pct_change` verwendet werden. Lassen Sie uns nachfolgend die Anweisung zur Berechnung der **täglichen Rendite** der Tesla Marktpreise verwenden:"
   ]
  },
  {
   "cell_type": "code",
   "execution_count": null,
   "metadata": {},
   "outputs": [],
   "source": [
    "tesla_returns = tesla_closing.pct_change()"
   ]
  },
  {
   "cell_type": "markdown",
   "metadata": {},
   "source": [
    "Lassen Sie uns nun die **5 ersten Renditen** anschauen:"
   ]
  },
  {
   "cell_type": "code",
   "execution_count": null,
   "metadata": {},
   "outputs": [],
   "source": [
    "tesla_returns.head(5)"
   ]
  },
  {
   "cell_type": "markdown",
   "metadata": {},
   "source": [
    "Beachten Sie, dass wir nun die **erste Rendite entfernen**, da sie einen fehlenden Wert durch `NaN` gekennzeichnet enthält:"
   ]
  },
  {
   "cell_type": "code",
   "execution_count": null,
   "metadata": {},
   "outputs": [],
   "source": [
    "tesla_returns = tesla_returns[1:]"
   ]
  },
  {
   "cell_type": "markdown",
   "metadata": {},
   "source": [
    "Lassen Sie uns nun erneut die **5 ersten Renditen** anschauen:"
   ]
  },
  {
   "cell_type": "code",
   "execution_count": null,
   "metadata": {},
   "outputs": [],
   "source": [
    "tesla_returns.head(5)"
   ]
  },
  {
   "cell_type": "markdown",
   "metadata": {},
   "source": [
    "Im Anschluss an die Berechnung der täglichen Renditen möchten wir die **Verteilung der täglichen Renditen** der Tesla Aktie in einem **Histogram-Diagramm** visualisieren:"
   ]
  },
  {
   "cell_type": "code",
   "execution_count": null,
   "metadata": {},
   "outputs": [],
   "source": [
    "# visualisieren eines histograms der Renditen\n",
    "plt.hist(tesla_returns, bins=20, color='cornflowerblue')\n",
    "\n",
    "# hinzufügen der Achsenbeschriftungen\n",
    "plt.xlabel('Return')\n",
    "plt.ylabel('Frequency')\n",
    "\n",
    "# hinzufügen des Titels\n",
    "plt.title('Alphabet Inc. Adjusted Daily Returns');"
   ]
  },
  {
   "cell_type": "markdown",
   "metadata": {},
   "source": [
    "Lassen Sie uns nun die Renditen der Tesla Marktpreise basierend auf einer geschätzten Normalverteilung visualisieren. In einem ersten Schritt werden wir den **Mittelwert** und die **Standardabweichung** der Renditen anhand der Python Anweisungen `mean` und `std` ermitteln. In einem zweiten Schritt werden wir diese Statistiken zur Parametrisierung einer **entsprechenden Normalverteilung** verwenden. In einem dritten Schritt werden wir 10.000 Zufallsstichproben von dieser Normalverteilung, wie zuvor, durch ein **Histogram-Diagramm** visualisieren:"
   ]
  },
  {
   "cell_type": "code",
   "execution_count": null,
   "metadata": {},
   "outputs": [],
   "source": [
    "# visualisieren eines histograms der normalverteilten Renditen\n",
    "plt.hist(np.random.normal(np.mean(tesla_returns), np.std(tesla_returns), 10000), bins=20, color=\"cornflowerblue\")\n",
    "\n",
    "# hinzufügen der Achsenbeschriftungen\n",
    "plt.xlabel('Return')\n",
    "plt.ylabel('Frequency')\n",
    "\n",
    "# hinzufügen des Titels\n",
    "plt.title('Tesla Inc. Adjusted Daily Returns (Normal)');"
   ]
  },
  {
   "cell_type": "markdown",
   "metadata": {},
   "source": [
    "### 8. Generating a Moving Average "
   ]
  },
  {
   "cell_type": "markdown",
   "metadata": {},
   "source": [
    "Bei der Analyse von Markpreisdaten sind Analysten oftmals auch an der Berechnung sogenannter **gleitender Statistiken** interessiert, z.B. eines gleitenden 90- oder 200-Tage-Durchschnitts. Auch hierzu bietet die `Pandas` Bibliothek einige hilfreiche Anweisungen. \n",
    "\n",
    "Im nachfolgenden Beispiel wird der **gleitende Durchschnitt über 90 Tage** des **Adj.Closing** Preises der Tesla Aktie berechnet. Beachten Sie, dass es für die ersten 90 Tage keinen gleitenden Durchschnitt gibt, da es 90 benötigt, bevor der erste Wert bestimmt werden kann:"
   ]
  },
  {
   "cell_type": "code",
   "execution_count": null,
   "metadata": {},
   "outputs": [],
   "source": [
    "# berechnung des gleitenden Durchschnitts über 90 Tage\n",
    "tesla_moving_average = tesla_closing.rolling(window=30, center=False).mean()"
   ]
  },
  {
   "cell_type": "markdown",
   "metadata": {},
   "source": [
    "Lassen Sie uns nun den 90 Tage gleitenden Durchschnitt im Vergleich zum aktuellen Adj.Closing in einem Diagramm visualisieren:"
   ]
  },
  {
   "cell_type": "code",
   "execution_count": null,
   "metadata": {},
   "outputs": [],
   "source": [
    "# visualisieren des Adj.Closing Preis\n",
    "plt.plot(tesla_closing.index, tesla_closing.values, color='cornflowerblue')\n",
    "\n",
    "# visualisierung des gleitenden Durchschnitts über 90 Tage\n",
    "plt.plot(tesla_moving_average.index, tesla_moving_average.values, color='red')\n",
    "\n",
    "# hinzufügen der Achsenbeschriftungen\n",
    "plt.xlabel('Time')\n",
    "plt.ylabel('Price')\n",
    "\n",
    "# hinzfügen der Legende\n",
    "plt.legend(['Price', '90-day MAVG']);\n",
    "\n",
    "# hinzufügen des Titels\n",
    "plt.title('Tesla Inc. Price vs. Moving Average Price');"
   ]
  },
  {
   "cell_type": "markdown",
   "metadata": {},
   "source": [
    "## Lab Aufgaben:"
   ]
  },
  {
   "cell_type": "markdown",
   "metadata": {},
   "source": [
    "Im Ihr wissen zu vertiefen empfehlen wir, die nachfolgenden Übungen zu bearbeiten:"
   ]
  },
  {
   "cell_type": "markdown",
   "metadata": {},
   "source": [
    "**1. Importieren von Daten unter Verwendung der `Pandas` `DataReader` API, \"dr.data.DataReader('TSLA', data_source='yahoo', ...)`.**\n",
    "\n",
    "> Verwenden Sie die `Pandas` `DataReader` API um die täglichen Schlusskurse der beiden folgenden Aktien jeweils als `Pandas` `DataFrame` zu beziehen: **Facebook** und **Microsoft**. Schränken Sie die Schlusskurse auf den Zeitraum vom **01.01.2017** bis **31.12.2020** ein."
   ]
  },
  {
   "cell_type": "code",
   "execution_count": null,
   "metadata": {},
   "outputs": [],
   "source": [
    "# ***************************************************\n",
    "# Sie können Ihre Lösung an dieser Stelle einfügen\n",
    "# ***************************************************"
   ]
  },
  {
   "cell_type": "markdown",
   "metadata": {},
   "source": [
    "Im Laufe des Seminars werden wir eine Vielzahl von Daten visualisieren und analysieren. Die folgenden Übungen sollen Ihnen einen ersten Eindruck vermitteln, wie dies mit Hilfe der Python-Bibliotheken `Pandas` und `Matplotlib` erreicht werden kann: \n",
    "\n",
    "**2. Visualisierung der Daten mit Hilfe der Bibliothek `Matplotlib`, `plt.plot(...)` und `plt.hist(...)`.**\n",
    "\n",
    "> Visualisieren Sie die importierten Marktpreisdaten, indem Sie die täglichen Schlusskurse der beiden Aktien im Zeitverlauf (1) in einem Diagramm pro Aktie sowie (2) in einem gemeinsamen Diagramm beider Aktien."
   ]
  },
  {
   "cell_type": "code",
   "execution_count": null,
   "metadata": {},
   "outputs": [],
   "source": [
    "# ***************************************************\n",
    "# Sie können Ihre Lösung an dieser Stelle einfügen\n",
    "# ***************************************************"
   ]
  },
  {
   "cell_type": "markdown",
   "metadata": {},
   "source": [
    "**3. Speichern der Daten mit Hilfe der Bibliothek `Pandas`, `data.to_csv()`.**\n",
    "\n",
    "> Speichern Sie die importierten Marktpreisdaten und das entsprechende Datum beider Aktien im CSV-Format (Comma-Separated Value) in Ihrem lokalen Verzeichnis. Verwenden Sie für das Speichern der CSV-Datei das Semikolon `';'` Trennzeichen und codieren Sie die Datei mit dem Character-Encoding `'utf-8'`."
   ]
  },
  {
   "cell_type": "code",
   "execution_count": null,
   "metadata": {},
   "outputs": [],
   "source": [
    "# ***************************************************\n",
    "# Sie können Ihre Lösung an dieser Stelle einfügen\n",
    "# ***************************************************"
   ]
  },
  {
   "cell_type": "markdown",
   "metadata": {},
   "source": [
    "**4. Analyse der Daten mit Hilfe der Bibliothek `Pandas`, `data.rolling(..., window=...)`.**\n",
    "\n",
    "> Berechnen Sie für jede Aktie die gleitenden Durchschnitte der täglichen Schlusskurse unter Verwendung eines Zeitfensters von 30 und 90 Tagen. Stellen Sie für jede Aktie den täglichen Schlusskurs sowie den gleitenden 30- und 90-Tage-Durchschnitt in einem Diagramm dar."
   ]
  },
  {
   "cell_type": "code",
   "execution_count": null,
   "metadata": {},
   "outputs": [],
   "source": [
    "# ***************************************************\n",
    "# Sie können Ihre Lösung an dieser Stelle einfügen\n",
    "# ***************************************************"
   ]
  },
  {
   "cell_type": "markdown",
   "metadata": {},
   "source": [
    "## Lab Zusammenfassung:"
   ]
  },
  {
   "cell_type": "markdown",
   "metadata": {},
   "source": [
    "Dieses initiale Notebook umfasste eine schrittweise Einführung in einige grundlegende Konzepte der Analyse von Finanzdaten bzw. Marktpreisdaten anhand von Jupyter Notebooks. Die vorgestellten Code Beispiele und die Übungen können als Ausgangspunkt für komplexere und Ihre massgeschneiderten Analysen dienen."
   ]
  }
 ],
 "metadata": {
  "kernelspec": {
   "display_name": "Python 3 (ipykernel)",
   "language": "python",
   "name": "python3"
  },
  "language_info": {
   "codemirror_mode": {
    "name": "ipython",
    "version": 3
   },
   "file_extension": ".py",
   "mimetype": "text/x-python",
   "name": "python",
   "nbconvert_exporter": "python",
   "pygments_lexer": "ipython3",
   "version": "3.10.6"
  },
  "toc": {
   "base_numbering": 1,
   "nav_menu": {},
   "number_sections": false,
   "sideBar": true,
   "skip_h1_title": false,
   "title_cell": "Table of Contents",
   "title_sidebar": "Contents",
   "toc_cell": false,
   "toc_position": {
    "height": "calc(100% - 180px)",
    "left": "10px",
    "top": "150px",
    "width": "190px"
   },
   "toc_section_display": true,
   "toc_window_display": false
  }
 },
 "nbformat": 4,
 "nbformat_minor": 2
}
