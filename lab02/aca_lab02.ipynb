{
 "cells": [
  {
   "cell_type": "markdown",
   "metadata": {},
   "source": [
    "<img align=\"right\" style=\"max-width: 200px; height: auto\" src=\"01_images/hsg_logo.png\">\n",
    "\n",
    "### Lab 02 - \"Maschinelle Lern- und Analyseverfahren\"\n",
    "\n",
    "ACA Lehrgang \"Internal Audit Knowledge Elements\", Universität St. Gallen, 15. Januar 2020"
   ]
  },
  {
   "cell_type": "markdown",
   "metadata": {},
   "source": [
    "Die Laborumgebung des Kurses **\"Internal Audit Knowledge Elements\"** an der Universität St. Gallen basiert auf Jupyter Notebooks (https://jupyter.org), die es erlauben, eine Vielzahl von statistischen Auswertungen und Datenanalysen durchzuführen.\n",
    "\n",
    "Im letzten Lab lernten wir einige ausgewählte Elemente der grundlegenden Vorgehensweise des revisorischen Datenanalyseprozesses kennen. Darüber hinaus wurden Indikatorbasierte Analyseverfahren exemplarisch vorgestellt. In diesem Lab werden wir Jupyter Notebook nutzen, um ein erstes maschinelles Lernverfahren zu implementieren und anzuwenden. Zielsetzung ist es hierbei durch die Anwendung von (tiefen) **Neuronalen Autoencoder Netzen** automatisert ungewöhnliche Buchungen in einer Grundgesamtheit an Buchungen zu identifizieren."
   ]
  },
  {
   "cell_type": "markdown",
   "metadata": {},
   "source": [
    "<img align=\"center\" style=\"max-width: 800px; height: auto\" src=\"01_images/autoencoder.png\">"
   ]
  },
  {
   "cell_type": "markdown",
   "metadata": {},
   "source": [
    "Zögern Sie bitte nicht Fragen entweder unmittelbar während der Durchführung des Labs zu stellen oder uns im Nachgang eine E-Mail an marco.schreyer@unisg.ch zu senden."
   ]
  },
  {
   "cell_type": "markdown",
   "metadata": {},
   "source": [
    "### Lernziele des Labs:"
   ]
  },
  {
   "cell_type": "markdown",
   "metadata": {},
   "source": [
    "Das vorliegende Lab sollte Ihnen ermöglichen:\n",
    "\n",
    ">1. Finanzdaten für den Einsatz **maschineller Lernverfahren** aufzubereiten;\n",
    ">2. die grundlegende Funktionsweise und Elemente von **Neuronalen Autoencoder Netzen** zu verstehen;\n",
    ">3. Neuronale Autoencoder Netze zur Erkennung von **Anomalien** in Buchungs- und Transaktionsdaten einzusetzen;\n",
    ">4. den **Rekonstruktionsverlust** pro Buchung bzw. Transaktion zu verstehen und interpretieren."
   ]
  },
  {
   "cell_type": "markdown",
   "metadata": {},
   "source": [
    "Aber bevor wir beginnen lassen Sie uns ein kurzes Motivationsvideo schauen:"
   ]
  },
  {
   "cell_type": "code",
   "execution_count": 1,
   "metadata": {},
   "outputs": [],
   "source": [
    "from IPython.display import YouTubeVideo\n",
    "# OpenAI: Solving Rubik’s Cube with a Robot Hand\n",
    "# YouTubeVideo('x4O8pojMF0w', width=1024, height=576)"
   ]
  },
  {
   "cell_type": "markdown",
   "metadata": {},
   "source": [
    "### 0. Analyseumgebung"
   ]
  },
  {
   "cell_type": "markdown",
   "metadata": {},
   "source": [
    "In Analogie zu unseren vorhergehenden Labs, ist es zunächst wieder notwendig einige Python-Bibliotheken zu importieren die uns die Datenakquise, Datenanalyse und Datenvisualisierung erlauben. Im Rahmen dieses Labs werden wir im Besonderen die durch das Facebook AI Research Team (https://ai.facebook.com) entwickelte Deep-Learning Bibliothek **PyTorch** (https://pytorch.org) im Rahmen der Datenanalyse verwenden.\n",
    "\n",
    "Importieren wir jedoch zu Beginn wieder ein paar \"Utilities\" Bibliotheken, welche wir im Verlauf dieses Labs an mehreren Stellen benötigen:"
   ]
  },
  {
   "cell_type": "code",
   "execution_count": 2,
   "metadata": {},
   "outputs": [],
   "source": [
    "import os # ermöglicht den Zugriff auf das lokale Dateisystem\n",
    "import datetime as dt # ermöglicht die Erstellung von Zeitstempeln"
   ]
  },
  {
   "cell_type": "markdown",
   "metadata": {},
   "source": [
    "Importiere die Python Datenanalyse (oder \"Data Science\") Bibliotheken:"
   ]
  },
  {
   "cell_type": "code",
   "execution_count": 3,
   "metadata": {},
   "outputs": [],
   "source": [
    "import pandas as pd\n",
    "import random as rd\n",
    "import numpy as np"
   ]
  },
  {
   "cell_type": "markdown",
   "metadata": {},
   "source": [
    "Importiere die Python \"Deep Learning\" Bibliotheken:"
   ]
  },
  {
   "cell_type": "code",
   "execution_count": 4,
   "metadata": {},
   "outputs": [],
   "source": [
    "import torch\n",
    "from torch import nn\n",
    "from torch import autograd\n",
    "from torch.utils.data import DataLoader"
   ]
  },
  {
   "cell_type": "markdown",
   "metadata": {},
   "source": [
    "Importiere die Python Datenvisualiserungs Bibliothek und setze globale Parameter der Datenvisualisierung:"
   ]
  },
  {
   "cell_type": "code",
   "execution_count": 5,
   "metadata": {},
   "outputs": [],
   "source": [
    "import matplotlib.pyplot as plt\n",
    "import seaborn as sns\n",
    "plt.style.use('seaborn')\n",
    "plt.rcParams['figure.dpi']= 150"
   ]
  },
  {
   "cell_type": "markdown",
   "metadata": {},
   "source": [
    "Aktivieren das \"Inline-Plotten\" von Visualisierungen innerhalb des aktuellen Notebooks:"
   ]
  },
  {
   "cell_type": "code",
   "execution_count": 6,
   "metadata": {},
   "outputs": [],
   "source": [
    "%matplotlib inline"
   ]
  },
  {
   "cell_type": "markdown",
   "metadata": {},
   "source": [
    "Finally, let' set the seeds of random elements in the code e.g. the initialization of the network parameters to guarantee deterministic computation and results:"
   ]
  },
  {
   "cell_type": "code",
   "execution_count": 7,
   "metadata": {},
   "outputs": [],
   "source": [
    "# init deterministic seed\n",
    "seed_value = 1234\n",
    "rd.seed(seed_value) # set random seed\n",
    "np.random.seed(seed_value) # set numpy seed"
   ]
  },
  {
   "cell_type": "markdown",
   "metadata": {},
   "source": [
    "Erstellung eines lokalen Unterordners mit Ordnerbezeichnung **\"03_results\"** für das Speichern der nachfolgend erzeugten Ergebnisdateien der durchgeführeten Analysen:"
   ]
  },
  {
   "cell_type": "code",
   "execution_count": 8,
   "metadata": {},
   "outputs": [],
   "source": [
    "if not os.path.exists('./03_results'): os.makedirs('./03_results')"
   ]
  },
  {
   "cell_type": "markdown",
   "metadata": {},
   "source": [
    "Erstellung eines lokalen Unterordners mit Ordnerbezeichnung **\"04_models\"** für das Speichern der nachfolgend erlenten Modelle im Rahmen des Netwerktrainings:"
   ]
  },
  {
   "cell_type": "code",
   "execution_count": 9,
   "metadata": {},
   "outputs": [],
   "source": [
    "if not os.path.exists('./04_models'): os.makedirs('./04_models')"
   ]
  },
  {
   "cell_type": "markdown",
   "metadata": {},
   "source": [
    "### 1. Datenimport"
   ]
  },
  {
   "cell_type": "markdown",
   "metadata": {},
   "source": [
    "Der synthetische **PaySim** Datensatz simuliert mobile Geldtransaktionen auf der Basis realer Transaktionen, die aus einem Monat Finanzprotokolle eines in einem afrikanischen Land implementierten mobilen Finanzdienstleisters extrahiert wurden. Weitere Details des Datensatzes sowie der Datensatz selbst können über die nachfolgende Webseite: https://www.kaggle.com/ntnu-testimon/paysim1 bzw. Publikation bezogen werden: \n",
    "\n",
    "*E. A. Lopez-Rojas , A. Elmir, and S. Axelsson. \"PaySim: A financial mobile money simulator for fraud detection\". In: The 28th European Modeling and Simulation Symposium-EMSS, Larnaca, Cyprus. 2016*\n",
    "\n",
    "Das vorliegende Lab basiert auf einem angepassten extrakt diese Datensatzes. Der Datenbestand wurde um Datenfelder angepasst und Anomalien erweitert. Dies mit der Zielsetzung, eine hohe Änhnlichkeit zu einem Datenextrakt eines SAP-ERP Finanz- und Kostencontrollings (FICO) Modul aufzuweisen.\n",
    "\n",
    "Jeder der im Datensatz enthaltenen Buchungen umfasst insgesamt sieben kateogrische und zwei numerische Buchungsmerkmale. Diese Merkmale stehen gewöhnlich in den SAP Tabellen **BKPF (\"Belegköpfe\")** und **BSEG (\"Belegsegmente\")** zur Verfügung. Die Merkmalsbezeichnungen sowie ihre jeweils semantische Bedeutung ist nachfolgend angeführt:\n",
    "\n",
    ">- `BELNR`: die Buchhaltungsbelegnummer,\n",
    ">- `BUKRS`: der Buchungskreis,\n",
    ">- `BSCHL`: der Buchungsschlüssel,\n",
    ">- `HKONT`: das gebuchte Hauptbuchkonto,\n",
    ">- `PRCTR`: das gebuchte Profit Center,\n",
    ">- `WAERS`: der Währungsschlüssel,\n",
    ">- `KTOSL`: der Hauptbuchkontenschlüssel,\n",
    ">- `DMBTR`: der Betrag in Systemwährung,\n",
    ">- `WRBTR`: der Betrag in Belegwährung.\n",
    "\n",
    "Darüber hinaus ist jede Buchung mit einem Kennzeichen versehen:\n",
    "\n",
    ">- `label:` Kennzeichnet den Typ der Buchung (\"regular\", \"local\" oder \"global\").\n",
    "\n",
    "Die einzelnen Buchungen können das `label` **\"regular\"** d.h. gewöhnliche Buchung, **\"local\"** d.h. lokale Anomalie oder **\"global\"** d.h. globale Anomalie aufweisen. Diese Information wird nachfolgend lediglich für die Evaluation der Güte des Verfahrens verwendet. Sie findet keinen Eingang in das Training der Modelle zur Anomaliedetektion.\n",
    "\n",
    "Lassen Sie uns nun einen Teilextrakt des zuvor beschriebenen und aufbereiteten Datensatzes bestehend aus **533.009 Buchungen** in das Notebook importieren. Hierzu definieren wir zunächst den Pfad bzw. die URL der zu importierenden Buchungsdaten: "
   ]
  },
  {
   "cell_type": "code",
   "execution_count": 10,
   "metadata": {},
   "outputs": [],
   "source": [
    "# setzen der URL der zu beziehenden Buchungsdaten\n",
    "url = 'https://raw.githubusercontent.com/GitiHubi/courseACA/master/lab02/02_data/transactions.csv'"
   ]
  },
  {
   "cell_type": "markdown",
   "metadata": {},
   "source": [
    "Einlesen als Comma-Seperated-Value (CSV) in die Pandas Bibliothek:"
   ]
  },
  {
   "cell_type": "code",
   "execution_count": 11,
   "metadata": {},
   "outputs": [],
   "source": [
    "ori_dataset = pd.read_csv(url)"
   ]
  },
  {
   "cell_type": "markdown",
   "metadata": {},
   "source": [
    "Inspektion der ersten 10 im Datensatz enthaltenen Buchungen (Zeilen):"
   ]
  },
  {
   "cell_type": "code",
   "execution_count": 12,
   "metadata": {},
   "outputs": [
    {
     "data": {
      "text/html": [
       "<div>\n",
       "<style scoped>\n",
       "    .dataframe tbody tr th:only-of-type {\n",
       "        vertical-align: middle;\n",
       "    }\n",
       "\n",
       "    .dataframe tbody tr th {\n",
       "        vertical-align: top;\n",
       "    }\n",
       "\n",
       "    .dataframe thead th {\n",
       "        text-align: right;\n",
       "    }\n",
       "</style>\n",
       "<table border=\"1\" class=\"dataframe\">\n",
       "  <thead>\n",
       "    <tr style=\"text-align: right;\">\n",
       "      <th></th>\n",
       "      <th>BELNR</th>\n",
       "      <th>WAERS</th>\n",
       "      <th>BUKRS</th>\n",
       "      <th>KTOSL</th>\n",
       "      <th>PRCTR</th>\n",
       "      <th>BSCHL</th>\n",
       "      <th>HKONT</th>\n",
       "      <th>DMBTR</th>\n",
       "      <th>WRBTR</th>\n",
       "      <th>label</th>\n",
       "    </tr>\n",
       "  </thead>\n",
       "  <tbody>\n",
       "    <tr>\n",
       "      <th>0</th>\n",
       "      <td>288203</td>\n",
       "      <td>C3</td>\n",
       "      <td>C31</td>\n",
       "      <td>C9</td>\n",
       "      <td>C92</td>\n",
       "      <td>A3</td>\n",
       "      <td>B1</td>\n",
       "      <td>280979.60</td>\n",
       "      <td>0.00</td>\n",
       "      <td>regular</td>\n",
       "    </tr>\n",
       "    <tr>\n",
       "      <th>1</th>\n",
       "      <td>324441</td>\n",
       "      <td>C1</td>\n",
       "      <td>C18</td>\n",
       "      <td>C7</td>\n",
       "      <td>C76</td>\n",
       "      <td>A1</td>\n",
       "      <td>B2</td>\n",
       "      <td>129856.53</td>\n",
       "      <td>243343.00</td>\n",
       "      <td>regular</td>\n",
       "    </tr>\n",
       "    <tr>\n",
       "      <th>2</th>\n",
       "      <td>133537</td>\n",
       "      <td>C1</td>\n",
       "      <td>C19</td>\n",
       "      <td>C2</td>\n",
       "      <td>C20</td>\n",
       "      <td>A1</td>\n",
       "      <td>B3</td>\n",
       "      <td>957463.97</td>\n",
       "      <td>3183838.41</td>\n",
       "      <td>regular</td>\n",
       "    </tr>\n",
       "    <tr>\n",
       "      <th>3</th>\n",
       "      <td>331521</td>\n",
       "      <td>C4</td>\n",
       "      <td>C48</td>\n",
       "      <td>C9</td>\n",
       "      <td>C95</td>\n",
       "      <td>A2</td>\n",
       "      <td>B1</td>\n",
       "      <td>2681709.51</td>\n",
       "      <td>28778.00</td>\n",
       "      <td>regular</td>\n",
       "    </tr>\n",
       "    <tr>\n",
       "      <th>4</th>\n",
       "      <td>375333</td>\n",
       "      <td>C5</td>\n",
       "      <td>C58</td>\n",
       "      <td>C1</td>\n",
       "      <td>C19</td>\n",
       "      <td>A3</td>\n",
       "      <td>B1</td>\n",
       "      <td>910514.49</td>\n",
       "      <td>346.00</td>\n",
       "      <td>regular</td>\n",
       "    </tr>\n",
       "    <tr>\n",
       "      <th>5</th>\n",
       "      <td>327203</td>\n",
       "      <td>C1</td>\n",
       "      <td>C15</td>\n",
       "      <td>C6</td>\n",
       "      <td>C68</td>\n",
       "      <td>A1</td>\n",
       "      <td>B2</td>\n",
       "      <td>357627.56</td>\n",
       "      <td>704520.00</td>\n",
       "      <td>regular</td>\n",
       "    </tr>\n",
       "    <tr>\n",
       "      <th>6</th>\n",
       "      <td>292545</td>\n",
       "      <td>C4</td>\n",
       "      <td>C47</td>\n",
       "      <td>C2</td>\n",
       "      <td>C28</td>\n",
       "      <td>A2</td>\n",
       "      <td>B3</td>\n",
       "      <td>955576.84</td>\n",
       "      <td>128328.00</td>\n",
       "      <td>regular</td>\n",
       "    </tr>\n",
       "    <tr>\n",
       "      <th>7</th>\n",
       "      <td>335839</td>\n",
       "      <td>C1</td>\n",
       "      <td>C19</td>\n",
       "      <td>C1</td>\n",
       "      <td>C17</td>\n",
       "      <td>A1</td>\n",
       "      <td>B1</td>\n",
       "      <td>41769.26</td>\n",
       "      <td>0.00</td>\n",
       "      <td>regular</td>\n",
       "    </tr>\n",
       "    <tr>\n",
       "      <th>8</th>\n",
       "      <td>369064</td>\n",
       "      <td>C4</td>\n",
       "      <td>C40</td>\n",
       "      <td>C9</td>\n",
       "      <td>C97</td>\n",
       "      <td>A2</td>\n",
       "      <td>B1</td>\n",
       "      <td>44309.79</td>\n",
       "      <td>0.00</td>\n",
       "      <td>regular</td>\n",
       "    </tr>\n",
       "    <tr>\n",
       "      <th>9</th>\n",
       "      <td>138724</td>\n",
       "      <td>C6</td>\n",
       "      <td>C69</td>\n",
       "      <td>C1</td>\n",
       "      <td>C12</td>\n",
       "      <td>A2</td>\n",
       "      <td>B1</td>\n",
       "      <td>466720.45</td>\n",
       "      <td>43843.00</td>\n",
       "      <td>regular</td>\n",
       "    </tr>\n",
       "  </tbody>\n",
       "</table>\n",
       "</div>"
      ],
      "text/plain": [
       "    BELNR WAERS BUKRS KTOSL PRCTR BSCHL HKONT       DMBTR       WRBTR    label\n",
       "0  288203    C3   C31    C9   C92    A3    B1   280979.60        0.00  regular\n",
       "1  324441    C1   C18    C7   C76    A1    B2   129856.53   243343.00  regular\n",
       "2  133537    C1   C19    C2   C20    A1    B3   957463.97  3183838.41  regular\n",
       "3  331521    C4   C48    C9   C95    A2    B1  2681709.51    28778.00  regular\n",
       "4  375333    C5   C58    C1   C19    A3    B1   910514.49      346.00  regular\n",
       "5  327203    C1   C15    C6   C68    A1    B2   357627.56   704520.00  regular\n",
       "6  292545    C4   C47    C2   C28    A2    B3   955576.84   128328.00  regular\n",
       "7  335839    C1   C19    C1   C17    A1    B1    41769.26        0.00  regular\n",
       "8  369064    C4   C40    C9   C97    A2    B1    44309.79        0.00  regular\n",
       "9  138724    C6   C69    C1   C12    A2    B1   466720.45    43843.00  regular"
      ]
     },
     "execution_count": 12,
     "metadata": {},
     "output_type": "execute_result"
    }
   ],
   "source": [
    "# inspect top rows of dataset\n",
    "ori_dataset.head(10)"
   ]
  },
  {
   "cell_type": "markdown",
   "metadata": {},
   "source": [
    "### 2. Datenvalidierung"
   ]
  },
  {
   "cell_type": "markdown",
   "metadata": {},
   "source": [
    "Verifikation der Vollständigkeit der zu analysierenden Daten:"
   ]
  },
  {
   "cell_type": "code",
   "execution_count": 13,
   "metadata": {},
   "outputs": [
    {
     "name": "stdout",
     "output_type": "stream",
     "text": [
      "[LOG 20200111-11:04:49] Buchungsdaten bestehend aus 533009 Zeilen und 10 Spalten geladen.\n"
     ]
    }
   ],
   "source": [
    "now = dt.datetime.utcnow().strftime(\"%Y%m%d-%H:%M:%S\")\n",
    "print('[LOG {}] Buchungsdaten bestehend aus {} Zeilen und {} Spalten geladen.'.format(now, ori_dataset.shape[0], ori_dataset.shape[1]))"
   ]
  },
  {
   "cell_type": "markdown",
   "metadata": {},
   "source": [
    "Analyse der Verteilung der regulären und ungewöhnlichen Buchungen des Datensatz:"
   ]
  },
  {
   "cell_type": "code",
   "execution_count": 14,
   "metadata": {},
   "outputs": [
    {
     "data": {
      "text/plain": [
       "regular    532909\n",
       "global         70\n",
       "local          30\n",
       "Name: label, dtype: int64"
      ]
     },
     "execution_count": 14,
     "metadata": {},
     "output_type": "execute_result"
    }
   ],
   "source": [
    "ori_dataset.label.value_counts()"
   ]
  },
  {
   "cell_type": "markdown",
   "metadata": {},
   "source": [
    "Die Statistik zeigt, dass, ähnlich wie in der realen Welt, ein sehr unbalanciertes Verhältnis zwischen regulären Buchungen und Anomalien besteht. Insgesamt enthält der Datensatz nur einen kleinen Bruchteil von 100  anomalen Transaktionen (0,018% der Gesamtdaten). Während die 100 anomalen Einträge **70 (0,013%)** \"globale\" Anomalien und **30 (0,005%)** \"lokale\" Anomalien umfassen."
   ]
  },
  {
   "cell_type": "markdown",
   "metadata": {},
   "source": [
    "### 3. Datenaufbereitung"
   ]
  },
  {
   "cell_type": "markdown",
   "metadata": {},
   "source": [
    "Entfernung der `label` Information der einzelnen Buchungen:"
   ]
  },
  {
   "cell_type": "code",
   "execution_count": 15,
   "metadata": {},
   "outputs": [],
   "source": [
    "label = ori_dataset.pop('label')"
   ]
  },
  {
   "cell_type": "markdown",
   "metadata": {},
   "source": [
    "#### 3.2. Aufbereitung kategorischer Datenfelder"
   ]
  },
  {
   "cell_type": "markdown",
   "metadata": {},
   "source": [
    "Aus der ersten Inaugenscheinnahme der Buchungen ist zu erkennen, dass die Mehrzahl der in AIS- und ERP-Systemen erfassten Merkmale kategorialen (diskreten) Merkmalswerten entsprechen, z.B. das Buchungsdatum, das Hauptbuchkonto, die Art der Buchung oder Währung. Lassen Sie uns die Werteverteilung zwei der Merkmale im Datenbestand im Detail anschauen bzw. visualisieren, d.h. die Verteilung der verwendeten (1) Buchungsschlüssel (Merkmal `BSCHL`) sowie die Verteilung der gebuchten (2) das Hauptbuchkonten (Merkmal `HKONT`):"
   ]
  },
  {
   "cell_type": "code",
   "execution_count": 16,
   "metadata": {},
   "outputs": [
    {
     "data": {
      "image/png": "[encoded data removed]",
      "text/plain": [
       "<Figure size 1440x288 with 2 Axes>"
      ]
     },
     "metadata": {
      "needs_background": "light"
     },
     "output_type": "display_data"
    }
   ],
   "source": [
    "# initialisierung des Plots\n",
    "fig, ax = plt.subplots(1,2)\n",
    "\n",
    "# setzen der Breite des Plots\n",
    "fig.set_figwidth(20)\n",
    "\n",
    "# zeichnen der Verteilung des Merkmals \"Buchungsschlüssel\"\n",
    "g = sns.countplot(x=ori_dataset['BSCHL'], ax=ax[0])\n",
    "\n",
    "# rotation der x-Achsenbeschriftung\n",
    "g.set_xticklabels(g.get_xticklabels(), rotation=90)\n",
    "\n",
    "# hinzufügen des Titels des ersten Plots\n",
    "g.set_title('Distribution of BSCHL attribute values')\n",
    "\n",
    "# zeichnen der Verteilung des Merkmals \"Hauptbuchkonto\"\n",
    "g = sns.countplot(x=ori_dataset['HKONT'], ax=ax[1])\n",
    "\n",
    "# rotation der x-Achsenbeschriftung\n",
    "g.set_xticklabels(g.get_xticklabels(), rotation=90)\n",
    "\n",
    "# hinzufügen des Titels des zweiten Plots\n",
    "g.set_title('Distribution of HKONT attribute values');"
   ]
  },
  {
   "cell_type": "markdown",
   "metadata": {},
   "source": [
    "Neuronale Netze sind im Allgemeinen nicht dafür ausgelegt, unmittelbar auf kategorischen (d.h. nicht-nummerischen) Daten trainiert zu werden. Sie erfordern vielmehr, eine numerische Darstellung der Trainings- und Evaluationsdaten. \n",
    "\n",
    "Eine \"einfache\" Möglichkeit, dieser Anforderung zu genügen, ist die Anwendung einer Technik, die als **\"One-Hot\"-Kodierung** bezeichnet wird. Unter Verwendung dieser Kodierungstechnik werden wir eine numerische Darstellung jedes kategorischen Merkmals ableiten. Die One-Hot-Kodierung erzeugt hierbei neue binäre Spalten für jeden kategorischen Merkmalswert, der in den Buchungsdaten vorhanden ist. \n",
    "\n",
    "Lassen Sie uns dies Anhand ein kleinen Beispiel verdeutlichen: Das **kategorische Attribut \"Receiver (Empfänger)\"** in der unten dargestellten Tabelle enthält die Namen \"John\", \"Timur\" und \"Marco\". Wir kodieren die Namen \"one-hot\", indem wir für jeden möglichen Namenswert, der in der Spalte \"Empfänger\" zu beobachten ist, eine eigene binäre Spalte erstellen. In einem nächsten Schritt kodieren wir für jede Transaktion, die den Wert \"John\" in der \"Empfänger\"-Spalte enthält, diese Beobachtung mit 1.0 in der neu erstellten \"John\"-Spalte und 0.0 in allen übrigen erstellten Namensspalten (analog hierzu gehen wir für die Werte \"Timur\" und \"Marco\" vor)."
   ]
  },
  {
   "cell_type": "markdown",
   "metadata": {},
   "source": [
    "<img align=\"middle\" style=\"max-width: 430px; height: auto\" src=\"01_images/encoding.png\">"
   ]
  },
  {
   "cell_type": "markdown",
   "metadata": {},
   "source": [
    "Unter Anwendung dieses Verfahrens werden die insgesamt sechs kategorischen Merkmale innerhalb des Datensatzes \"one-hot\" kodiert. Diese Kodierung kann, wie nachfolgend, unter Verwendung der `get_dummies()` Funktion erfolgen, die in der Pandas Data Science Library verfügbar ist:"
   ]
  },
  {
   "cell_type": "code",
   "execution_count": 17,
   "metadata": {},
   "outputs": [],
   "source": [
    "# auswahl der kategorischen Merkmale\n",
    "categorical_attr_names = ['KTOSL', 'PRCTR', 'BSCHL', 'HKONT', 'WAERS', 'BUKRS']\n",
    "\n",
    "# one-hot Kodierung der ausgewählten kategorischen Merkmale\n",
    "ori_dataset_categ_transformed = pd.get_dummies(ori_dataset[categorical_attr_names])"
   ]
  },
  {
   "cell_type": "markdown",
   "metadata": {},
   "source": [
    "Stichprobenhafte Verfikation der kodierten kategorischen Merkmale:"
   ]
  },
  {
   "cell_type": "code",
   "execution_count": 18,
   "metadata": {},
   "outputs": [
    {
     "data": {
      "text/html": [
       "<div>\n",
       "<style scoped>\n",
       "    .dataframe tbody tr th:only-of-type {\n",
       "        vertical-align: middle;\n",
       "    }\n",
       "\n",
       "    .dataframe tbody tr th {\n",
       "        vertical-align: top;\n",
       "    }\n",
       "\n",
       "    .dataframe thead th {\n",
       "        text-align: right;\n",
       "    }\n",
       "</style>\n",
       "<table border=\"1\" class=\"dataframe\">\n",
       "  <thead>\n",
       "    <tr style=\"text-align: right;\">\n",
       "      <th></th>\n",
       "      <th>KTOSL_A19</th>\n",
       "      <th>KTOSL_B06</th>\n",
       "      <th>KTOSL_B12</th>\n",
       "      <th>KTOSL_B83</th>\n",
       "      <th>KTOSL_C1</th>\n",
       "      <th>KTOSL_C2</th>\n",
       "      <th>KTOSL_C3</th>\n",
       "      <th>KTOSL_C39</th>\n",
       "      <th>KTOSL_C4</th>\n",
       "      <th>KTOSL_C5</th>\n",
       "      <th>...</th>\n",
       "      <th>BUKRS_W67</th>\n",
       "      <th>BUKRS_W69</th>\n",
       "      <th>BUKRS_W71</th>\n",
       "      <th>BUKRS_W77</th>\n",
       "      <th>BUKRS_W86</th>\n",
       "      <th>BUKRS_X34</th>\n",
       "      <th>BUKRS_Y41</th>\n",
       "      <th>BUKRS_Y63</th>\n",
       "      <th>BUKRS_Z78</th>\n",
       "      <th>BUKRS_Z98</th>\n",
       "    </tr>\n",
       "  </thead>\n",
       "  <tbody>\n",
       "    <tr>\n",
       "      <th>0</th>\n",
       "      <td>0</td>\n",
       "      <td>0</td>\n",
       "      <td>0</td>\n",
       "      <td>0</td>\n",
       "      <td>0</td>\n",
       "      <td>0</td>\n",
       "      <td>0</td>\n",
       "      <td>0</td>\n",
       "      <td>0</td>\n",
       "      <td>0</td>\n",
       "      <td>...</td>\n",
       "      <td>0</td>\n",
       "      <td>0</td>\n",
       "      <td>0</td>\n",
       "      <td>0</td>\n",
       "      <td>0</td>\n",
       "      <td>0</td>\n",
       "      <td>0</td>\n",
       "      <td>0</td>\n",
       "      <td>0</td>\n",
       "      <td>0</td>\n",
       "    </tr>\n",
       "    <tr>\n",
       "      <th>1</th>\n",
       "      <td>0</td>\n",
       "      <td>0</td>\n",
       "      <td>0</td>\n",
       "      <td>0</td>\n",
       "      <td>0</td>\n",
       "      <td>0</td>\n",
       "      <td>0</td>\n",
       "      <td>0</td>\n",
       "      <td>0</td>\n",
       "      <td>0</td>\n",
       "      <td>...</td>\n",
       "      <td>0</td>\n",
       "      <td>0</td>\n",
       "      <td>0</td>\n",
       "      <td>0</td>\n",
       "      <td>0</td>\n",
       "      <td>0</td>\n",
       "      <td>0</td>\n",
       "      <td>0</td>\n",
       "      <td>0</td>\n",
       "      <td>0</td>\n",
       "    </tr>\n",
       "    <tr>\n",
       "      <th>2</th>\n",
       "      <td>0</td>\n",
       "      <td>0</td>\n",
       "      <td>0</td>\n",
       "      <td>0</td>\n",
       "      <td>0</td>\n",
       "      <td>1</td>\n",
       "      <td>0</td>\n",
       "      <td>0</td>\n",
       "      <td>0</td>\n",
       "      <td>0</td>\n",
       "      <td>...</td>\n",
       "      <td>0</td>\n",
       "      <td>0</td>\n",
       "      <td>0</td>\n",
       "      <td>0</td>\n",
       "      <td>0</td>\n",
       "      <td>0</td>\n",
       "      <td>0</td>\n",
       "      <td>0</td>\n",
       "      <td>0</td>\n",
       "      <td>0</td>\n",
       "    </tr>\n",
       "    <tr>\n",
       "      <th>3</th>\n",
       "      <td>0</td>\n",
       "      <td>0</td>\n",
       "      <td>0</td>\n",
       "      <td>0</td>\n",
       "      <td>0</td>\n",
       "      <td>0</td>\n",
       "      <td>0</td>\n",
       "      <td>0</td>\n",
       "      <td>0</td>\n",
       "      <td>0</td>\n",
       "      <td>...</td>\n",
       "      <td>0</td>\n",
       "      <td>0</td>\n",
       "      <td>0</td>\n",
       "      <td>0</td>\n",
       "      <td>0</td>\n",
       "      <td>0</td>\n",
       "      <td>0</td>\n",
       "      <td>0</td>\n",
       "      <td>0</td>\n",
       "      <td>0</td>\n",
       "    </tr>\n",
       "    <tr>\n",
       "      <th>4</th>\n",
       "      <td>0</td>\n",
       "      <td>0</td>\n",
       "      <td>0</td>\n",
       "      <td>0</td>\n",
       "      <td>1</td>\n",
       "      <td>0</td>\n",
       "      <td>0</td>\n",
       "      <td>0</td>\n",
       "      <td>0</td>\n",
       "      <td>0</td>\n",
       "      <td>...</td>\n",
       "      <td>0</td>\n",
       "      <td>0</td>\n",
       "      <td>0</td>\n",
       "      <td>0</td>\n",
       "      <td>0</td>\n",
       "      <td>0</td>\n",
       "      <td>0</td>\n",
       "      <td>0</td>\n",
       "      <td>0</td>\n",
       "      <td>0</td>\n",
       "    </tr>\n",
       "    <tr>\n",
       "      <th>5</th>\n",
       "      <td>0</td>\n",
       "      <td>0</td>\n",
       "      <td>0</td>\n",
       "      <td>0</td>\n",
       "      <td>0</td>\n",
       "      <td>0</td>\n",
       "      <td>0</td>\n",
       "      <td>0</td>\n",
       "      <td>0</td>\n",
       "      <td>0</td>\n",
       "      <td>...</td>\n",
       "      <td>0</td>\n",
       "      <td>0</td>\n",
       "      <td>0</td>\n",
       "      <td>0</td>\n",
       "      <td>0</td>\n",
       "      <td>0</td>\n",
       "      <td>0</td>\n",
       "      <td>0</td>\n",
       "      <td>0</td>\n",
       "      <td>0</td>\n",
       "    </tr>\n",
       "    <tr>\n",
       "      <th>6</th>\n",
       "      <td>0</td>\n",
       "      <td>0</td>\n",
       "      <td>0</td>\n",
       "      <td>0</td>\n",
       "      <td>0</td>\n",
       "      <td>1</td>\n",
       "      <td>0</td>\n",
       "      <td>0</td>\n",
       "      <td>0</td>\n",
       "      <td>0</td>\n",
       "      <td>...</td>\n",
       "      <td>0</td>\n",
       "      <td>0</td>\n",
       "      <td>0</td>\n",
       "      <td>0</td>\n",
       "      <td>0</td>\n",
       "      <td>0</td>\n",
       "      <td>0</td>\n",
       "      <td>0</td>\n",
       "      <td>0</td>\n",
       "      <td>0</td>\n",
       "    </tr>\n",
       "    <tr>\n",
       "      <th>7</th>\n",
       "      <td>0</td>\n",
       "      <td>0</td>\n",
       "      <td>0</td>\n",
       "      <td>0</td>\n",
       "      <td>1</td>\n",
       "      <td>0</td>\n",
       "      <td>0</td>\n",
       "      <td>0</td>\n",
       "      <td>0</td>\n",
       "      <td>0</td>\n",
       "      <td>...</td>\n",
       "      <td>0</td>\n",
       "      <td>0</td>\n",
       "      <td>0</td>\n",
       "      <td>0</td>\n",
       "      <td>0</td>\n",
       "      <td>0</td>\n",
       "      <td>0</td>\n",
       "      <td>0</td>\n",
       "      <td>0</td>\n",
       "      <td>0</td>\n",
       "    </tr>\n",
       "    <tr>\n",
       "      <th>8</th>\n",
       "      <td>0</td>\n",
       "      <td>0</td>\n",
       "      <td>0</td>\n",
       "      <td>0</td>\n",
       "      <td>0</td>\n",
       "      <td>0</td>\n",
       "      <td>0</td>\n",
       "      <td>0</td>\n",
       "      <td>0</td>\n",
       "      <td>0</td>\n",
       "      <td>...</td>\n",
       "      <td>0</td>\n",
       "      <td>0</td>\n",
       "      <td>0</td>\n",
       "      <td>0</td>\n",
       "      <td>0</td>\n",
       "      <td>0</td>\n",
       "      <td>0</td>\n",
       "      <td>0</td>\n",
       "      <td>0</td>\n",
       "      <td>0</td>\n",
       "    </tr>\n",
       "    <tr>\n",
       "      <th>9</th>\n",
       "      <td>0</td>\n",
       "      <td>0</td>\n",
       "      <td>0</td>\n",
       "      <td>0</td>\n",
       "      <td>1</td>\n",
       "      <td>0</td>\n",
       "      <td>0</td>\n",
       "      <td>0</td>\n",
       "      <td>0</td>\n",
       "      <td>0</td>\n",
       "      <td>...</td>\n",
       "      <td>0</td>\n",
       "      <td>0</td>\n",
       "      <td>0</td>\n",
       "      <td>0</td>\n",
       "      <td>0</td>\n",
       "      <td>0</td>\n",
       "      <td>0</td>\n",
       "      <td>0</td>\n",
       "      <td>0</td>\n",
       "      <td>0</td>\n",
       "    </tr>\n",
       "  </tbody>\n",
       "</table>\n",
       "<p>10 rows × 616 columns</p>\n",
       "</div>"
      ],
      "text/plain": [
       "   KTOSL_A19  KTOSL_B06  KTOSL_B12  KTOSL_B83  KTOSL_C1  KTOSL_C2  KTOSL_C3  \\\n",
       "0          0          0          0          0         0         0         0   \n",
       "1          0          0          0          0         0         0         0   \n",
       "2          0          0          0          0         0         1         0   \n",
       "3          0          0          0          0         0         0         0   \n",
       "4          0          0          0          0         1         0         0   \n",
       "5          0          0          0          0         0         0         0   \n",
       "6          0          0          0          0         0         1         0   \n",
       "7          0          0          0          0         1         0         0   \n",
       "8          0          0          0          0         0         0         0   \n",
       "9          0          0          0          0         1         0         0   \n",
       "\n",
       "   KTOSL_C39  KTOSL_C4  KTOSL_C5  ...  BUKRS_W67  BUKRS_W69  BUKRS_W71  \\\n",
       "0          0         0         0  ...          0          0          0   \n",
       "1          0         0         0  ...          0          0          0   \n",
       "2          0         0         0  ...          0          0          0   \n",
       "3          0         0         0  ...          0          0          0   \n",
       "4          0         0         0  ...          0          0          0   \n",
       "5          0         0         0  ...          0          0          0   \n",
       "6          0         0         0  ...          0          0          0   \n",
       "7          0         0         0  ...          0          0          0   \n",
       "8          0         0         0  ...          0          0          0   \n",
       "9          0         0         0  ...          0          0          0   \n",
       "\n",
       "   BUKRS_W77  BUKRS_W86  BUKRS_X34  BUKRS_Y41  BUKRS_Y63  BUKRS_Z78  BUKRS_Z98  \n",
       "0          0          0          0          0          0          0          0  \n",
       "1          0          0          0          0          0          0          0  \n",
       "2          0          0          0          0          0          0          0  \n",
       "3          0          0          0          0          0          0          0  \n",
       "4          0          0          0          0          0          0          0  \n",
       "5          0          0          0          0          0          0          0  \n",
       "6          0          0          0          0          0          0          0  \n",
       "7          0          0          0          0          0          0          0  \n",
       "8          0          0          0          0          0          0          0  \n",
       "9          0          0          0          0          0          0          0  \n",
       "\n",
       "[10 rows x 616 columns]"
      ]
     },
     "execution_count": 18,
     "metadata": {},
     "output_type": "execute_result"
    }
   ],
   "source": [
    "ori_dataset_categ_transformed.head(10)"
   ]
  },
  {
   "cell_type": "markdown",
   "metadata": {},
   "source": [
    "#### 3.3. Aufbereitung numerischer Datenfelder"
   ]
  },
  {
   "cell_type": "markdown",
   "metadata": {},
   "source": [
    "Betrachten wir nun die Verteilungen der beiden numerischen Merkmale des Datensatzes, nämlich den (1) Betrag in Systemwährung (Merkmal `DMBTR`) und den (2) Betrag in Belegwährung (Merkmal `WRBTR`):"
   ]
  },
  {
   "cell_type": "code",
   "execution_count": 19,
   "metadata": {},
   "outputs": [
    {
     "data": {
      "image/png": "[encoded data removed]",
      "text/plain": [
       "<Figure size 1440x288 with 2 Axes>"
      ]
     },
     "metadata": {
      "needs_background": "light"
     },
     "output_type": "display_data"
    }
   ],
   "source": [
    "# initialisierung des Plots\n",
    "fig, ax = plt.subplots(1,2)\n",
    "\n",
    "# setzen der Breite des Plots\n",
    "fig.set_figwidth(20)\n",
    "\n",
    "# zeichnen der Verteilung des Merkmals \"Betrag in Systemwährung\"\n",
    "g = sns.distplot(ori_dataset['DMBTR'].tolist(), ax=ax[0])\n",
    "\n",
    "# hinzufügen des Titels des ersten Plots\n",
    "g.set_title('Distribution of DMBTR amount values')\n",
    "\n",
    "# zeichnen der Verteilung des Merkmals \"Betrag in Belegwährung\"\n",
    "g = sns.distplot(ori_dataset['WRBTR'].tolist(), ax=ax[1])\n",
    "\n",
    "# hinzufügen des Titels des zweiten Plots\n",
    "g.set_title('Distribution of WRBTR amount values');"
   ]
  },
  {
   "cell_type": "markdown",
   "metadata": {},
   "source": [
    "Erwartungsgemäß ist zu beobachten, dass für beide Attributen die Betragswertverteilungen sich stark innerhalb des Wertebereichs geringer Buchungsbeträge konzentriert. Um im Rahmen des Modelltrainings schneller zu einem hinreichend optimalen Modell zu konvergieren ist es sinnvoll, die numerischen Eingabewerte entsprechend zu skalieren und zu normieren. Nachfolgend werden deshalb die Betragsausprägungen beider Merkmale logarithmisch skaliert und anschließend die skalierten Beträge auf das Intervall [0, 1] min-max normiert."
   ]
  },
  {
   "cell_type": "code",
   "execution_count": 20,
   "metadata": {},
   "outputs": [],
   "source": [
    "# auswahl der numerischen Merkmale\n",
    "numeric_attr_names = ['DMBTR', 'WRBTR']\n",
    "\n",
    "# hinzfügen eines kleinen Wertes zur Umgehung der log(0) undefiniertheit\n",
    "numeric_attr = ori_dataset[numeric_attr_names] + 1e-7\n",
    "\n",
    "# logarithmische Skalierung der Beträge\n",
    "numeric_attr = numeric_attr.apply(np.log)\n",
    "\n",
    "# normalisierung der Werte auf das Intervall [0, 1]\n",
    "ori_dataset_numeric_attr = (numeric_attr - numeric_attr.min()) / (numeric_attr.max() - numeric_attr.min())"
   ]
  },
  {
   "cell_type": "markdown",
   "metadata": {},
   "source": [
    "Visualiserung der logarithmisch skalierten und min-max normierten Betragsverteilungen beider Merkmale:"
   ]
  },
  {
   "cell_type": "code",
   "execution_count": 21,
   "metadata": {},
   "outputs": [
    {
     "data": {
      "image/png": "[encoded data removed]",
      "text/plain": [
       "<Figure size 1080x360 with 6 Axes>"
      ]
     },
     "metadata": {
      "needs_background": "light"
     },
     "output_type": "display_data"
    }
   ],
   "source": [
    "# hinzufügen des labels im Rahmen der Visalisierung\n",
    "numeric_attr_vis = ori_dataset_numeric_attr.copy()\n",
    "numeric_attr_vis['label'] = label\n",
    "\n",
    "# zeichnen der Verteilung der Merkmale \"Betrag in Systemwährung\" und \"Betrag in Belegwährung\"\n",
    "g = sns.pairplot(data=numeric_attr_vis, vars=numeric_attr_names, hue='label')\n",
    "\n",
    "# setzen der Länge und Breite des Plots\n",
    "g.fig.set_size_inches(15, 5)\n",
    "\n",
    "# hinzufügen des Titels\n",
    "g.fig.suptitle('Distribution of DMBTR vs. WRBTR amount values');"
   ]
  },
  {
   "cell_type": "markdown",
   "metadata": {},
   "source": [
    "Wie erwartet fallen die numerischen Merkmalswerte der \"globalen\" Anomalien (grün) aufgrund ihrer ungewöhnlich hohen Betragswerte außerhalb des Bereichs der regulären Betragsverteilungen. Im Gegensatz dazu lassen sich die numerischen Attributwerte der \"lokalen\" Anomalien (orange) innerhalb der regulären Transaktionsbeträge beobachten."
   ]
  },
  {
   "cell_type": "markdown",
   "metadata": {},
   "source": [
    "#### 3.4. Zusammenführen der aufbereiteten Datenfelder"
   ]
  },
  {
   "cell_type": "markdown",
   "metadata": {},
   "source": [
    "Schließlich fügen wir sowohl die vorverarbeiteten numerischen als auch die kategorischen Merkmale zu einem einzigen Datensatz zusammen. Dieser wird anschließend für das Training des Neuronalen Autoencoder Netzes verwendet:"
   ]
  },
  {
   "cell_type": "code",
   "execution_count": 22,
   "metadata": {},
   "outputs": [],
   "source": [
    "ori_subset_transformed = pd.concat([ori_dataset_categ_transformed, ori_dataset_numeric_attr], axis = 1)"
   ]
  },
  {
   "cell_type": "markdown",
   "metadata": {},
   "source": [
    "Verfikation der Dimensionalität des Datensatzes nach der Zusammenführung beider klassen vorverabeiteter Buchungsmerkmale:"
   ]
  },
  {
   "cell_type": "code",
   "execution_count": 23,
   "metadata": {},
   "outputs": [
    {
     "data": {
      "text/plain": [
       "(533009, 618)"
      ]
     },
     "execution_count": 23,
     "metadata": {},
     "output_type": "execute_result"
    }
   ],
   "source": [
    "ori_subset_transformed.shape"
   ]
  },
  {
   "cell_type": "markdown",
   "metadata": {},
   "source": [
    "Nach Abschluss aller Vorverarbeitungsschritte umfasst der Datensatz, insgesamt 533.009 Buchungen (Zeilen) und **618 kodierte Buchungsmerkmale** (Spalten). Die Anzahl der kodierten Buchungsmerkmale werden wir nachfolgend benötigen, da sie die Dimensionalität der Ein- und Ausgabeschicht des zu implementierenden Neuronalen Autoencoder Netzes determiniert."
   ]
  },
  {
   "cell_type": "markdown",
   "metadata": {},
   "source": [
    "### 4. Maschinelle Lern- und Analyseverfahren"
   ]
  },
  {
   "cell_type": "markdown",
   "metadata": {},
   "source": [
    "Das Ziel dieses Abschnitts ist es, uns mit der zugrunde liegenden Idee und der Architektur eines tiefen **Neuronalen Autoencoder Netzes (AENN)** vertraut zu machen. Wir werden die wichtigsten Bausteine und die spezifische Netzwerkstruktur von AENNs sowie eine beispielhafte Implementierung unter Verwendung der Open-Source-Bibliothek PyTorch für maschinelles Lernen behandeln."
   ]
  },
  {
   "cell_type": "markdown",
   "metadata": {},
   "source": [
    "<img align=\"center\" style=\"max-width: 800px; height: auto\" src=\"01_images/analytics.png\">"
   ]
  },
  {
   "cell_type": "markdown",
   "metadata": {},
   "source": [
    "#### 4.1. Architektur Neuronaler Autoencoder Netze"
   ]
  },
  {
   "cell_type": "markdown",
   "metadata": {},
   "source": [
    "AENNs oder \"Replicator Neural Networks\" sind eine Variante der allgemeinen feed-forward-neuronalen Netze, die ursprünglich von Hinton und Salakhutdinov in [1] eingeführt wurden. AENNs bestehen in der Regel aus einer **symmetrischen Netzwerkarchitektur** sowie einer zentralen, verborgenen Schicht, die als **\"latente \"** oder **\"Kodierungs \"schicht** bezeichnet wird und geringere Dimensionalität als die Eingabeschichten des Netzwerk aufweist. Dieses Design ist bewusst gewählt, da das Trainingsziel eines AENNs darin besteht, die Eingabedaten \"unsupervised\" aus einer niedrig dimensionalen Representation der Eingabedaten zu rekonstruieren."
   ]
  },
  {
   "cell_type": "markdown",
   "metadata": {},
   "source": [
    "<img align=\"middle\" style=\"max-width: 600px; height: auto\" src=\"01_images/autoencoder.png\">"
   ]
  },
  {
   "cell_type": "markdown",
   "metadata": {},
   "source": [
    "**Bild 3:** Schematische Darstellung eines Auto-Encoder-Netzwerks, das aus zwei nichtlinearen Projektionen (vollständig verbundene, vorwärtsgekoppelte neuronale Netze) besteht, die als Encoder Netzwerk $f_\\theta: \\mathbb{R}^{dx} \\mapsto \\mathbb{R}^{dz}$ und Decoder Netzwerk $g_\\theta: \\mathbb{R}^{dz} \\mapsto \\mathbb{R}^{dx}$ bezeichnet werden."
   ]
  },
  {
   "cell_type": "markdown",
   "metadata": {},
   "source": [
    "AENNs können als \"verlustbehaftete\" Daten **Kompressionsalgorithmen** interpretiert werden. Sie sind \"verlustbehaftet\" in dem Sinne, dass die rekonstruierten Ausgabedaten im Vergleich zu den ursprünglichen Eingabedaten einen Informationsverlust aufweisen. Die Differenz zwischen den ursprünglichen Eingangsdaten $x^i$ und ihrer jeweiligen Rekonstruktion $\\hat{x}^i$ wird oftmals als **Rekonstruktionsfehler** bezeichnet. \n",
    "\n",
    "Im Allgemeinen umfasst die Architektur eines Neuronalen Autoencoder Netzes die nachfolgenden drei Elemente:\n",
    "\n",
    "> 1. eine enkodierende Projektionsfunktion $f_\\theta$, \n",
    "> 2. eine dekodierende Projektionsfunktion $g_\\theta$, \n",
    "> 3. und einer Fehlerfunktion $\\mathcal{L_{\\theta}}$ zur Messung des Rekonstruktionsfehlers.\n",
    "\n",
    "Im Allgemeinen besteht die enkodierende und dekodierende Projektionsfunktion jeweils aus **mehreren Schichten künstliche Neuronen** parametrisiert durch die Parameter $\\theta$. Die enkodierende Projektion $f_\\theta(\\cdot)$ projeziert einen Eingangsvektor (z.B. eine \"one-hot\" kodierte Buchung) $x^i$ auf eine komprimierte (d.h. niedrig-dimensionale) Darstellung bezeichnet als Representation $z^i$. Der Raum in welcher diese niedrig-dimensionalen Projektionen leben werden gewöhnlich auch als **latenter Raum $Z$** bezeichnet.\n",
    "\n",
    "Die niedrig-dimensionalen Repräsentationen $z^i$ wird durch die dekodierende Projektion $g_\\theta(\\cdot)$ auf einen rekonstruierten Ausgabevektor $\\hat{x}^i$ des ursprünglichen Raumes (z.B. die rekonstruierte dekodierte Buchung) zurück abgebildet. Formal können diese nicht-linearen Enkodier- und Dekodierprojektionen wie nachfolgend definiert werden:"
   ]
  },
  {
   "cell_type": "markdown",
   "metadata": {},
   "source": [
    "<center>$f_\\theta(x^i) = s(Wx^i + b)$, and $g_\\theta(z^i) = s′(W′z^i + d)$,</center>"
   ]
  },
  {
   "cell_type": "markdown",
   "metadata": {},
   "source": [
    "wobei $s$ and $s′$ nicht-lineare Aktivierungsfunktionen mit Modellparametern $\\theta = \\{W, b, W', d\\}$ bezeichnen, $W \\in \\mathbb{R}^{d_x \\times d_z}, W' \\in \\mathbb{R}^{d_z \\times d_y}$ bezeichnen die Gewichtsmatritzen und $b \\in \\mathbb{R}^{dx}$, $d \\in \\mathbb{R}^{dz}$ bezeichnet die Biasvektoren."
   ]
  },
  {
   "cell_type": "markdown",
   "metadata": {},
   "source": [
    "#### 4.2. Implementierung Neuronaler Autoencoder Netze"
   ]
  },
  {
   "cell_type": "markdown",
   "metadata": {},
   "source": [
    "Beginnen wir nun mit der Implementierung des AENN, indem wir zunächst das Encoder-Netzwerk in PyTorch implementieren. Das Encoder-Netzwerk soll aus **neun vollständig verbundenen Neuronenschichten** bestehen. Die Anzahl der Neuronen pro Schicht wird hierbei wie folgt definiert: \"618-256-128-64-32-16-8-4-3\". Dies beschreibt, dass die erste Schicht aus insgesamt 618 Neuronen besteht (spezifiziert durch die Dimensionalität der Eingabedaten), die zweite Schicht aus insgesamt 256 Neuronen besteht und die nachfolgenden Schichten aus 128, 64, 32, 16, 8, 4 und 3 Neuronen bestehen."
   ]
  },
  {
   "cell_type": "markdown",
   "metadata": {},
   "source": [
    "Bitte beachten Sie einige Elemente der nachfolgenden Implementierung des Encoder-Netzwerkes:\n",
    "\n",
    ">- `self.encoder_Lx`: definiert die lineare Transformation einer Neuronenschicht $Wx + b$.\n",
    ">- `nn.init.xavier_uniform`: initialisert die Gewichte einer Neuronenschicht gemäß [3]. \n",
    ">- `self.encoder_Rx`: definiert die nichtlineare Transformation einen Neuronenschicht: $\\sigma(\\cdot)$.\n",
    "\n",
    "Wir verwenden sog. **\"Leaky ReLUs \"**, wie von Xu et al. in [2] eingeführt, um \"absterbende\" Neuronen zu vermeiden und die Trainingskonvergenz zu beschleunigen. Leaky ReLUs erlauben einen kleinen Gradientenwert, auch wenn ein bestimmtes Neuron nicht aktiv ist."
   ]
  },
  {
   "cell_type": "code",
   "execution_count": 24,
   "metadata": {},
   "outputs": [],
   "source": [
    "# implementierung des Encoder-Netzwerks\n",
    "class encoder(nn.Module):\n",
    "\n",
    "    def __init__(self):\n",
    "\n",
    "        super(encoder, self).__init__()\n",
    "\n",
    "        # spezifikation der Neuronenschicht 1 - Eingabe-Dimensionen 618, Ausgabe-Dimensionen 512\n",
    "        self.encoder_L1 = nn.Linear(in_features=ori_subset_transformed.shape[1], out_features=512, bias=True) # hinzufügen der linearität\n",
    "        nn.init.xavier_uniform_(self.encoder_L1.weight) # initialisiere die Gewichte entsprechend [3]\n",
    "        self.encoder_R1 = nn.LeakyReLU(negative_slope=0.4, inplace=True) # hinzufügen der nicht-linearität entsprechend [4]\n",
    "\n",
    "        # spezifikation der Neuronenschicht 2 - Eingabe 512, Ausgabe 256\n",
    "        self.encoder_L2 = nn.Linear(512, 256, bias=True)\n",
    "        nn.init.xavier_uniform_(self.encoder_L2.weight)\n",
    "        self.encoder_R2 = nn.LeakyReLU(negative_slope=0.4, inplace=True)\n",
    "\n",
    "        # spezifikation der Neuronenschicht 3 - Eingabe 256, Ausgabe 128\n",
    "        self.encoder_L3 = nn.Linear(256, 128, bias=True)\n",
    "        nn.init.xavier_uniform_(self.encoder_L3.weight)\n",
    "        self.encoder_R3 = nn.LeakyReLU(negative_slope=0.4, inplace=True)\n",
    "\n",
    "        # spezifikation der Neuronenschicht 4 - Eingabe 128, Ausgabe 64\n",
    "        self.encoder_L4 = nn.Linear(128, 64, bias=True)\n",
    "        nn.init.xavier_uniform_(self.encoder_L4.weight)\n",
    "        self.encoder_R4 = nn.LeakyReLU(negative_slope=0.4, inplace=True)\n",
    "\n",
    "        # spezifikation der Neuronenschicht 5 - Eingabe 64, Ausgabe 32\n",
    "        self.encoder_L5 = nn.Linear(64, 32, bias=True)\n",
    "        nn.init.xavier_uniform_(self.encoder_L5.weight)\n",
    "        self.encoder_R5 = nn.LeakyReLU(negative_slope=0.4, inplace=True)\n",
    "\n",
    "        # spezifikation der Neuronenschicht 6 - Eingabe 32, Ausgabe 16\n",
    "        self.encoder_L6 = nn.Linear(32, 16, bias=True)\n",
    "        nn.init.xavier_uniform_(self.encoder_L6.weight)\n",
    "        self.encoder_R6 = nn.LeakyReLU(negative_slope=0.4, inplace=True)\n",
    "\n",
    "        # spezifikation der Neuronenschicht 7 - Eingabe 16, Ausgabe 8\n",
    "        self.encoder_L7 = nn.Linear(16, 8, bias=True)\n",
    "        nn.init.xavier_uniform_(self.encoder_L7.weight)\n",
    "        self.encoder_R7 = nn.LeakyReLU(negative_slope=0.4, inplace=True)\n",
    "\n",
    "        # spezifikation der Neuronenschicht 8 - Eingabe 8, Ausgabe 4\n",
    "        self.encoder_L8 = nn.Linear(8, 4, bias=True)\n",
    "        nn.init.xavier_uniform_(self.encoder_L8.weight)\n",
    "        self.encoder_R8 = nn.LeakyReLU(negative_slope=0.4, inplace=True)\n",
    "\n",
    "        # spezifikation der Neuronenschicht 9 - Eingabe 4, Ausgabe 3\n",
    "        self.encoder_L9 = nn.Linear(4, 3, bias=True)\n",
    "        nn.init.xavier_uniform_(self.encoder_L9.weight)\n",
    "        self.encoder_R9 = nn.LeakyReLU(negative_slope=0.4, inplace=True)\n",
    "        \n",
    "    def forward(self, x):\n",
    "\n",
    "        # definition des Datenflusses durch das Encoder-Netzwerks\n",
    "        x = self.encoder_R1(self.encoder_L1(x))\n",
    "        x = self.encoder_R2(self.encoder_L2(x))\n",
    "        x = self.encoder_R3(self.encoder_L3(x))\n",
    "        x = self.encoder_R4(self.encoder_L4(x))\n",
    "        x = self.encoder_R5(self.encoder_L5(x))\n",
    "        x = self.encoder_R6(self.encoder_L6(x))\n",
    "        x = self.encoder_R7(self.encoder_L7(x))\n",
    "        x = self.encoder_R8(self.encoder_L8(x))\n",
    "        x = self.encoder_R9(self.encoder_L9(x))\n",
    "\n",
    "        return x"
   ]
  },
  {
   "cell_type": "markdown",
   "metadata": {},
   "source": [
    "Initialisierung des zuvor definierten Encoder-Netzwerks:"
   ]
  },
  {
   "cell_type": "code",
   "execution_count": 25,
   "metadata": {},
   "outputs": [],
   "source": [
    "encoder_train = encoder()"
   ]
  },
  {
   "cell_type": "markdown",
   "metadata": {},
   "source": [
    "Sobald das Netzwerk initialisiert wurde ist es mögllich die Netzwerkarchitektur durch Ausführung der nachfolgenden Befehle zu überprüfen:"
   ]
  },
  {
   "cell_type": "code",
   "execution_count": 26,
   "metadata": {},
   "outputs": [
    {
     "name": "stdout",
     "output_type": "stream",
     "text": [
      "[LOG 20200111-11:05:08] Encoder-Netzwerk Architektur:\n",
      "\n",
      "encoder(\n",
      "  (encoder_L1): Linear(in_features=618, out_features=512, bias=True)\n",
      "  (encoder_R1): LeakyReLU(negative_slope=0.4, inplace=True)\n",
      "  (encoder_L2): Linear(in_features=512, out_features=256, bias=True)\n",
      "  (encoder_R2): LeakyReLU(negative_slope=0.4, inplace=True)\n",
      "  (encoder_L3): Linear(in_features=256, out_features=128, bias=True)\n",
      "  (encoder_R3): LeakyReLU(negative_slope=0.4, inplace=True)\n",
      "  (encoder_L4): Linear(in_features=128, out_features=64, bias=True)\n",
      "  (encoder_R4): LeakyReLU(negative_slope=0.4, inplace=True)\n",
      "  (encoder_L5): Linear(in_features=64, out_features=32, bias=True)\n",
      "  (encoder_R5): LeakyReLU(negative_slope=0.4, inplace=True)\n",
      "  (encoder_L6): Linear(in_features=32, out_features=16, bias=True)\n",
      "  (encoder_R6): LeakyReLU(negative_slope=0.4, inplace=True)\n",
      "  (encoder_L7): Linear(in_features=16, out_features=8, bias=True)\n",
      "  (encoder_R7): LeakyReLU(negative_slope=0.4, inplace=True)\n",
      "  (encoder_L8): Linear(in_features=8, out_features=4, bias=True)\n",
      "  (encoder_R8): LeakyReLU(negative_slope=0.4, inplace=True)\n",
      "  (encoder_L9): Linear(in_features=4, out_features=3, bias=True)\n",
      "  (encoder_R9): LeakyReLU(negative_slope=0.4, inplace=True)\n",
      ")\n",
      "\n"
     ]
    }
   ],
   "source": [
    "now = dt.datetime.utcnow().strftime(\"%Y%m%d-%H:%M:%S\")\n",
    "print('[LOG {}] Encoder-Netzwerk Architektur:\\n\\n{}\\n'.format(now, encoder_train))"
   ]
  },
  {
   "cell_type": "markdown",
   "metadata": {},
   "source": [
    "Lassen Sie uns nun in einem nächsten Schritt die Architektur des AENN vervollständigen, indem wir das entsprechende Decoder-Netzwerk implementieren. Das Decoder-Netzwerk besteht ebenfalls aus neun vollständig miteinander verbundenen Neuronenschichten. Darüber hinaus soll das Decoder-Netzwerk die Architektur des Encoder-Netzwerks durch eine schichtweise Umkehrung \"3-4-8-16-32-64-128-256-618\" der Neuronenschichten des Encoder-Netzwerks **symmetrisch** spiegeln."
   ]
  },
  {
   "cell_type": "code",
   "execution_count": 27,
   "metadata": {},
   "outputs": [],
   "source": [
    "## implementierung des Decoder-Netzwerks\n",
    "class decoder(nn.Module):\n",
    "\n",
    "    def __init__(self):\n",
    "\n",
    "        super(decoder, self).__init__()\n",
    "\n",
    "        # spezifikation der Neuronenschicht 1 - Eingabe-Dimensionen 3, Ausgabe-Dimensionen 4\n",
    "        self.decoder_L1 = nn.Linear(in_features=3, out_features=4, bias=True) # hinzufügen der linearität\n",
    "        nn.init.xavier_uniform_(self.decoder_L1.weight)  # initialisiere die Gewichte entsprechend [3]\n",
    "        self.decoder_R1 = nn.LeakyReLU(negative_slope=0.4, inplace=True) # hinzufügen der nicht-linearität entsprechend [4]\n",
    "\n",
    "        # spezifikation der Neuronenschicht 2 - Eingabe 4, Ausgabe 8\n",
    "        self.decoder_L2 = nn.Linear(4, 8, bias=True)\n",
    "        nn.init.xavier_uniform_(self.decoder_L2.weight)\n",
    "        self.decoder_R2 = nn.LeakyReLU(negative_slope=0.4, inplace=True)\n",
    "\n",
    "        # spezifikation der Neuronenschicht 3 - Eingabe 8, Ausgabe 16\n",
    "        self.decoder_L3 = nn.Linear(8, 16, bias=True)\n",
    "        nn.init.xavier_uniform_(self.decoder_L3.weight)\n",
    "        self.decoder_R3 = nn.LeakyReLU(negative_slope=0.4, inplace=True)\n",
    "\n",
    "        # spezifikation der Neuronenschicht 4 - Eingabe 16, Ausgabe 32\n",
    "        self.decoder_L4 = nn.Linear(16, 32, bias=True)\n",
    "        nn.init.xavier_uniform_(self.decoder_L4.weight)\n",
    "        self.decoder_R4 = nn.LeakyReLU(negative_slope=0.4, inplace=True)\n",
    "\n",
    "        # spezifikation der Neuronenschicht 5 - Eingabe 32, Ausgabe 64\n",
    "        self.decoder_L5 = nn.Linear(32, 64, bias=True)\n",
    "        nn.init.xavier_uniform_(self.decoder_L5.weight)\n",
    "        self.decoder_R5 = nn.LeakyReLU(negative_slope=0.4, inplace=True)\n",
    "\n",
    "        # spezifikation der Neuronenschicht 6 - Eingabe 64, Ausgabe 128\n",
    "        self.decoder_L6 = nn.Linear(64, 128, bias=True)\n",
    "        nn.init.xavier_uniform_(self.decoder_L6.weight)\n",
    "        self.decoder_R6 = nn.LeakyReLU(negative_slope=0.4, inplace=True)\n",
    "        \n",
    "        # spezifikation der Neuronenschicht 7 - Eingabe 128, Ausgabe 256\n",
    "        self.decoder_L7 = nn.Linear(128, 256, bias=True)\n",
    "        nn.init.xavier_uniform_(self.decoder_L7.weight)\n",
    "        self.decoder_R7 = nn.LeakyReLU(negative_slope=0.4, inplace=True)\n",
    "\n",
    "        # spezifikation der Neuronenschicht 8 - Eingabe 256, Ausgabe 512\n",
    "        self.decoder_L8 = nn.Linear(256, 512, bias=True)\n",
    "        nn.init.xavier_uniform_(self.decoder_L8.weight)\n",
    "        self.decoder_R8 = nn.LeakyReLU(negative_slope=0.4, inplace=True)\n",
    "\n",
    "        # spezifikation der Neuronenschicht 9 - Eingabe 512, Ausgabe 618\n",
    "        self.decoder_L9 = nn.Linear(in_features=512, out_features=ori_subset_transformed.shape[1], bias=True)\n",
    "        nn.init.xavier_uniform_(self.decoder_L9.weight)\n",
    "        self.decoder_R9 = nn.LeakyReLU(negative_slope=0.4, inplace=True)\n",
    "\n",
    "    def forward(self, x):\n",
    "\n",
    "        # definition des Datenflusses durch das Decoder-Netzwerks\n",
    "        x = self.decoder_R1(self.decoder_L1(x))\n",
    "        x = self.decoder_R2(self.decoder_L2(x))\n",
    "        x = self.decoder_R3(self.decoder_L3(x))\n",
    "        x = self.decoder_R4(self.decoder_L4(x))\n",
    "        x = self.decoder_R5(self.decoder_L5(x))\n",
    "        x = self.decoder_R6(self.decoder_L6(x))\n",
    "        x = self.decoder_R7(self.decoder_L7(x))\n",
    "        x = self.decoder_R8(self.decoder_L8(x))\n",
    "        x = self.decoder_R9(self.decoder_L9(x))\n",
    "        \n",
    "        return x"
   ]
  },
  {
   "cell_type": "markdown",
   "metadata": {},
   "source": [
    "Initialisierung des zuvor definierten Decoder-Netzwerks und prüfen der Netzwerkarchitektur:"
   ]
  },
  {
   "cell_type": "code",
   "execution_count": 28,
   "metadata": {},
   "outputs": [
    {
     "name": "stdout",
     "output_type": "stream",
     "text": [
      "[LOG 20200111-11:05:08] decoder architecture:\n",
      "\n",
      "decoder(\n",
      "  (decoder_L1): Linear(in_features=3, out_features=4, bias=True)\n",
      "  (decoder_R1): LeakyReLU(negative_slope=0.4, inplace=True)\n",
      "  (decoder_L2): Linear(in_features=4, out_features=8, bias=True)\n",
      "  (decoder_R2): LeakyReLU(negative_slope=0.4, inplace=True)\n",
      "  (decoder_L3): Linear(in_features=8, out_features=16, bias=True)\n",
      "  (decoder_R3): LeakyReLU(negative_slope=0.4, inplace=True)\n",
      "  (decoder_L4): Linear(in_features=16, out_features=32, bias=True)\n",
      "  (decoder_R4): LeakyReLU(negative_slope=0.4, inplace=True)\n",
      "  (decoder_L5): Linear(in_features=32, out_features=64, bias=True)\n",
      "  (decoder_R5): LeakyReLU(negative_slope=0.4, inplace=True)\n",
      "  (decoder_L6): Linear(in_features=64, out_features=128, bias=True)\n",
      "  (decoder_R6): LeakyReLU(negative_slope=0.4, inplace=True)\n",
      "  (decoder_L7): Linear(in_features=128, out_features=256, bias=True)\n",
      "  (decoder_R7): LeakyReLU(negative_slope=0.4, inplace=True)\n",
      "  (decoder_L8): Linear(in_features=256, out_features=512, bias=True)\n",
      "  (decoder_R8): LeakyReLU(negative_slope=0.4, inplace=True)\n",
      "  (decoder_L9): Linear(in_features=512, out_features=618, bias=True)\n",
      "  (decoder_R9): LeakyReLU(negative_slope=0.4, inplace=True)\n",
      ")\n",
      "\n"
     ]
    }
   ],
   "source": [
    "# initialiserung des Decoder-Netzwerks\n",
    "decoder_train = decoder()\n",
    "    \n",
    "# prüfen der Netzwerkarchitektur\n",
    "now = dt.datetime.utcnow().strftime(\"%Y%m%d-%H:%M:%S\")\n",
    "print('[LOG {}] decoder architecture:\\n\\n{}\\n'.format(now, decoder_train))"
   ]
  },
  {
   "cell_type": "markdown",
   "metadata": {},
   "source": [
    "#### 4.2. Training Neuronaler Autoencoder Netze"
   ]
  },
  {
   "cell_type": "markdown",
   "metadata": {},
   "source": [
    "Nach Implementierung und Initialisierung des Neuronalen Autoencoder Netzes möchten wir in einem nächsten Schritt das Netzwerk trainieren. Bevor wir jedoch mit dem Training beginnen, ist es Zunächst notwendig eine geeignete Fehlerfunktion zu definieren. Erinnern Sie sich, dass wir unser Modell trainieren wollen, um einen Satz von Encoder-Decoder-Modellparametern $\\theta$ zu lernen, welche die Ähnlichkeit einer gegebenen Buchung $x^{i}$ und ihrer Rekonstruktion $\\hat{x}^{i} = g_\\theta(f_\\theta(x^{i}))$ so getreu wie möglich maximiert. \n",
    "\n",
    "Dabei ist das Trainingsziel, einen Satz optimaler Encoder-Decoder-Modellparameter $\\theta^*$ zu lernen, welche die Zielfunktion $\\arg\\min_{\\theta} \\|X - g_\\theta(f_\\theta(X))\\|$ über alle Buchungen $X$ optimiert. Um dieses Optimierungsziel zu erreichen, minimiert man üblicherweise eine Fehlerfunktion $\\mathcal{L_{\\theta}}$ als Teil des Netzwerktrainings. Nachfolgend werden wir im Rahmen des Netzwerktrainings den Rekonstruktionsfehler in Form des sogenannten **Binary-Cross-Entropy-Error (BCE)** minimieren. Die BCE-Fehlerfunktion ist formal definiert durch:"
   ]
  },
  {
   "cell_type": "markdown",
   "metadata": {},
   "source": [
    "<center> $\\mathcal{L^{BCE}_{\\theta}}(x^{i};\\hat{x}^{i}) = \\frac{1}{n}\\sum_{i=1}^{n}\\sum_{j=1}^{k} x^{i}_{j} ln(\\hat{x}^{i}_{j}) + (1-x^{i}_{j}) ln(1-\\hat{x}^{i}_{j})$, </center>"
   ]
  },
  {
   "cell_type": "markdown",
   "metadata": {},
   "source": [
    "für ein Set von $n$-Buchungen $x^{i}$, $i=1,...,n$ und ihre jeweiligen Rekonstruktionen $\\hat{x}^{i}$ über alle Buchungsmerkmale $j=1,...,k$. Im Rahmen des Netwerktrainings Trainings wird die Fehlerfunktion solche Modelle bestrafen, die zu einer hohen Unähnlichkeit zwischen den eingegebenen Journaleinträgen und ihren jeweiligen Rekonstruktionen führen. \n",
    "\n",
    "Eine Implementierung der BCE-Fehlerfunktion ist bereits in PyTorch verfügbar. Sie kann deshalb unmittelbar durch Ausführung des folgenden PyTorch-Befehls instanziiert werden:"
   ]
  },
  {
   "cell_type": "code",
   "execution_count": 29,
   "metadata": {},
   "outputs": [],
   "source": [
    "loss_function = nn.BCEWithLogitsLoss(reduction='mean')"
   ]
  },
  {
   "cell_type": "markdown",
   "metadata": {},
   "source": [
    "(Anmerkung: Die Aktivierung des Parameters `reduction` legt fest, dass die Verluste über alle Beobachtungen über jeden Mini-Batch an Trainingsbuchungen gemittelt werden).\n",
    "\n",
    "Basierend auf der Höhe des Fehlers für einen bestimmten Mini-Batch an Trainingsbuchungen berechnet PyTorch automatisiert die Gradienten. Basierend auf den ermittelten Gradienten, können anschließend die Parameter $\\theta$ des Neuronalen Autoencoder Netzes optimiert werden.\n",
    "\n",
    "Für die Optimierung der Parameter werden wir die **Adam-Optimierungsstrategie** wie in [5] vorgestellt verwenden. Darüber hinaus verwemdem wir eine Lernrate von $l = 0.001$ im Rahmen des Trainingsprozesses. Für jeden Mini-Batch optimiert die Adam-Optimierung hierbei die Werte der Encoder- und Decoder-Parameter $\\theta$ entsprechend der Höhe des Rekonstruktionsfehlers ermittelt anhand der BCE-Fehlerfunktion.\n",
    "\n",
    "Setzen der Lernrate und Definition der Optimerungsstrategie:"
   ]
  },
  {
   "cell_type": "code",
   "execution_count": 30,
   "metadata": {},
   "outputs": [],
   "source": [
    "# setzen der Lernrate\n",
    "learning_rate = 1e-3\n",
    "\n",
    "# definition der Optimierungsstrategie\n",
    "encoder_optimizer = torch.optim.Adam(encoder_train.parameters(), lr=learning_rate)\n",
    "decoder_optimizer = torch.optim.Adam(decoder_train.parameters(), lr=learning_rate)"
   ]
  },
  {
   "cell_type": "markdown",
   "metadata": {},
   "source": [
    "Beginnen wir nun mit dem Training eines entsprechenden Modells für **5 Trainingsepochen** und einer **Mini-Batch-Größe von 128** Buchungen pro Batch. Dies bedeutet, dass der gesamte Datensatz 5 mal in Tranchen von jeweils 128 Buchungen durch das AENN verabeitet wird. Hieraus ergibt sich eine Verarbeitung von insgesamt 4.165 Mini-Batches (533.009 Journaleinträge / 128 Journaleinträge pro Mini-Batch) pro Trainingsepoche"
   ]
  },
  {
   "cell_type": "code",
   "execution_count": 31,
   "metadata": {},
   "outputs": [],
   "source": [
    "# setzen der Anzahl der Trainingsepochen\n",
    "num_epochs = 5\n",
    "\n",
    "# setzen der Anzahl der Buchungen pro Mini-Batch\n",
    "mini_batch_size = 128"
   ]
  },
  {
   "cell_type": "markdown",
   "metadata": {},
   "source": [
    "Während der Trainingsphase werden kontinuerlich einzelne Mini-Batches von Buchungen durch das Neuronale Autoencoder Netzwerk verabeitet. Um die batchweise Bereitstellung der Daten während des Trainingsprozesses zu gewährleisten, nutzen wir die bereits durch PyTorch bereitgestellte `DataLoader` Funktionalität. Durch  das Aktivieren des Parameters `shuffle=True` werden zudem die Daten in jeder Epoche neu gemischt, bevor sie in das Netzwerk eingespeist werden. "
   ]
  },
  {
   "cell_type": "markdown",
   "metadata": {},
   "source": [
    "Konvertierung der Buchungsdaten und Initialiserung des PyTorch `DataLoader`'s:"
   ]
  },
  {
   "cell_type": "code",
   "execution_count": 32,
   "metadata": {},
   "outputs": [],
   "source": [
    "# konvertierung der Buchungsdaten in einen PyTorch tensor\n",
    "torch_dataset = torch.from_numpy(ori_subset_transformed.values).float()\n",
    "\n",
    "# initialisierung des PyTorch DataLoaders\n",
    "dataloader = DataLoader(torch_dataset, batch_size=mini_batch_size, shuffle=True)"
   ]
  },
  {
   "cell_type": "markdown",
   "metadata": {},
   "source": [
    "Schließlich beginnen wir mit dem Training des Neuronalen Autoencoder Netzwerks und der Ausbildung des Modells. Für jeden Mini-Batch an Buchungen werden hierbei die nachfolgenden vier Schritte im Rahmen des Trainings vollzogen:\n",
    "\n",
    ">1. Vorwärtsverarbeitung der Buchungen durch das Neuronale Autoencoder Netzwerk, \n",
    ">2. Berechnung des BCE-Rekonstruktionsfehlers $\\mathcal{L^{BCE}_{\\theta}}(x^{i};\\hat{x}^{i})$, \n",
    ">3. Rückwärtsverarbeitung des ermittelten Rekonstruktionsfehlers durch das Neuronale Autoencoder Netzwerk, \n",
    ">4. Aktualisieren der Netzwerkparameter des Encoders $f_\\theta(\\cdot)$ und Decoders $g_\\theta(\\cdot)$.\n",
    "\n",
    "Im Rahmen des Trainingsprozesses wird überwacht, ob der Rekonstruktionsfehler der einzelnen Buchungen mit fortschreitendem Training abnimmt. Deshalb messen wir nach jeder Trainingsepoche den Rekonstruktionsfehler des gesamten Datensatzes. Anhand dieser Auswertung lässt sich der Trainingsfortschritt bewerten bzw. ob der Rekonstruktionsfehler nach einer gewissen Anzahl Trainingsepochen konvergiert (was darauf hindeutet, dass sich die Modellgüte möglicherweise nicht weiter verbessert).\n",
    "\n",
    "Die nachfolgende Code-Zelle des Notebooks implementiert die einzelnen Schritte des Trainingsprozesses. Hierbei sollten den folgenden Befehlen des untenstehenden Netzwerk-Trainingscodes sollten besondere Beachtung geschenkt werden:\n",
    " \n",
    ">- `reconstruction_loss.backward()` berechnet die Gradienten basierend auf der Größe des Rekonstruktionsfehlers,\n",
    ">- `encoder_optimizer.step()` und `decoder_optimizer.step()` aktualisiert die Parameter des Encoder- und Decoder-Netzwerkes basierend auf dem Gradienten.\n",
    "\n",
    "Zusätzlich wollen wir nach jeder Trainingsepoche einen sog. Kontrollpunkt (\"Checkpoint\") des erlenten Modells speichern. Diese gespeicherten Kontrollpunkte enthalten eine Momentaufnahme aller Modellparameter zu einem bestimmten Trainingszeitpunkt (z.B. einer bestimmten Trainingsepoche). Im Allgemeinen ist es gute Praxis, die Kontrollpunkte in regelmäßigen Abständen während des Trainings zu speichern. Sollte das Training einmal unterbrochen werden, können Sie das Modelltraining einfach ausgehend vom letzten gespeicherten Kontrollpunkt weiterführen:\n",
    "\n",
    ">- `torch.save()`: speichert einen Kontrollpunkt der aktuellen Modellparameter in eine lokale Datei."
   ]
  },
  {
   "cell_type": "code",
   "execution_count": 33,
   "metadata": {},
   "outputs": [
    {
     "name": "stdout",
     "output_type": "stream",
     "text": [
      "[LOG 20200111-11:05:25] training status, epoch: [0001/0005], batch: 1000, loss: 0.0155, time required: 0:00:13.819903\n",
      "[LOG 20200111-11:05:42] training status, epoch: [0001/0005], batch: 2000, loss: 0.0118, time required: 0:00:16.737164\n",
      "[LOG 20200111-11:06:01] training status, epoch: [0001/0005], batch: 3000, loss: 0.0094, time required: 0:00:18.803346\n",
      "[LOG 20200111-11:06:21] training status, epoch: [0001/0005], batch: 4000, loss: 0.007, time required: 0:00:19.482370\n",
      "[LOG 20200111-11:06:39] training status, epoch: [0001/0005], loss: 0.0074817073\n",
      "[LOG 20200111-11:07:00] training status, epoch: [0002/0005], batch: 1000, loss: 0.0067, time required: 0:00:21.068071\n",
      "[LOG 20200111-11:07:22] training status, epoch: [0002/0005], batch: 2000, loss: 0.0068, time required: 0:00:21.732666\n",
      "[LOG 20200111-11:07:44] training status, epoch: [0002/0005], batch: 3000, loss: 0.0063, time required: 0:00:22.010851\n",
      "[LOG 20200111-11:08:07] training status, epoch: [0002/0005], batch: 4000, loss: 0.006, time required: 0:00:23.122055\n",
      "[LOG 20200111-11:08:34] training status, epoch: [0002/0005], loss: 0.0061762840\n",
      "[LOG 20200111-11:08:56] training status, epoch: [0003/0005], batch: 1000, loss: 0.0059, time required: 0:00:22.075113\n",
      "[LOG 20200111-11:09:19] training status, epoch: [0003/0005], batch: 2000, loss: 0.0066, time required: 0:00:22.529228\n",
      "[LOG 20200111-11:09:42] training status, epoch: [0003/0005], batch: 3000, loss: 0.0069, time required: 0:00:22.690348\n",
      "[LOG 20200111-11:10:04] training status, epoch: [0003/0005], batch: 4000, loss: 0.0058, time required: 0:00:22.899756\n",
      "[LOG 20200111-11:10:27] training status, epoch: [0003/0005], loss: 0.0102808727\n",
      "[LOG 20200111-11:10:50] training status, epoch: [0004/0005], batch: 1000, loss: 0.0053, time required: 0:00:22.368292\n",
      "[LOG 20200111-11:11:15] training status, epoch: [0004/0005], batch: 2000, loss: 0.0054, time required: 0:00:25.538842\n",
      "[LOG 20200111-11:11:39] training status, epoch: [0004/0005], batch: 3000, loss: 0.0048, time required: 0:00:23.550484\n",
      "[LOG 20200111-11:12:01] training status, epoch: [0004/0005], batch: 4000, loss: 0.0053, time required: 0:00:22.406737\n",
      "[LOG 20200111-11:12:28] training status, epoch: [0004/0005], loss: 0.0074451924\n",
      "[LOG 20200111-11:12:50] training status, epoch: [0005/0005], batch: 1000, loss: 0.0052, time required: 0:00:22.580812\n",
      "[LOG 20200111-11:13:13] training status, epoch: [0005/0005], batch: 2000, loss: 0.0051, time required: 0:00:22.972807\n",
      "[LOG 20200111-11:13:37] training status, epoch: [0005/0005], batch: 3000, loss: 0.0093, time required: 0:00:23.962163\n",
      "[LOG 20200111-11:14:01] training status, epoch: [0005/0005], batch: 4000, loss: 0.0062, time required: 0:00:23.555092\n",
      "[LOG 20200111-11:14:25] training status, epoch: [0005/0005], loss: 0.0050843842\n"
     ]
    }
   ],
   "source": [
    "# init collection of mini-batch losses\n",
    "losses = []\n",
    "\n",
    "# konvertiere die Buchungsdaten nach autograd\n",
    "data = autograd.Variable(torch_dataset)\n",
    "\n",
    "# iteriere über die Anzahl der Trainingsepochen\n",
    "for epoch in range(num_epochs):\n",
    "\n",
    "    # reset des mini-batch Zählers\n",
    "    mini_batch_count = 0\n",
    "    \n",
    "    # versetzen des Netzwerks in den Trainingsmodus\n",
    "    encoder_train.train()\n",
    "    decoder_train.train()\n",
    "\n",
    "    # starte die Trainingszeitmessung\n",
    "    start_time = dt.datetime.now()\n",
    "        \n",
    "    # iteriere über die Anzahl der Mini-Batches per Trainingsepoche\n",
    "    for mini_batch_data in dataloader:\n",
    "\n",
    "        # erhöhung des mini-batch Zählers\n",
    "        mini_batch_count += 1\n",
    "\n",
    "        # konvertiere die Mini-Batch Daten nach autograd\n",
    "        mini_batch_torch = autograd.Variable(mini_batch_data)\n",
    "\n",
    "        # =================== (1) Vorwärtsverarbeitung ===================================\n",
    "\n",
    "        # durchführen der Vorwärtsverarbeitung\n",
    "        z_representation = encoder_train(mini_batch_torch) # enkodierung der mini-batch Daten\n",
    "        mini_batch_reconstruction = decoder_train(z_representation) # dekodierung der mini-batch Daten\n",
    "        \n",
    "        # =================== (2) Berechnung des Rekonstruktionsfehlers ====================\n",
    "\n",
    "        # berechnung des Rekonstruktionsfehlers\n",
    "        reconstruction_loss = loss_function(mini_batch_reconstruction, mini_batch_torch)\n",
    "        \n",
    "        # =================== (3) Rückwärtsverarbeitung ==================================\n",
    "\n",
    "        # reset der Modellgradienten\n",
    "        decoder_optimizer.zero_grad()\n",
    "        encoder_optimizer.zero_grad()\n",
    "\n",
    "        # durchführen der Rückwärtsverarbeitung\n",
    "        reconstruction_loss.backward()\n",
    "        \n",
    "        # =================== (4) Update der Modellparameter ========================\n",
    "\n",
    "        # update der Modellparameter\n",
    "        decoder_optimizer.step()\n",
    "        encoder_optimizer.step()\n",
    "\n",
    "        # =================== Monitoring des Trainingsfortschritts ==========================\n",
    "\n",
    "        # ausgabe des Rekonstruktionsfehlers nach jedem 1000-ten Mini-Batch\n",
    "        if mini_batch_count % 1000 == 0:\n",
    "        \n",
    "            # ausgabe des Mini-Batch Rekonstruktionsfehlers\n",
    "            now = dt.datetime.utcnow().strftime(\"%Y%m%d-%H:%M:%S\")\n",
    "            end_time = dt.datetime.now() - start_time\n",
    "            print('[LOG {}] training status, epoch: [{:04}/{:04}], batch: {:04}, loss: {}, time required: {}'.format(now, (epoch+1), num_epochs, mini_batch_count, np.round(reconstruction_loss.item(), 4), end_time))\n",
    "\n",
    "            # resete die Trainingszeitmessing\n",
    "            start_time = dt.datetime.now()\n",
    "\n",
    "    # =================== Evaluation der Modellperformance =============================\n",
    "    \n",
    "    # versetzen des Netzwerks in den Evaluationsmodus\n",
    "    encoder_train.eval()\n",
    "    decoder_train.eval()\n",
    "\n",
    "    # rekonstruktion der enkodierten Gesamtdaten\n",
    "    reconstruction = decoder_train(encoder_train(data))\n",
    "    \n",
    "    # berechnung des Rekonstruktionsfehlers über den Gesamtdatenbestand\n",
    "    reconstruction_loss_all = loss_function(reconstruction, data)\n",
    "            \n",
    "    # logging des Rekonstruktionsfehlers über den Gesamtdatenbestand\n",
    "    losses.extend([reconstruction_loss_all.item()])\n",
    "    \n",
    "    # ausgabe des Rekonstruktionsfehlers über den Gesamtdatenbestand\n",
    "    now = dt.datetime.utcnow().strftime(\"%Y%m%d-%H:%M:%S\")\n",
    "    print('[LOG {}] training status, epoch: [{:04}/{:04}], loss: {:.10f}'.format(now, (epoch+1), num_epochs, reconstruction_loss_all.item()))\n",
    "\n",
    "    # =================== Speichern eines Kontrollpunkts ============================\n",
    "    \n",
    "    # speichern des Encoder Kontrollpunktes\n",
    "    encoder_model_name = \"ep_{}_encoder_model.pth\".format((epoch+1))\n",
    "    torch.save(encoder_train.state_dict(), os.path.join(\"./04_models\", encoder_model_name))\n",
    "\n",
    "    # speichern des Decoder Kontrollpunktes\n",
    "    decoder_model_name = \"ep_{}_decoder_model.pth\".format((epoch+1))\n",
    "    torch.save(decoder_train.state_dict(), os.path.join(\"./04_models\", decoder_model_name))"
   ]
  },
  {
   "cell_type": "markdown",
   "metadata": {},
   "source": [
    "Auf Grundlage der erzeugten Ausgabe im Trainingsverlauf lässt sich beobachten, dass der Rekonstruktionsfehler mit fortschreitendem Training des Modells kontinuierlich abnimmt.\n",
    "\n",
    "Visualisierung des Rekonstruktionsfehlers pro Trainingsepoche:"
   ]
  },
  {
   "cell_type": "code",
   "execution_count": 34,
   "metadata": {},
   "outputs": [
    {
     "data": {
      "image/png": "[encoded data removed]",
      "text/plain": [
       "<Figure size 432x288 with 1 Axes>"
      ]
     },
     "metadata": {
      "needs_background": "light"
     },
     "output_type": "display_data"
    }
   ],
   "source": [
    "# initialisierung des Plots\n",
    "fig, ax = plt.subplots()\n",
    "\n",
    "# zeichnen des Rekonstruktionsfehlers mit fortschreitendem Training\n",
    "plt.plot(range(0, len(losses)), losses)\n",
    "\n",
    "# hinzufügen der Achsenbeschriftungen\n",
    "plt.xlabel('[Trainingsepoche]')\n",
    "plt.ylabel('[Rekonstruktionsfehler]')\n",
    "\n",
    "# setzen des Wertebereichs der x-Achse\n",
    "plt.xlim([0, len(losses)])\n",
    "\n",
    "# hinzufügen des Titels\n",
    "plt.title('Training Performance');"
   ]
  },
  {
   "cell_type": "markdown",
   "metadata": {},
   "source": [
    "Es lässt sich beobachten, dass der Rekonstruktionsfehler bereits nach 5 Trainingsepochen deutlich reduziert werden konnte. Dies deutet darauf hin, dass das Neuronale Autoencoder Netzwerk in der Lage ist kontinuierlich mehr über die inherente Struktur und Zusammenhänge der in den Buchungen enthaltenen Merkmale zu lernen.\n",
    "\n",
    "Aus der Visualisierung lässt sich erkennen, dass das Modell wahrscheinlich noch ein paar Epochen mehr trainiert werden könnte. Der Rekonstruktions- fehler scheint mit zunehmenden Training immer noch abzunehmen bzw. konvergiert noch nicht. Um etwas Zeit zu sparen, werden wir nun das Lab mit einem über 20 Trainingsepochen vortrainierten Modell fortsetzen."
   ]
  },
  {
   "cell_type": "markdown",
   "metadata": {},
   "source": [
    "#### 4.3. Anwendung des trainierten Modells"
   ]
  },
  {
   "cell_type": "markdown",
   "metadata": {},
   "source": [
    "Nach erfolgreichem Modelltraining möchten wir das erlernte Modell über die Zusammenhänge in den Buchungen nun  nutzen, um Anomalien innerhalb der Grundgesamtheit an Buchungen zu erkennen. Hierzu werden wir zunächst ein bereits über 20 Trainingsepochen trainiertes Modell laden und die Rekonstruktionsfähigkeit des Modells auf dem gesamten Datensatz zu bewerten.\n",
    "\n",
    "Das vortrainierte Modell wurde im gleichen Unterverzeichnis wie die übrigen Modelle gespeichert und kann durch Ausführen der Code-Zelle unten in das Notebook geladen werden: "
   ]
  },
  {
   "cell_type": "code",
   "execution_count": 35,
   "metadata": {},
   "outputs": [],
   "source": [
    "# setzen der zu ladenden Kontrollpunkt-Dateinamen\n",
    "encoder_model_name = \"ep_20_encoder_model.pth\"\n",
    "decoder_model_name = \"ep_20_decoder_model.pth\"\n",
    "\n",
    "# initialisierung de\n",
    "encoder_eval = encoder()\n",
    "decoder_eval = decoder()\n",
    "\n",
    "# laden der Modellparameter\n",
    "encoder_eval.load_state_dict(torch.load(os.path.join(\"04_models\", encoder_model_name)))\n",
    "decoder_eval.load_state_dict(torch.load(os.path.join(\"04_models\", decoder_model_name)));"
   ]
  },
  {
   "cell_type": "markdown",
   "metadata": {},
   "source": [
    "Anwendung und Evaluation des Modells zur Ermittlung der Rekonstruktion aller Buchungen:"
   ]
  },
  {
   "cell_type": "code",
   "execution_count": 36,
   "metadata": {},
   "outputs": [],
   "source": [
    "# konvertiere die Buchungsdaten nach autograd\n",
    "data = autograd.Variable(torch_dataset)\n",
    "\n",
    "# versetzen des Netzwerks in den Evaluationsmodus\n",
    "encoder_eval.eval()\n",
    "decoder_eval.eval()\n",
    "\n",
    "# rekonstruktion der Grundgesamtheit aller Buchungen\n",
    "reconstruction = decoder_eval(encoder_eval(data))"
   ]
  },
  {
   "cell_type": "markdown",
   "metadata": {},
   "source": [
    "Berechnung der individuellen Rekonstruktionsfehler der einzelnen Buchungen:"
   ]
  },
  {
   "cell_type": "code",
   "execution_count": 37,
   "metadata": {},
   "outputs": [
    {
     "name": "stdout",
     "output_type": "stream",
     "text": [
      "[LOG 20200111-11:14:34] collected individual reconstruction loss of: 000000/533009 transactions\n",
      "[LOG 20200111-11:14:39] collected individual reconstruction loss of: 100000/533009 transactions\n",
      "[LOG 20200111-11:14:43] collected individual reconstruction loss of: 200000/533009 transactions\n",
      "[LOG 20200111-11:14:48] collected individual reconstruction loss of: 300000/533009 transactions\n",
      "[LOG 20200111-11:14:53] collected individual reconstruction loss of: 400000/533009 transactions\n",
      "[LOG 20200111-11:14:57] collected individual reconstruction loss of: 500000/533009 transactions\n"
     ]
    }
   ],
   "source": [
    "# initialisierung der individuellen Rekonstruktionsfehler pro Buchung\n",
    "reconstruction_loss_transaction = np.zeros(reconstruction.size()[0])\n",
    "\n",
    "# iteration über die individuellen Buchungen\n",
    "for i in range(0, reconstruction.size()[0]):\n",
    "\n",
    "    # ermittlung des Rekonstruktionsfehlers pro Buchung\n",
    "    reconstruction_loss_transaction[i] = loss_function(reconstruction[i], data[i]).item()\n",
    "\n",
    "    if(i % 100000 == 0):\n",
    "\n",
    "        ### ausgabe des Fortschritts der ermittelten Rekonstruktionsfehler\n",
    "        now = dt.datetime.utcnow().strftime(\"%Y%m%d-%H:%M:%S\")\n",
    "        print('[LOG {}] collected individual reconstruction loss of: {:06}/{:06} transactions'.format(now, i, reconstruction.size()[0]))\n",
    "        "
   ]
  },
  {
   "cell_type": "markdown",
   "metadata": {},
   "source": [
    "Visualisierung der individuallen Rekonstruktionsfehler pro Buchung:"
   ]
  },
  {
   "cell_type": "code",
   "execution_count": 38,
   "metadata": {},
   "outputs": [
    {
     "data": {
      "image/png": "[encoded data removed]",
      "text/plain": [
       "<Figure size 432x288 with 1 Axes>"
      ]
     },
     "metadata": {
      "needs_background": "light"
     },
     "output_type": "display_data"
    }
   ],
   "source": [
    "# initialisierung des Plots\n",
    "fig = plt.figure()\n",
    "ax = fig.add_subplot(111)\n",
    "\n",
    "# zuordnung eines eindeutigen Buchungskennzeichens\n",
    "plot_data = np.column_stack((np.arange(len(reconstruction_loss_transaction)), reconstruction_loss_transaction))\n",
    "\n",
    "# filtern der gewöhnlichen Buchungen\n",
    "regular_data = plot_data[label == 'regular']\n",
    "\n",
    "# filtern der globalen Anomalien\n",
    "global_outliers = plot_data[label == 'global']\n",
    "\n",
    "# filtern der lokalen Anomalien\n",
    "local_outliers = plot_data[label == 'local']\n",
    "\n",
    "# zeichne die Rekonstruktionsfehler der regulären Buchungen\n",
    "ax.scatter(regular_data[:, 0], regular_data[:, 1], c='C0', alpha=0.4, marker=\"o\", label='regular')\n",
    "\n",
    "# zeichne die Rekonstruktionsfehler der globalen Anomalien\n",
    "ax.scatter(global_outliers[:, 0], global_outliers[:, 1], c='C1', marker=\"^\", label='global')\n",
    "\n",
    "# zeichne die Rekonstruktionsfehler der lokalen Anomalien\n",
    "ax.scatter(local_outliers[:, 0], local_outliers[:, 1], c='C2', marker=\"^\", label='local')\n",
    "\n",
    "# hinzufügen der Achsenbeschriftungen\n",
    "ax.set_ylabel(\"[Rekonstruktionsfehler]\", fontsize=12)\n",
    "ax.set_xlabel(\"[Buchung]\", fontsize=12)\n",
    "\n",
    "# hinzufügen der Legende\n",
    "ax.legend(loc='best')\n",
    "\n",
    "# hinzufügen des Titels\n",
    "ax.set_title(\"Rekonstruktionsfehler pro Buchung\");"
   ]
  },
  {
   "cell_type": "markdown",
   "metadata": {},
   "source": [
    "Die Visualisierung zeigt, dass das trainierte Modell in der Lage ist, den Großteil der regulären Buchungen zu rekonstruieren. Jedoch gelingt dies nicht für die \"Anomalien\" d.h. der aufgrund Ihrer Merkmalsausprägungen bzw. Merkmalskombination ungewöhnlichen Buchungen im Datensatz. Im Ergebnis, ist es möglich Anhand des  Rekonstruktionsfehlers unüberwacht sowohl \"globale\" Anomalien (orange) als auch \"lokale\" Anomalien (grün) von den regulären Buchungen (blau) zu unterscheiden.\n",
    "\n",
    "Um diese Beobachtung weiter zu untersuchen und die obige Annahme zu bestätigen, wollen wir nun einen genaueren Blick auf die Buchungen werfen, die einen hohen Rekonstruktionsfehler aufweisen. Wir nehmen an, dass diese Journaleinträge den \"globalen\" Anomalien des ursprünglichen Datensatzes entsprechen:"
   ]
  },
  {
   "cell_type": "code",
   "execution_count": 39,
   "metadata": {},
   "outputs": [],
   "source": [
    "# hinzufügen der Label Information\n",
    "ori_dataset['label'] = label\n",
    "\n",
    "# filtern der Buchungen die einen Rekonstruktionsfehler >= 0.1 aufweisen\n",
    "global_anomalies = ori_dataset[reconstruction_loss_transaction >= 0.1]"
   ]
  },
  {
   "cell_type": "markdown",
   "metadata": {},
   "source": [
    "Erzeugung eines Analysezeitstempels:"
   ]
  },
  {
   "cell_type": "code",
   "execution_count": 40,
   "metadata": {},
   "outputs": [],
   "source": [
    "timestamp = dt.datetime.utcnow().strftime(\"%Y-%m-%d_%H-%M-%S\")"
   ]
  },
  {
   "cell_type": "markdown",
   "metadata": {},
   "source": [
    "Festlegung des Dateinamens der zu speichernden Analyseergebnisse:"
   ]
  },
  {
   "cell_type": "code",
   "execution_count": 41,
   "metadata": {},
   "outputs": [],
   "source": [
    "filename = \"B001_\" + str(timestamp) + \"_analysis_result_global_anomalies.csv\""
   ]
  },
  {
   "cell_type": "markdown",
   "metadata": {},
   "source": [
    "Festlegung des Verzeichnises der zu speichernden Analyseergebnisse:"
   ]
  },
  {
   "cell_type": "code",
   "execution_count": 42,
   "metadata": {},
   "outputs": [],
   "source": [
    "directory = os.path.join(os.getcwd(), '03_results', filename)"
   ]
  },
  {
   "cell_type": "markdown",
   "metadata": {},
   "source": [
    "Speichern der Analyseergebnisse auf dem lokalen Dateisystem:"
   ]
  },
  {
   "cell_type": "code",
   "execution_count": 43,
   "metadata": {},
   "outputs": [],
   "source": [
    "global_anomalies.to_csv(directory, sep=\",\", header=True, index=False, encoding=\"utf-8\")"
   ]
  },
  {
   "cell_type": "markdown",
   "metadata": {},
   "source": [
    "Schauen wir uns nun auch die Buchungen genauer an, die einen geringeren Rekonstruktionsfehler >= 0.02 und < 0.1 aufweisen. Wir gehen davon aus, dass diese Buchungen größtenteils den \"lokalen\" Anomalien des Originaldatensatzes entsprechen:"
   ]
  },
  {
   "cell_type": "code",
   "execution_count": 44,
   "metadata": {},
   "outputs": [],
   "source": [
    "# ausgabe der Buchungen die einen Rekonstruktionsfehler zwischen 0.02 und 0.1 aufweisen\n",
    "local_anomalies = ori_dataset[(reconstruction_loss_transaction >= 0.02) & (reconstruction_loss_transaction < 0.1)]"
   ]
  },
  {
   "cell_type": "markdown",
   "metadata": {},
   "source": [
    "Erzeugung eines Analysezeitstempels:"
   ]
  },
  {
   "cell_type": "code",
   "execution_count": 45,
   "metadata": {},
   "outputs": [],
   "source": [
    "timestamp = dt.datetime.utcnow().strftime(\"%Y-%m-%d_%H-%M-%S\")"
   ]
  },
  {
   "cell_type": "markdown",
   "metadata": {},
   "source": [
    "Festlegung des Dateinamens der zu speichernden Analyseergebnisse:"
   ]
  },
  {
   "cell_type": "code",
   "execution_count": 46,
   "metadata": {},
   "outputs": [],
   "source": [
    "filename = \"B002_\" + str(timestamp) + \"_analysis_result_global_anomalies.csv\""
   ]
  },
  {
   "cell_type": "markdown",
   "metadata": {},
   "source": [
    "Festlegung des Verzeichnises der zu speichernden Analyseergebnisse:"
   ]
  },
  {
   "cell_type": "code",
   "execution_count": 47,
   "metadata": {},
   "outputs": [],
   "source": [
    "directory = os.path.join(os.getcwd(), '03_results', filename)"
   ]
  },
  {
   "cell_type": "markdown",
   "metadata": {},
   "source": [
    "Speichern der Analyseergebnisse auf dem lokalen Dateisystem:"
   ]
  },
  {
   "cell_type": "code",
   "execution_count": 48,
   "metadata": {},
   "outputs": [],
   "source": [
    "local_anomalies.to_csv(directory, sep=\",\", header=True, index=False, encoding=\"utf-8\")"
   ]
  },
  {
   "cell_type": "markdown",
   "metadata": {},
   "source": [
    "### Übungen:"
   ]
  },
  {
   "cell_type": "markdown",
   "metadata": {},
   "source": [
    "Wir empfehlen die Durchführung der nachfolgenden Übungen im Rahmen das Labs:\n",
    "\n",
    "**1. Analysieren Sie das Detektionsergebnis für verschiedene Netzwerkarchitekturen.**\n",
    "\n",
    "> Analysieren Sie die Funktionsweise von Neuronalen Autoencoder Netzen indem Sie weitere d.h. \"flachere\" und \"tiefere\" Netzarchitekturen trainieren. Dies kann in PyTorch durch das entfernen bzw. hinzufügen von Neuronenschichten der in Kapitel 4.2. vorgestellten Implementierung erfolgen. Evaluieren Sie Ihre Architekturen in Bezug auf (1) Trainingsdauer, (2) Rekonstruktionsfehler und (3) Erkennung der Anomalien innerhalb des Datensatzes. Extrahieren Sie abschließend Ihre Analyseergebnisse in gesonderte CSV-Datei für die ggf. nachgelagerte Einzelfallprüfung."
   ]
  },
  {
   "cell_type": "code",
   "execution_count": 49,
   "metadata": {},
   "outputs": [],
   "source": [
    "# ***************************************************\n",
    "# Bitte geben Sie Ihre Lösung in dieses Feld ein\n",
    "# ***************************************************"
   ]
  },
  {
   "cell_type": "markdown",
   "metadata": {},
   "source": [
    "**2. Analysieren Sie das Detektionsergebnis für verschiedene Arten von Anomalien.**\n",
    "\n",
    "> Analysieren Sie die Funktionsweise von Neuronalen Autoencoder Netzen indem Sie weitere Anomalien in den Datensatz indizieren. Dies kann z.B. im Rahmen der in Kapitel 3. vorgestellten Datenaufbereitung durch den Pandas Aufruf `df.loc[-1]` erfolgen. Evaluieren Sie Ihre Architekturen in Bezug auf die Erkennung der hinzugefügten Anomalien. Extrahieren Sie abschließend Ihre Analyseergebnisse in gesonderte CSV-Datei für die ggf. nachgelagerte Einzelfallprüfung."
   ]
  },
  {
   "cell_type": "code",
   "execution_count": 50,
   "metadata": {},
   "outputs": [],
   "source": [
    "# ***************************************************\n",
    "# Bitte geben Sie Ihre Lösung in dieses Feld ein\n",
    "# ***************************************************"
   ]
  },
  {
   "cell_type": "markdown",
   "metadata": {},
   "source": [
    "### Zusammenfassung:"
   ]
  },
  {
   "cell_type": "markdown",
   "metadata": {},
   "source": [
    "In diesem Lab wurde eine schrittweise Einführung in die Verwendung maschineller Lernverfahren im Rahmen der revisorischen Datenanalyse vorgestellt. Hierbei wurde im Besonderen die **(1) Architektur**, das **(2) Training** und **(3) Analysedurchführung** von Neuronalen Autoencoder Netzen behandelt. Das in diesem Lab präsentierte Analysevorgehen kann einen Ausgangspunkt für komplexere und maßgeschneiderte Analysen darstellen."
   ]
  },
  {
   "cell_type": "markdown",
   "metadata": {
    "collapsed": true
   },
   "source": [
    "### Referenzen:"
   ]
  },
  {
   "cell_type": "markdown",
   "metadata": {
    "collapsed": true
   },
   "source": [
    "[1] E. A. Lopez-Rojas , A. Elmir, and S. Axelsson, \"PaySim: A financial mobile money simulator for fraud detection\", In: The 28th European Modeling and Simulation Symposium-EMSS, Larnaca, Cyprus, 2016.\n",
    "\n",
    "[2] G. E. Hinton, and R. R. Salakhutdinov, \"Reducing the dimensionality of data with neural networks\", science 313, no. 5786: 504-507, 2006.\n",
    "\n",
    "[3] X. Glorot and Y. Bengio, \"Understanding the difficulty of training deep feedforward neural networks\", Proceedings of the 13th International Conference on Artificial Intelligence and Statistics (AISTATS), 9:249–256, 2010.\n",
    "\n",
    "[4] B. Xu, N. Wang, T. Chen, and M. Li, \"Empirical Evaluation of Rectified Activations in Convolution Network\", ICML Deep Learning Workshop, 2015.\n",
    "\n",
    "[5] D. P. Kingma and J. Ba, \"Adam: A method for stochastic optimization\", International Conference on Learning Representations (ICLR). 2015."
   ]
  }
 ],
 "metadata": {
  "kernelspec": {
   "display_name": "Python 3",
   "language": "python",
   "name": "python3"
  },
  "language_info": {
   "codemirror_mode": {
    "name": "ipython",
    "version": 3
   },
   "file_extension": ".py",
   "mimetype": "text/x-python",
   "name": "python",
   "nbconvert_exporter": "python",
   "pygments_lexer": "ipython3",
   "version": "3.7.4"
  }
 },
 "nbformat": 4,
 "nbformat_minor": 2
}
